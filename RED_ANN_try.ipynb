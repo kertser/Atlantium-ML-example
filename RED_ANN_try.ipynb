{
 "cells": [
  {
   "cell_type": "code",
   "execution_count": 1,
   "metadata": {
    "collapsed": true,
    "pycharm": {
     "name": "#%%\n"
    }
   },
   "outputs": [],
   "source": [
    "import pandas as pd\n",
    "from sklearn.model_selection import train_test_split\n",
    "from tensorflow.keras.wrappers.scikit_learn import KerasRegressor\n",
    "import matplotlib.pyplot as plt\n",
    "import numpy as np\n",
    "\n",
    "from sklearn.model_selection import GridSearchCV\n",
    "#from sklearn.model_selection import HalvingGridSearchCV\n",
    "from keras.callbacks import EarlyStopping\n",
    "from functools import reduce"
   ]
  },
  {
   "cell_type": "code",
   "execution_count": 2,
   "outputs": [],
   "source": [
    "from tensorflow.keras.models import Sequential\n",
    "from tensorflow.keras.layers import *\n",
    "from tensorflow.keras.losses import MeanSquaredError\n",
    "from tensorflow.keras.metrics import RootMeanSquaredError\n",
    "from tensorflow.keras.optimizers import Adam\n",
    "from keras.regularizers import l2"
   ],
   "metadata": {
    "collapsed": false,
    "pycharm": {
     "name": "#%%\n"
    }
   }
  },
  {
   "cell_type": "code",
   "execution_count": 3,
   "outputs": [],
   "source": [
    "df = pd.read_csv('Raw_Data.csv',header=0).round(1)"
   ],
   "metadata": {
    "collapsed": false,
    "pycharm": {
     "name": "#%%\n"
    }
   }
  },
  {
   "cell_type": "code",
   "execution_count": 4,
   "outputs": [
    {
     "data": {
      "text/plain": "   %T254  %T215   Flow   UVS  Actual Power  N   RED\n0   88.6   63.3  257.6  23.2           6.0  2  71.0\n1   88.6   63.3  257.6  23.3           6.0  2  72.8\n2   88.6   63.3  257.6  23.3           6.0  2  73.6\n3   93.0   82.8  189.1  24.6           3.5  2  98.1\n4   93.0   82.8  189.1  24.7           3.5  2  98.8",
      "text/html": "<div>\n<style scoped>\n    .dataframe tbody tr th:only-of-type {\n        vertical-align: middle;\n    }\n\n    .dataframe tbody tr th {\n        vertical-align: top;\n    }\n\n    .dataframe thead th {\n        text-align: right;\n    }\n</style>\n<table border=\"1\" class=\"dataframe\">\n  <thead>\n    <tr style=\"text-align: right;\">\n      <th></th>\n      <th>%T254</th>\n      <th>%T215</th>\n      <th>Flow</th>\n      <th>UVS</th>\n      <th>Actual Power</th>\n      <th>N</th>\n      <th>RED</th>\n    </tr>\n  </thead>\n  <tbody>\n    <tr>\n      <th>0</th>\n      <td>88.6</td>\n      <td>63.3</td>\n      <td>257.6</td>\n      <td>23.2</td>\n      <td>6.0</td>\n      <td>2</td>\n      <td>71.0</td>\n    </tr>\n    <tr>\n      <th>1</th>\n      <td>88.6</td>\n      <td>63.3</td>\n      <td>257.6</td>\n      <td>23.3</td>\n      <td>6.0</td>\n      <td>2</td>\n      <td>72.8</td>\n    </tr>\n    <tr>\n      <th>2</th>\n      <td>88.6</td>\n      <td>63.3</td>\n      <td>257.6</td>\n      <td>23.3</td>\n      <td>6.0</td>\n      <td>2</td>\n      <td>73.6</td>\n    </tr>\n    <tr>\n      <th>3</th>\n      <td>93.0</td>\n      <td>82.8</td>\n      <td>189.1</td>\n      <td>24.6</td>\n      <td>3.5</td>\n      <td>2</td>\n      <td>98.1</td>\n    </tr>\n    <tr>\n      <th>4</th>\n      <td>93.0</td>\n      <td>82.8</td>\n      <td>189.1</td>\n      <td>24.7</td>\n      <td>3.5</td>\n      <td>2</td>\n      <td>98.8</td>\n    </tr>\n  </tbody>\n</table>\n</div>"
     },
     "execution_count": 4,
     "metadata": {},
     "output_type": "execute_result"
    }
   ],
   "source": [
    "#Original Data\n",
    "df.head()"
   ],
   "metadata": {
    "collapsed": false,
    "pycharm": {
     "name": "#%%\n"
    }
   }
  },
  {
   "cell_type": "code",
   "execution_count": 5,
   "outputs": [],
   "source": [
    "#Synthetic data for 1 and 2 lamps - based on UV dose multiplication\n",
    "df1 = df.loc[df['N']==1].copy()\n",
    "df1.loc[:, 'RED']*=2\n",
    "df1.loc[:, 'N']=2\n",
    "\n",
    "df2 = df.loc[df['N']==2].copy()\n",
    "df2.loc[:, 'RED']/=2\n",
    "df2.loc[:, 'N']=1\n",
    "\n",
    "df=df.append(df1,ignore_index=True)\n",
    "df=df.append(df2,ignore_index=True)"
   ],
   "metadata": {
    "collapsed": false,
    "pycharm": {
     "name": "#%%\n"
    }
   }
  },
  {
   "cell_type": "code",
   "execution_count": 6,
   "outputs": [],
   "source": [
    "# Duplicate the situation for 3 and 4 lamps:\n",
    "df_3 = df.loc[df['N']==1].copy()\n",
    "df2.loc[:, 'RED']*=3\n",
    "df2.loc[:, 'N']=3\n",
    "\n",
    "df_4 = df.loc[df['N']==2].copy()\n",
    "df2.loc[:, 'RED']*=2\n",
    "df2.loc[:, 'N']=4\n",
    "\n",
    "df=df.append(df_3,ignore_index=True)\n",
    "df=df.append(df_4,ignore_index=True)"
   ],
   "metadata": {
    "collapsed": false,
    "pycharm": {
     "name": "#%%\n"
    }
   }
  },
  {
   "cell_type": "code",
   "execution_count": 7,
   "outputs": [
    {
     "data": {
      "text/plain": "<AxesSubplot:xlabel='%T254', ylabel='%T215'>"
     },
     "execution_count": 7,
     "metadata": {},
     "output_type": "execute_result"
    },
    {
     "data": {
      "text/plain": "<Figure size 432x288 with 1 Axes>",
      "image/png": "[encoded data removed]"
     },
     "metadata": {
      "needs_background": "light"
     },
     "output_type": "display_data"
    }
   ],
   "source": [
    "df.plot.scatter(x='%T254',y='%T215')"
   ],
   "metadata": {
    "collapsed": false,
    "pycharm": {
     "name": "#%%\n"
    }
   }
  },
  {
   "cell_type": "code",
   "execution_count": 8,
   "outputs": [],
   "source": [
    "# Transform UVT into exp(-UVT/100)\n",
    "df['%T254'] = np.exp(-df['%T254']/100)\n",
    "df['%T215'] = np.exp(-df['%T215']/100)"
   ],
   "metadata": {
    "collapsed": false,
    "pycharm": {
     "name": "#%%\n"
    }
   }
  },
  {
   "cell_type": "code",
   "execution_count": 9,
   "outputs": [],
   "source": [
    "from sklearn.preprocessing import StandardScaler\n",
    "sc = StandardScaler()\n",
    "scaled_features = sc.fit_transform(df.values)\n",
    "#restore column names\n",
    "scaled_features_df = pd.DataFrame(scaled_features, index=df.index, columns=df.columns)"
   ],
   "metadata": {
    "collapsed": false,
    "pycharm": {
     "name": "#%%\n"
    }
   }
  },
  {
   "cell_type": "code",
   "execution_count": 10,
   "outputs": [],
   "source": [
    "X = scaled_features_df.drop('RED',axis=1)\n",
    "y = scaled_features_df['RED']"
   ],
   "metadata": {
    "collapsed": false,
    "pycharm": {
     "name": "#%%\n"
    }
   }
  },
  {
   "cell_type": "code",
   "execution_count": 11,
   "outputs": [],
   "source": [
    "X_train, X_test, y_train, y_test = train_test_split(X, y, test_size=0.4, random_state=0)\n",
    "X_train, X_val, y_train, y_val = train_test_split(X_train, y_train, test_size=0.5, random_state=0)"
   ],
   "metadata": {
    "collapsed": false,
    "pycharm": {
     "name": "#%%\n"
    }
   }
  },
  {
   "cell_type": "code",
   "execution_count": 12,
   "outputs": [],
   "source": [
    "### HyperParameters:\n",
    "Epochs = 100\n",
    "Patience = 10\n",
    "\n",
    "#Number of Features (may be worth to try PCA to reduce\n",
    "Features = X_train.shape[1]"
   ],
   "metadata": {
    "collapsed": false,
    "pycharm": {
     "name": "#%%\n"
    }
   }
  },
  {
   "cell_type": "code",
   "execution_count": 13,
   "outputs": [],
   "source": [
    "# Callbacks\n",
    "#es = EarlyStopping(monitor='val_loss', mode='min', verbose=1, patience=Patience)\n",
    "es = EarlyStopping(monitor='root_mean_squared_error', mode='min', verbose=1, patience=Patience)"
   ],
   "metadata": {
    "collapsed": false,
    "pycharm": {
     "name": "#%%\n"
    }
   }
  },
  {
   "cell_type": "code",
   "execution_count": 14,
   "outputs": [],
   "source": [
    "### Experimental ###\n",
    "def createModel(Dense1, Dense2, LearningRate, dropout, GNoise, L2regularization, Bias_regularization):\n",
    "    model = Sequential()\n",
    "    model.add(InputLayer(input_shape=(Features,)))\n",
    "    model.add(GaussianNoise(GNoise))\n",
    "    model.add(Dense(Dense1, kernel_regularizer=l2(L2regularization), bias_regularizer=l2(Bias_regularization), activation='softmax'))\n",
    "    model.add(Dropout(dropout))\n",
    "    model.add(Dense(Dense2, 'softmax'))\n",
    "    model.add(Dense(1, 'linear'))\n",
    "    #model1.summary()\n",
    "    model.compile(loss=MeanSquaredError(), optimizer=Adam(learning_rate=LearningRate), metrics=[RootMeanSquaredError()])\n",
    "    return model"
   ],
   "metadata": {
    "collapsed": false,
    "pycharm": {
     "name": "#%%\n"
    }
   }
  },
  {
   "cell_type": "code",
   "execution_count": 15,
   "outputs": [
    {
     "name": "stdout",
     "output_type": "stream",
     "text": [
      "Total fits per parametric grid = 900\n",
      "Fitting 5 folds for each of 900 candidates, totalling 4500 fits\n"
     ]
    },
    {
     "name": "stderr",
     "output_type": "stream",
     "text": [
      "C:\\Users\\Mike\\anaconda3\\envs\\ML\\lib\\site-packages\\joblib\\externals\\loky\\process_executor.py:688: UserWarning: A worker stopped while some jobs were given to the executor. This can be caused by a too short worker timeout or by a memory leak.\n",
      "  warnings.warn(\n"
     ]
    },
    {
     "name": "stdout",
     "output_type": "stream",
     "text": [
      "Epoch 1/100\n",
      "6/6 [==============================] - 1s 97ms/step - loss: 1.2113 - root_mean_squared_error: 1.0845 - val_loss: 0.7983 - val_root_mean_squared_error: 0.8767\n",
      "Epoch 2/100\n",
      "6/6 [==============================] - 0s 5ms/step - loss: 1.1039 - root_mean_squared_error: 1.0373 - val_loss: 0.7631 - val_root_mean_squared_error: 0.8584\n",
      "Epoch 3/100\n",
      "6/6 [==============================] - 0s 5ms/step - loss: 1.0532 - root_mean_squared_error: 1.0130 - val_loss: 0.7441 - val_root_mean_squared_error: 0.8457\n",
      "Epoch 4/100\n",
      "6/6 [==============================] - 0s 5ms/step - loss: 1.0100 - root_mean_squared_error: 0.9899 - val_loss: 0.6998 - val_root_mean_squared_error: 0.8165\n",
      "Epoch 5/100\n",
      "6/6 [==============================] - 0s 5ms/step - loss: 0.9599 - root_mean_squared_error: 0.9618 - val_loss: 0.6362 - val_root_mean_squared_error: 0.7733\n",
      "Epoch 6/100\n",
      "6/6 [==============================] - 0s 5ms/step - loss: 0.8982 - root_mean_squared_error: 0.9262 - val_loss: 0.5791 - val_root_mean_squared_error: 0.7314\n",
      "Epoch 7/100\n",
      "6/6 [==============================] - 0s 5ms/step - loss: 0.8458 - root_mean_squared_error: 0.8945 - val_loss: 0.5256 - val_root_mean_squared_error: 0.6910\n",
      "Epoch 8/100\n",
      "6/6 [==============================] - 0s 5ms/step - loss: 0.7681 - root_mean_squared_error: 0.8480 - val_loss: 0.4759 - val_root_mean_squared_error: 0.6526\n",
      "Epoch 9/100\n",
      "6/6 [==============================] - 0s 5ms/step - loss: 0.6891 - root_mean_squared_error: 0.7992 - val_loss: 0.4338 - val_root_mean_squared_error: 0.6192\n",
      "Epoch 10/100\n",
      "6/6 [==============================] - 0s 5ms/step - loss: 0.6433 - root_mean_squared_error: 0.7703 - val_loss: 0.4014 - val_root_mean_squared_error: 0.5937\n",
      "Epoch 11/100\n",
      "6/6 [==============================] - 0s 5ms/step - loss: 0.5630 - root_mean_squared_error: 0.7174 - val_loss: 0.3757 - val_root_mean_squared_error: 0.5737\n",
      "Epoch 12/100\n",
      "6/6 [==============================] - 0s 5ms/step - loss: 0.5656 - root_mean_squared_error: 0.7213 - val_loss: 0.3705 - val_root_mean_squared_error: 0.5723\n",
      "Epoch 13/100\n",
      "6/6 [==============================] - 0s 5ms/step - loss: 0.5545 - root_mean_squared_error: 0.7158 - val_loss: 0.4134 - val_root_mean_squared_error: 0.6095\n",
      "Epoch 14/100\n",
      "6/6 [==============================] - 0s 5ms/step - loss: 0.5824 - root_mean_squared_error: 0.7342 - val_loss: 0.4154 - val_root_mean_squared_error: 0.6075\n",
      "Epoch 15/100\n",
      "6/6 [==============================] - 0s 5ms/step - loss: 0.5065 - root_mean_squared_error: 0.6770 - val_loss: 0.3237 - val_root_mean_squared_error: 0.5226\n",
      "Epoch 16/100\n",
      "6/6 [==============================] - 0s 5ms/step - loss: 0.4996 - root_mean_squared_error: 0.6702 - val_loss: 0.3020 - val_root_mean_squared_error: 0.5034\n",
      "Epoch 17/100\n",
      "6/6 [==============================] - 0s 5ms/step - loss: 0.4075 - root_mean_squared_error: 0.6005 - val_loss: 0.3127 - val_root_mean_squared_error: 0.5186\n",
      "Epoch 18/100\n",
      "6/6 [==============================] - 0s 5ms/step - loss: 0.5013 - root_mean_squared_error: 0.6773 - val_loss: 0.3512 - val_root_mean_squared_error: 0.5566\n",
      "Epoch 19/100\n",
      "6/6 [==============================] - 0s 5ms/step - loss: 0.4916 - root_mean_squared_error: 0.6710 - val_loss: 0.3259 - val_root_mean_squared_error: 0.5329\n",
      "Epoch 20/100\n",
      "6/6 [==============================] - 0s 5ms/step - loss: 0.3774 - root_mean_squared_error: 0.5784 - val_loss: 0.2744 - val_root_mean_squared_error: 0.4794\n",
      "Epoch 21/100\n",
      "6/6 [==============================] - 0s 5ms/step - loss: 0.4210 - root_mean_squared_error: 0.6131 - val_loss: 0.2705 - val_root_mean_squared_error: 0.4739\n",
      "Epoch 22/100\n",
      "6/6 [==============================] - 0s 5ms/step - loss: 0.4420 - root_mean_squared_error: 0.6296 - val_loss: 0.2686 - val_root_mean_squared_error: 0.4732\n",
      "Epoch 23/100\n",
      "6/6 [==============================] - 0s 5ms/step - loss: 0.4127 - root_mean_squared_error: 0.6073 - val_loss: 0.2845 - val_root_mean_squared_error: 0.4918\n",
      "Epoch 24/100\n",
      "6/6 [==============================] - 0s 5ms/step - loss: 0.3958 - root_mean_squared_error: 0.5946 - val_loss: 0.2673 - val_root_mean_squared_error: 0.4750\n",
      "Epoch 25/100\n",
      "6/6 [==============================] - 0s 5ms/step - loss: 0.4115 - root_mean_squared_error: 0.6081 - val_loss: 0.2563 - val_root_mean_squared_error: 0.4627\n",
      "Epoch 26/100\n",
      "6/6 [==============================] - 0s 5ms/step - loss: 0.3853 - root_mean_squared_error: 0.5851 - val_loss: 0.2846 - val_root_mean_squared_error: 0.4903\n",
      "Epoch 27/100\n",
      "6/6 [==============================] - 0s 5ms/step - loss: 0.3800 - root_mean_squared_error: 0.5793 - val_loss: 0.2850 - val_root_mean_squared_error: 0.4904\n",
      "Epoch 28/100\n",
      "6/6 [==============================] - 0s 5ms/step - loss: 0.3675 - root_mean_squared_error: 0.5683 - val_loss: 0.2756 - val_root_mean_squared_error: 0.4809\n",
      "Epoch 29/100\n",
      "6/6 [==============================] - 0s 5ms/step - loss: 0.4183 - root_mean_squared_error: 0.6114 - val_loss: 0.2557 - val_root_mean_squared_error: 0.4599\n",
      "Epoch 30/100\n",
      "6/6 [==============================] - 0s 5ms/step - loss: 0.4337 - root_mean_squared_error: 0.6242 - val_loss: 0.2503 - val_root_mean_squared_error: 0.4545\n",
      "Epoch 31/100\n",
      "6/6 [==============================] - 0s 5ms/step - loss: 0.3726 - root_mean_squared_error: 0.5736 - val_loss: 0.2548 - val_root_mean_squared_error: 0.4599\n",
      "Epoch 32/100\n",
      "6/6 [==============================] - 0s 5ms/step - loss: 0.3649 - root_mean_squared_error: 0.5670 - val_loss: 0.2602 - val_root_mean_squared_error: 0.4654\n",
      "Epoch 33/100\n",
      "6/6 [==============================] - 0s 5ms/step - loss: 0.3819 - root_mean_squared_error: 0.5813 - val_loss: 0.2427 - val_root_mean_squared_error: 0.4451\n",
      "Epoch 34/100\n",
      "6/6 [==============================] - 0s 5ms/step - loss: 0.2842 - root_mean_squared_error: 0.4893 - val_loss: 0.2374 - val_root_mean_squared_error: 0.4390\n",
      "Epoch 35/100\n",
      "6/6 [==============================] - 0s 5ms/step - loss: 0.3528 - root_mean_squared_error: 0.5553 - val_loss: 0.2512 - val_root_mean_squared_error: 0.4552\n",
      "Epoch 36/100\n",
      "6/6 [==============================] - 0s 5ms/step - loss: 0.3762 - root_mean_squared_error: 0.5766 - val_loss: 0.2313 - val_root_mean_squared_error: 0.4335\n",
      "Epoch 37/100\n",
      "6/6 [==============================] - 0s 5ms/step - loss: 0.3950 - root_mean_squared_error: 0.5930 - val_loss: 0.2456 - val_root_mean_squared_error: 0.4501\n",
      "Epoch 38/100\n",
      "6/6 [==============================] - 0s 5ms/step - loss: 0.3392 - root_mean_squared_error: 0.5445 - val_loss: 0.2346 - val_root_mean_squared_error: 0.4387\n",
      "Epoch 39/100\n",
      "6/6 [==============================] - 0s 5ms/step - loss: 0.3111 - root_mean_squared_error: 0.5189 - val_loss: 0.2431 - val_root_mean_squared_error: 0.4494\n",
      "Epoch 40/100\n",
      "6/6 [==============================] - 0s 5ms/step - loss: 0.3605 - root_mean_squared_error: 0.5655 - val_loss: 0.2364 - val_root_mean_squared_error: 0.4434\n",
      "Epoch 41/100\n",
      "6/6 [==============================] - 0s 5ms/step - loss: 0.3263 - root_mean_squared_error: 0.5355 - val_loss: 0.2201 - val_root_mean_squared_error: 0.4257\n",
      "Epoch 42/100\n",
      "6/6 [==============================] - 0s 5ms/step - loss: 0.3537 - root_mean_squared_error: 0.5612 - val_loss: 0.2135 - val_root_mean_squared_error: 0.4185\n",
      "Epoch 43/100\n",
      "6/6 [==============================] - 0s 5ms/step - loss: 0.2674 - root_mean_squared_error: 0.4790 - val_loss: 0.2297 - val_root_mean_squared_error: 0.4388\n",
      "Epoch 44/100\n",
      "6/6 [==============================] - 0s 5ms/step - loss: 0.3062 - root_mean_squared_error: 0.5189 - val_loss: 0.2524 - val_root_mean_squared_error: 0.4645\n",
      "Epoch 45/100\n",
      "6/6 [==============================] - 0s 5ms/step - loss: 0.3110 - root_mean_squared_error: 0.5238 - val_loss: 0.2014 - val_root_mean_squared_error: 0.4058\n",
      "Epoch 46/100\n",
      "6/6 [==============================] - 0s 5ms/step - loss: 0.3779 - root_mean_squared_error: 0.5837 - val_loss: 0.2285 - val_root_mean_squared_error: 0.4366\n",
      "Epoch 47/100\n",
      "6/6 [==============================] - 0s 5ms/step - loss: 0.3031 - root_mean_squared_error: 0.5151 - val_loss: 0.2239 - val_root_mean_squared_error: 0.4318\n",
      "Epoch 48/100\n",
      "6/6 [==============================] - 0s 5ms/step - loss: 0.3058 - root_mean_squared_error: 0.5179 - val_loss: 0.2391 - val_root_mean_squared_error: 0.4490\n",
      "Epoch 49/100\n",
      "6/6 [==============================] - 0s 5ms/step - loss: 0.2585 - root_mean_squared_error: 0.4704 - val_loss: 0.2253 - val_root_mean_squared_error: 0.4340\n",
      "Epoch 50/100\n",
      "6/6 [==============================] - 0s 5ms/step - loss: 0.2616 - root_mean_squared_error: 0.4743 - val_loss: 0.2080 - val_root_mean_squared_error: 0.4145\n",
      "Epoch 51/100\n",
      "6/6 [==============================] - 0s 5ms/step - loss: 0.2479 - root_mean_squared_error: 0.4603 - val_loss: 0.1970 - val_root_mean_squared_error: 0.4015\n",
      "Epoch 52/100\n",
      "6/6 [==============================] - 0s 5ms/step - loss: 0.3552 - root_mean_squared_error: 0.5653 - val_loss: 0.2452 - val_root_mean_squared_error: 0.4575\n",
      "Epoch 53/100\n",
      "6/6 [==============================] - 0s 5ms/step - loss: 0.3406 - root_mean_squared_error: 0.5519 - val_loss: 0.2341 - val_root_mean_squared_error: 0.4448\n",
      "Epoch 54/100\n",
      "6/6 [==============================] - 0s 5ms/step - loss: 0.3012 - root_mean_squared_error: 0.5143 - val_loss: 0.1973 - val_root_mean_squared_error: 0.4004\n",
      "Epoch 55/100\n",
      "6/6 [==============================] - 0s 5ms/step - loss: 0.2784 - root_mean_squared_error: 0.4918 - val_loss: 0.1933 - val_root_mean_squared_error: 0.3967\n",
      "Epoch 56/100\n",
      "6/6 [==============================] - 0s 5ms/step - loss: 0.4053 - root_mean_squared_error: 0.6078 - val_loss: 0.2148 - val_root_mean_squared_error: 0.4230\n",
      "Epoch 57/100\n",
      "6/6 [==============================] - 0s 5ms/step - loss: 0.2936 - root_mean_squared_error: 0.5075 - val_loss: 0.2095 - val_root_mean_squared_error: 0.4162\n",
      "Epoch 58/100\n",
      "6/6 [==============================] - 0s 5ms/step - loss: 0.3114 - root_mean_squared_error: 0.5244 - val_loss: 0.1989 - val_root_mean_squared_error: 0.4030\n",
      "Epoch 59/100\n",
      "6/6 [==============================] - 0s 5ms/step - loss: 0.3347 - root_mean_squared_error: 0.5459 - val_loss: 0.1963 - val_root_mean_squared_error: 0.3989\n",
      "Epoch 60/100\n",
      "6/6 [==============================] - 0s 5ms/step - loss: 0.3002 - root_mean_squared_error: 0.5127 - val_loss: 0.2075 - val_root_mean_squared_error: 0.4122\n",
      "Epoch 61/100\n",
      "6/6 [==============================] - 0s 5ms/step - loss: 0.2875 - root_mean_squared_error: 0.5000 - val_loss: 0.1990 - val_root_mean_squared_error: 0.4019\n",
      "Epoch 00061: early stopping\n"
     ]
    },
    {
     "data": {
      "text/plain": "GridSearchCV(cv=5,\n             estimator=<tensorflow.python.keras.wrappers.scikit_learn.KerasRegressor object at 0x0000016E8F1FB850>,\n             n_jobs=-1,\n             param_grid={'Bias_regularization': [0.005, 0.01, 0.02, 0.05, 0.1],\n                         'Dense1': [6, 7, 8], 'Dense2': [4, 5, 6],\n                         'GNoise': [0.1],\n                         'L2regularization': [0.005, 0.01, 0.02, 0.05, 0.1],\n                         'LearningRate': [0.005, 0.01, 0.02, 0.03],\n                         'dropout': [0.1]},\n             verbose=2)"
     },
     "execution_count": 15,
     "metadata": {},
     "output_type": "execute_result"
    }
   ],
   "source": [
    "grid = dict(Dense1 = [6,7,8],\n",
    "            Dense2 = [4,5,6],\n",
    "            LearningRate = [0.005,0.01,0.02,0.03],\n",
    "            dropout = [0.1],\n",
    "            GNoise = [0.1],\n",
    "            L2regularization = [0.005,0.01,0.02,0.05,0.1],\n",
    "            Bias_regularization = [0.005,0.01,0.02,0.05,0.1]\n",
    "            )\n",
    "\n",
    "print('Total fits per parametric grid = {}'.format(reduce(lambda x, y: x*y, [len(grid[key]) for key in grid.keys()]))) # calculate number of test-parameters\n",
    "\n",
    "estimator = KerasRegressor(build_fn=createModel)\n",
    "modelGrid = GridSearchCV(estimator = estimator, param_grid = grid, cv=5, n_jobs=-1, verbose=2)\n",
    "#modelGrid = HalvingGridSearchCV(estimator=estimator, param_grid=grid, cv=5, n_jobs=-1, verbose=2)\n",
    "modelGrid.fit(X_train,y_train, validation_data=(X_val, y_val), epochs=Epochs, callbacks=[es])"
   ],
   "metadata": {
    "collapsed": false,
    "pycharm": {
     "name": "#%%\n"
    }
   }
  },
  {
   "cell_type": "code",
   "execution_count": 16,
   "outputs": [
    {
     "name": "stdout",
     "output_type": "stream",
     "text": [
      "best score =  -0.25965909063816073\n",
      "{'Bias_regularization': 0.02, 'Dense1': 8, 'Dense2': 6, 'GNoise': 0.1, 'L2regularization': 0.005, 'LearningRate': 0.02, 'dropout': 0.1}\n",
      "Epoch 1/100\n",
      "6/6 [==============================] - 0s 40ms/step - loss: 1.1621 - root_mean_squared_error: 1.0626 - val_loss: 0.7971 - val_root_mean_squared_error: 0.8772\n",
      "Epoch 2/100\n",
      "6/6 [==============================] - 0s 5ms/step - loss: 1.1022 - root_mean_squared_error: 1.0372 - val_loss: 0.7837 - val_root_mean_squared_error: 0.8713\n",
      "Epoch 3/100\n",
      "6/6 [==============================] - 0s 5ms/step - loss: 1.0538 - root_mean_squared_error: 1.0146 - val_loss: 0.7288 - val_root_mean_squared_error: 0.8387\n",
      "Epoch 4/100\n",
      "6/6 [==============================] - 0s 5ms/step - loss: 0.9977 - root_mean_squared_error: 0.9855 - val_loss: 0.6576 - val_root_mean_squared_error: 0.7926\n",
      "Epoch 5/100\n",
      "6/6 [==============================] - 0s 5ms/step - loss: 0.9038 - root_mean_squared_error: 0.9336 - val_loss: 0.6058 - val_root_mean_squared_error: 0.7538\n",
      "Epoch 6/100\n",
      "6/6 [==============================] - 0s 5ms/step - loss: 0.8498 - root_mean_squared_error: 0.8999 - val_loss: 0.5469 - val_root_mean_squared_error: 0.7087\n",
      "Epoch 7/100\n",
      "6/6 [==============================] - 0s 5ms/step - loss: 0.7970 - root_mean_squared_error: 0.8660 - val_loss: 0.4969 - val_root_mean_squared_error: 0.6678\n",
      "Epoch 8/100\n",
      "6/6 [==============================] - 0s 5ms/step - loss: 0.7093 - root_mean_squared_error: 0.8102 - val_loss: 0.4598 - val_root_mean_squared_error: 0.6364\n",
      "Epoch 9/100\n",
      "6/6 [==============================] - 0s 5ms/step - loss: 0.6357 - root_mean_squared_error: 0.7622 - val_loss: 0.4120 - val_root_mean_squared_error: 0.5980\n",
      "Epoch 10/100\n",
      "6/6 [==============================] - 0s 5ms/step - loss: 0.6448 - root_mean_squared_error: 0.7686 - val_loss: 0.3801 - val_root_mean_squared_error: 0.5719\n",
      "Epoch 11/100\n",
      "6/6 [==============================] - 0s 5ms/step - loss: 0.5920 - root_mean_squared_error: 0.7346 - val_loss: 0.3570 - val_root_mean_squared_error: 0.5530\n",
      "Epoch 12/100\n",
      "6/6 [==============================] - 0s 5ms/step - loss: 0.5854 - root_mean_squared_error: 0.7311 - val_loss: 0.3501 - val_root_mean_squared_error: 0.5475\n",
      "Epoch 13/100\n",
      "6/6 [==============================] - 0s 5ms/step - loss: 0.5162 - root_mean_squared_error: 0.6827 - val_loss: 0.3548 - val_root_mean_squared_error: 0.5533\n",
      "Epoch 14/100\n",
      "6/6 [==============================] - 0s 5ms/step - loss: 0.4518 - root_mean_squared_error: 0.6358 - val_loss: 0.3142 - val_root_mean_squared_error: 0.5182\n",
      "Epoch 15/100\n",
      "6/6 [==============================] - 0s 5ms/step - loss: 0.4381 - root_mean_squared_error: 0.6268 - val_loss: 0.2947 - val_root_mean_squared_error: 0.5008\n",
      "Epoch 16/100\n",
      "6/6 [==============================] - 0s 5ms/step - loss: 0.4694 - root_mean_squared_error: 0.6530 - val_loss: 0.2959 - val_root_mean_squared_error: 0.5042\n",
      "Epoch 17/100\n",
      "6/6 [==============================] - 0s 5ms/step - loss: 0.4450 - root_mean_squared_error: 0.6351 - val_loss: 0.3314 - val_root_mean_squared_error: 0.5385\n",
      "Epoch 18/100\n",
      "6/6 [==============================] - 0s 5ms/step - loss: 0.4604 - root_mean_squared_error: 0.6477 - val_loss: 0.3069 - val_root_mean_squared_error: 0.5171\n",
      "Epoch 19/100\n",
      "6/6 [==============================] - 0s 5ms/step - loss: 0.3800 - root_mean_squared_error: 0.5844 - val_loss: 0.2640 - val_root_mean_squared_error: 0.4768\n",
      "Epoch 20/100\n",
      "6/6 [==============================] - 0s 5ms/step - loss: 0.4386 - root_mean_squared_error: 0.6348 - val_loss: 0.2474 - val_root_mean_squared_error: 0.4615\n",
      "Epoch 21/100\n",
      "6/6 [==============================] - 0s 5ms/step - loss: 0.3869 - root_mean_squared_error: 0.5941 - val_loss: 0.2505 - val_root_mean_squared_error: 0.4662\n",
      "Epoch 22/100\n",
      "6/6 [==============================] - 0s 5ms/step - loss: 0.3524 - root_mean_squared_error: 0.5653 - val_loss: 0.2545 - val_root_mean_squared_error: 0.4713\n",
      "Epoch 23/100\n",
      "6/6 [==============================] - 0s 5ms/step - loss: 0.4300 - root_mean_squared_error: 0.6307 - val_loss: 0.2344 - val_root_mean_squared_error: 0.4502\n",
      "Epoch 24/100\n",
      "6/6 [==============================] - 0s 5ms/step - loss: 0.3543 - root_mean_squared_error: 0.5682 - val_loss: 0.2221 - val_root_mean_squared_error: 0.4369\n",
      "Epoch 25/100\n",
      "6/6 [==============================] - 0s 5ms/step - loss: 0.2817 - root_mean_squared_error: 0.4998 - val_loss: 0.2319 - val_root_mean_squared_error: 0.4460\n",
      "Epoch 26/100\n",
      "6/6 [==============================] - 0s 5ms/step - loss: 0.4083 - root_mean_squared_error: 0.6124 - val_loss: 0.2348 - val_root_mean_squared_error: 0.4491\n",
      "Epoch 27/100\n",
      "6/6 [==============================] - 0s 5ms/step - loss: 0.2643 - root_mean_squared_error: 0.4811 - val_loss: 0.2142 - val_root_mean_squared_error: 0.4264\n",
      "Epoch 28/100\n",
      "6/6 [==============================] - 0s 5ms/step - loss: 0.2882 - root_mean_squared_error: 0.5058 - val_loss: 0.2157 - val_root_mean_squared_error: 0.4283\n",
      "Epoch 29/100\n",
      "6/6 [==============================] - 0s 5ms/step - loss: 0.3175 - root_mean_squared_error: 0.5344 - val_loss: 0.2085 - val_root_mean_squared_error: 0.4209\n",
      "Epoch 30/100\n",
      "6/6 [==============================] - 0s 5ms/step - loss: 0.2914 - root_mean_squared_error: 0.5099 - val_loss: 0.2323 - val_root_mean_squared_error: 0.4479\n",
      "Epoch 31/100\n",
      "6/6 [==============================] - 0s 5ms/step - loss: 0.4917 - root_mean_squared_error: 0.6782 - val_loss: 0.2249 - val_root_mean_squared_error: 0.4391\n",
      "Epoch 32/100\n",
      "6/6 [==============================] - 0s 5ms/step - loss: 0.2547 - root_mean_squared_error: 0.4713 - val_loss: 0.2246 - val_root_mean_squared_error: 0.4371\n",
      "Epoch 33/100\n",
      "6/6 [==============================] - 0s 5ms/step - loss: 0.2573 - root_mean_squared_error: 0.4725 - val_loss: 0.2317 - val_root_mean_squared_error: 0.4434\n",
      "Epoch 34/100\n",
      "6/6 [==============================] - 0s 5ms/step - loss: 0.3911 - root_mean_squared_error: 0.5961 - val_loss: 0.2352 - val_root_mean_squared_error: 0.4461\n",
      "Epoch 35/100\n",
      "6/6 [==============================] - 0s 5ms/step - loss: 0.3430 - root_mean_squared_error: 0.5540 - val_loss: 0.2074 - val_root_mean_squared_error: 0.4141\n",
      "Epoch 36/100\n",
      "6/6 [==============================] - 0s 5ms/step - loss: 0.2336 - root_mean_squared_error: 0.4445 - val_loss: 0.1995 - val_root_mean_squared_error: 0.4047\n",
      "Epoch 37/100\n",
      "6/6 [==============================] - 0s 5ms/step - loss: 0.2840 - root_mean_squared_error: 0.4986 - val_loss: 0.2013 - val_root_mean_squared_error: 0.4079\n",
      "Epoch 38/100\n",
      "6/6 [==============================] - 0s 5ms/step - loss: 0.3841 - root_mean_squared_error: 0.5911 - val_loss: 0.2014 - val_root_mean_squared_error: 0.4090\n",
      "Epoch 39/100\n",
      "6/6 [==============================] - 0s 5ms/step - loss: 0.3577 - root_mean_squared_error: 0.5690 - val_loss: 0.1989 - val_root_mean_squared_error: 0.4067\n",
      "Epoch 40/100\n",
      "6/6 [==============================] - 0s 5ms/step - loss: 0.3392 - root_mean_squared_error: 0.5528 - val_loss: 0.2743 - val_root_mean_squared_error: 0.4898\n",
      "Epoch 41/100\n",
      "6/6 [==============================] - 0s 5ms/step - loss: 0.3740 - root_mean_squared_error: 0.5822 - val_loss: 0.2890 - val_root_mean_squared_error: 0.5034\n",
      "Epoch 42/100\n",
      "6/6 [==============================] - 0s 5ms/step - loss: 0.3471 - root_mean_squared_error: 0.5581 - val_loss: 0.2170 - val_root_mean_squared_error: 0.4259\n",
      "Epoch 43/100\n",
      "6/6 [==============================] - 0s 5ms/step - loss: 0.3456 - root_mean_squared_error: 0.5568 - val_loss: 0.2118 - val_root_mean_squared_error: 0.4203\n",
      "Epoch 44/100\n",
      "6/6 [==============================] - 0s 5ms/step - loss: 0.3608 - root_mean_squared_error: 0.5708 - val_loss: 0.2060 - val_root_mean_squared_error: 0.4142\n",
      "Epoch 45/100\n",
      "6/6 [==============================] - 0s 5ms/step - loss: 0.3437 - root_mean_squared_error: 0.5564 - val_loss: 0.1940 - val_root_mean_squared_error: 0.4009\n",
      "Epoch 46/100\n",
      "6/6 [==============================] - 0s 5ms/step - loss: 0.3929 - root_mean_squared_error: 0.6001 - val_loss: 0.2026 - val_root_mean_squared_error: 0.4123\n",
      "Epoch 00046: early stopping\n"
     ]
    }
   ],
   "source": [
    "#Evaluate the best model\n",
    "print('best score = ',modelGrid.best_score_)\n",
    "best_params = modelGrid.best_params_\n",
    "print(best_params)\n",
    "\n",
    "model1 = createModel(**best_params)\n",
    "history = model1.fit(X_train, y_train, validation_data=(X_val, y_val), epochs=Epochs, callbacks=[es])"
   ],
   "metadata": {
    "collapsed": false,
    "pycharm": {
     "name": "#%%\n"
    }
   }
  },
  {
   "cell_type": "code",
   "execution_count": 17,
   "outputs": [
    {
     "data": {
      "text/plain": "     mean_fit_time  std_fit_time  mean_score_time  std_score_time  \\\n522       3.785777      0.463964         0.234386        0.071669   \n503       3.453796      0.510350         0.339580        0.230979   \n822       4.633782      0.751595         0.265587        0.098674   \n362       4.190554      0.531723         0.231586        0.084191   \n162       4.426745      0.824619         0.311582        0.162268   \n..             ...           ...              ...             ...   \n636       5.099699      1.426549         0.379978        0.312905   \n476       4.769520      1.257472         0.204188        0.070123   \n716       4.790598      0.974739         0.234991        0.082299   \n619       3.409998      0.900408         0.254985        0.113475   \n676       4.203551      1.627052         0.210787        0.068008   \n\n    param_Bias_regularization param_Dense1 param_Dense2 param_GNoise  \\\n522                      0.02            8            6          0.1   \n503                      0.02            8            5          0.1   \n822                       0.1            7            6          0.1   \n362                      0.02            6            4          0.1   \n162                     0.005            8            6          0.1   \n..                        ...          ...          ...          ...   \n636                      0.05            7            5          0.1   \n476                      0.02            7            6          0.1   \n716                      0.05            8            6          0.1   \n619                      0.05            7            4          0.1   \n676                      0.05            8            4          0.1   \n\n    param_L2regularization param_LearningRate param_dropout  \\\n522                  0.005               0.02           0.1   \n503                  0.005               0.03           0.1   \n822                  0.005               0.02           0.1   \n362                  0.005               0.02           0.1   \n162                  0.005               0.02           0.1   \n..                     ...                ...           ...   \n636                    0.1              0.005           0.1   \n476                    0.1              0.005           0.1   \n716                    0.1              0.005           0.1   \n619                    0.1               0.03           0.1   \n676                    0.1              0.005           0.1   \n\n                                                params  split0_test_score  \\\n522  {'Bias_regularization': 0.02, 'Dense1': 8, 'De...          -0.484128   \n503  {'Bias_regularization': 0.02, 'Dense1': 8, 'De...          -0.484185   \n822  {'Bias_regularization': 0.1, 'Dense1': 7, 'Den...          -0.548879   \n362  {'Bias_regularization': 0.02, 'Dense1': 6, 'De...          -0.533408   \n162  {'Bias_regularization': 0.005, 'Dense1': 8, 'D...          -0.580138   \n..                                                 ...                ...   \n636  {'Bias_regularization': 0.05, 'Dense1': 7, 'De...          -1.260204   \n476  {'Bias_regularization': 0.02, 'Dense1': 7, 'De...          -1.254118   \n716  {'Bias_regularization': 0.05, 'Dense1': 8, 'De...          -1.314024   \n619  {'Bias_regularization': 0.05, 'Dense1': 7, 'De...          -1.985123   \n676  {'Bias_regularization': 0.05, 'Dense1': 8, 'De...          -1.949196   \n\n     split1_test_score  split2_test_score  split3_test_score  \\\n522          -0.322640          -0.193319          -0.161260   \n503          -0.291210          -0.228598          -0.191292   \n822          -0.294741          -0.218687          -0.171510   \n362          -0.282967          -0.224629          -0.201358   \n162          -0.274102          -0.183853          -0.153461   \n..                 ...                ...                ...   \n636          -1.499459          -0.309955          -0.323952   \n476          -1.469517          -0.339547          -0.405894   \n716          -1.445131          -0.357921          -0.408691   \n619          -0.667721          -0.680171          -0.306815   \n676          -1.460211          -0.377315          -0.405014   \n\n     split4_test_score  mean_test_score  std_test_score  rank_test_score  \n522          -0.136948        -0.259659        0.129224                1  \n503          -0.177370        -0.274531        0.111992                2  \n822          -0.140731        -0.274910        0.146498                3  \n362          -0.137844        -0.276041        0.136824                4  \n162          -0.192877        -0.276886        0.156790                5  \n..                 ...              ...             ...              ...  \n636          -0.354266        -0.749567        0.520338              896  \n476          -0.287062        -0.751227        0.504584              897  \n716          -0.300935        -0.765341        0.504387              898  \n619          -0.221174        -0.772201        0.634158              899  \n676          -0.317617        -0.901870        0.674094              900  \n\n[900 rows x 20 columns]",
      "text/html": "<div>\n<style scoped>\n    .dataframe tbody tr th:only-of-type {\n        vertical-align: middle;\n    }\n\n    .dataframe tbody tr th {\n        vertical-align: top;\n    }\n\n    .dataframe thead th {\n        text-align: right;\n    }\n</style>\n<table border=\"1\" class=\"dataframe\">\n  <thead>\n    <tr style=\"text-align: right;\">\n      <th></th>\n      <th>mean_fit_time</th>\n      <th>std_fit_time</th>\n      <th>mean_score_time</th>\n      <th>std_score_time</th>\n      <th>param_Bias_regularization</th>\n      <th>param_Dense1</th>\n      <th>param_Dense2</th>\n      <th>param_GNoise</th>\n      <th>param_L2regularization</th>\n      <th>param_LearningRate</th>\n      <th>param_dropout</th>\n      <th>params</th>\n      <th>split0_test_score</th>\n      <th>split1_test_score</th>\n      <th>split2_test_score</th>\n      <th>split3_test_score</th>\n      <th>split4_test_score</th>\n      <th>mean_test_score</th>\n      <th>std_test_score</th>\n      <th>rank_test_score</th>\n    </tr>\n  </thead>\n  <tbody>\n    <tr>\n      <th>522</th>\n      <td>3.785777</td>\n      <td>0.463964</td>\n      <td>0.234386</td>\n      <td>0.071669</td>\n      <td>0.02</td>\n      <td>8</td>\n      <td>6</td>\n      <td>0.1</td>\n      <td>0.005</td>\n      <td>0.02</td>\n      <td>0.1</td>\n      <td>{'Bias_regularization': 0.02, 'Dense1': 8, 'De...</td>\n      <td>-0.484128</td>\n      <td>-0.322640</td>\n      <td>-0.193319</td>\n      <td>-0.161260</td>\n      <td>-0.136948</td>\n      <td>-0.259659</td>\n      <td>0.129224</td>\n      <td>1</td>\n    </tr>\n    <tr>\n      <th>503</th>\n      <td>3.453796</td>\n      <td>0.510350</td>\n      <td>0.339580</td>\n      <td>0.230979</td>\n      <td>0.02</td>\n      <td>8</td>\n      <td>5</td>\n      <td>0.1</td>\n      <td>0.005</td>\n      <td>0.03</td>\n      <td>0.1</td>\n      <td>{'Bias_regularization': 0.02, 'Dense1': 8, 'De...</td>\n      <td>-0.484185</td>\n      <td>-0.291210</td>\n      <td>-0.228598</td>\n      <td>-0.191292</td>\n      <td>-0.177370</td>\n      <td>-0.274531</td>\n      <td>0.111992</td>\n      <td>2</td>\n    </tr>\n    <tr>\n      <th>822</th>\n      <td>4.633782</td>\n      <td>0.751595</td>\n      <td>0.265587</td>\n      <td>0.098674</td>\n      <td>0.1</td>\n      <td>7</td>\n      <td>6</td>\n      <td>0.1</td>\n      <td>0.005</td>\n      <td>0.02</td>\n      <td>0.1</td>\n      <td>{'Bias_regularization': 0.1, 'Dense1': 7, 'Den...</td>\n      <td>-0.548879</td>\n      <td>-0.294741</td>\n      <td>-0.218687</td>\n      <td>-0.171510</td>\n      <td>-0.140731</td>\n      <td>-0.274910</td>\n      <td>0.146498</td>\n      <td>3</td>\n    </tr>\n    <tr>\n      <th>362</th>\n      <td>4.190554</td>\n      <td>0.531723</td>\n      <td>0.231586</td>\n      <td>0.084191</td>\n      <td>0.02</td>\n      <td>6</td>\n      <td>4</td>\n      <td>0.1</td>\n      <td>0.005</td>\n      <td>0.02</td>\n      <td>0.1</td>\n      <td>{'Bias_regularization': 0.02, 'Dense1': 6, 'De...</td>\n      <td>-0.533408</td>\n      <td>-0.282967</td>\n      <td>-0.224629</td>\n      <td>-0.201358</td>\n      <td>-0.137844</td>\n      <td>-0.276041</td>\n      <td>0.136824</td>\n      <td>4</td>\n    </tr>\n    <tr>\n      <th>162</th>\n      <td>4.426745</td>\n      <td>0.824619</td>\n      <td>0.311582</td>\n      <td>0.162268</td>\n      <td>0.005</td>\n      <td>8</td>\n      <td>6</td>\n      <td>0.1</td>\n      <td>0.005</td>\n      <td>0.02</td>\n      <td>0.1</td>\n      <td>{'Bias_regularization': 0.005, 'Dense1': 8, 'D...</td>\n      <td>-0.580138</td>\n      <td>-0.274102</td>\n      <td>-0.183853</td>\n      <td>-0.153461</td>\n      <td>-0.192877</td>\n      <td>-0.276886</td>\n      <td>0.156790</td>\n      <td>5</td>\n    </tr>\n    <tr>\n      <th>...</th>\n      <td>...</td>\n      <td>...</td>\n      <td>...</td>\n      <td>...</td>\n      <td>...</td>\n      <td>...</td>\n      <td>...</td>\n      <td>...</td>\n      <td>...</td>\n      <td>...</td>\n      <td>...</td>\n      <td>...</td>\n      <td>...</td>\n      <td>...</td>\n      <td>...</td>\n      <td>...</td>\n      <td>...</td>\n      <td>...</td>\n      <td>...</td>\n      <td>...</td>\n    </tr>\n    <tr>\n      <th>636</th>\n      <td>5.099699</td>\n      <td>1.426549</td>\n      <td>0.379978</td>\n      <td>0.312905</td>\n      <td>0.05</td>\n      <td>7</td>\n      <td>5</td>\n      <td>0.1</td>\n      <td>0.1</td>\n      <td>0.005</td>\n      <td>0.1</td>\n      <td>{'Bias_regularization': 0.05, 'Dense1': 7, 'De...</td>\n      <td>-1.260204</td>\n      <td>-1.499459</td>\n      <td>-0.309955</td>\n      <td>-0.323952</td>\n      <td>-0.354266</td>\n      <td>-0.749567</td>\n      <td>0.520338</td>\n      <td>896</td>\n    </tr>\n    <tr>\n      <th>476</th>\n      <td>4.769520</td>\n      <td>1.257472</td>\n      <td>0.204188</td>\n      <td>0.070123</td>\n      <td>0.02</td>\n      <td>7</td>\n      <td>6</td>\n      <td>0.1</td>\n      <td>0.1</td>\n      <td>0.005</td>\n      <td>0.1</td>\n      <td>{'Bias_regularization': 0.02, 'Dense1': 7, 'De...</td>\n      <td>-1.254118</td>\n      <td>-1.469517</td>\n      <td>-0.339547</td>\n      <td>-0.405894</td>\n      <td>-0.287062</td>\n      <td>-0.751227</td>\n      <td>0.504584</td>\n      <td>897</td>\n    </tr>\n    <tr>\n      <th>716</th>\n      <td>4.790598</td>\n      <td>0.974739</td>\n      <td>0.234991</td>\n      <td>0.082299</td>\n      <td>0.05</td>\n      <td>8</td>\n      <td>6</td>\n      <td>0.1</td>\n      <td>0.1</td>\n      <td>0.005</td>\n      <td>0.1</td>\n      <td>{'Bias_regularization': 0.05, 'Dense1': 8, 'De...</td>\n      <td>-1.314024</td>\n      <td>-1.445131</td>\n      <td>-0.357921</td>\n      <td>-0.408691</td>\n      <td>-0.300935</td>\n      <td>-0.765341</td>\n      <td>0.504387</td>\n      <td>898</td>\n    </tr>\n    <tr>\n      <th>619</th>\n      <td>3.409998</td>\n      <td>0.900408</td>\n      <td>0.254985</td>\n      <td>0.113475</td>\n      <td>0.05</td>\n      <td>7</td>\n      <td>4</td>\n      <td>0.1</td>\n      <td>0.1</td>\n      <td>0.03</td>\n      <td>0.1</td>\n      <td>{'Bias_regularization': 0.05, 'Dense1': 7, 'De...</td>\n      <td>-1.985123</td>\n      <td>-0.667721</td>\n      <td>-0.680171</td>\n      <td>-0.306815</td>\n      <td>-0.221174</td>\n      <td>-0.772201</td>\n      <td>0.634158</td>\n      <td>899</td>\n    </tr>\n    <tr>\n      <th>676</th>\n      <td>4.203551</td>\n      <td>1.627052</td>\n      <td>0.210787</td>\n      <td>0.068008</td>\n      <td>0.05</td>\n      <td>8</td>\n      <td>4</td>\n      <td>0.1</td>\n      <td>0.1</td>\n      <td>0.005</td>\n      <td>0.1</td>\n      <td>{'Bias_regularization': 0.05, 'Dense1': 8, 'De...</td>\n      <td>-1.949196</td>\n      <td>-1.460211</td>\n      <td>-0.377315</td>\n      <td>-0.405014</td>\n      <td>-0.317617</td>\n      <td>-0.901870</td>\n      <td>0.674094</td>\n      <td>900</td>\n    </tr>\n  </tbody>\n</table>\n<p>900 rows × 20 columns</p>\n</div>"
     },
     "execution_count": 17,
     "metadata": {},
     "output_type": "execute_result"
    }
   ],
   "source": [
    "pd.DataFrame(modelGrid.cv_results_).sort_values('rank_test_score')"
   ],
   "metadata": {
    "collapsed": false,
    "pycharm": {
     "name": "#%%\n"
    }
   }
  },
  {
   "cell_type": "code",
   "execution_count": 18,
   "outputs": [
    {
     "name": "stdout",
     "output_type": "stream",
     "text": [
      "dict_keys(['loss', 'root_mean_squared_error', 'val_loss', 'val_root_mean_squared_error'])\n"
     ]
    },
    {
     "data": {
      "text/plain": "<Figure size 432x288 with 1 Axes>",
      "image/png": "[encoded data removed]"
     },
     "metadata": {
      "needs_background": "light"
     },
     "output_type": "display_data"
    },
    {
     "data": {
      "text/plain": "<Figure size 432x288 with 1 Axes>",
      "image/png": "[encoded data removed]"
     },
     "metadata": {
      "needs_background": "light"
     },
     "output_type": "display_data"
    }
   ],
   "source": [
    "# list all data in history\n",
    "print(history.history.keys())\n",
    "# summarize history for accuracy\n",
    "plt.plot(history.history['root_mean_squared_error'])\n",
    "plt.plot(history.history['loss'])\n",
    "plt.title('RMS')\n",
    "plt.ylabel('RMS')\n",
    "plt.xlabel('epoch')\n",
    "plt.legend(['train', 'validation'], loc='upper left')\n",
    "plt.show()\n",
    "# summarize history for loss\n",
    "plt.plot(history.history['val_root_mean_squared_error'])\n",
    "plt.plot(history.history['val_loss'])\n",
    "plt.title('model loss')\n",
    "plt.ylabel('loss')\n",
    "plt.xlabel('epoch')\n",
    "plt.legend(['train', 'validation'], loc='upper left')\n",
    "plt.show()"
   ],
   "metadata": {
    "collapsed": false,
    "pycharm": {
     "name": "#%%\n"
    }
   }
  },
  {
   "cell_type": "code",
   "execution_count": 19,
   "outputs": [],
   "source": [
    "test_predictions = model1.predict(X_test)"
   ],
   "metadata": {
    "collapsed": false,
    "pycharm": {
     "name": "#%%\n"
    }
   }
  },
  {
   "cell_type": "code",
   "execution_count": 20,
   "outputs": [],
   "source": [
    "X_test.insert(6,'RED',test_predictions)\n",
    "y_pred = sc.inverse_transform(X_test)[:,Features]\n",
    "X_test.drop('RED',axis=1).insert(Features,'RED',y_test)\n",
    "y_test = sc.inverse_transform(X_test)[:,Features]"
   ],
   "metadata": {
    "collapsed": false,
    "pycharm": {
     "name": "#%%\n"
    }
   }
  },
  {
   "cell_type": "code",
   "execution_count": 21,
   "outputs": [
    {
     "data": {
      "text/plain": "<Figure size 432x288 with 1 Axes>",
      "image/png": "[encoded data removed]"
     },
     "metadata": {
      "needs_background": "light"
     },
     "output_type": "display_data"
    }
   ],
   "source": [
    "from numpy.polynomial.polynomial import polyfit\n",
    "plt.scatter(y_test,y_pred)\n",
    "# Fit with polyfit\n",
    "b, m = polyfit(y_test, y_pred, 1)\n",
    "plt.plot(y_test, b + m * y_test, '--', color='red')\n",
    "plt.xlabel(\"Actual RED [mJ/cm^2]\")\n",
    "plt.ylabel(\"Predicted RED [mJ/cm^2]\")\n",
    "plt.show()"
   ],
   "metadata": {
    "collapsed": false,
    "pycharm": {
     "name": "#%%\n"
    }
   }
  },
  {
   "cell_type": "code",
   "execution_count": 22,
   "outputs": [
    {
     "data": {
      "text/plain": "<Figure size 432x288 with 1 Axes>",
      "image/png": "[encoded data removed]"
     },
     "metadata": {
      "needs_background": "light"
     },
     "output_type": "display_data"
    }
   ],
   "source": [
    "val_predictions = model1.predict(X_val)\n",
    "\n",
    "X_val.insert(6,'RED',val_predictions)\n",
    "y_pred = sc.inverse_transform(X_val)[:,Features]\n",
    "X_val.drop('RED',axis=1).insert(Features,'RED',y_val)\n",
    "y_val = sc.inverse_transform(X_val)[:,Features]\n",
    "\n",
    "plt.scatter(y_val,y_pred)\n",
    "# Fit with polyfit\n",
    "b, m = polyfit(y_val, y_pred, 1)\n",
    "plt.plot(y_val, b + m * y_val, '--', color='red')\n",
    "plt.xlabel(\"Actual RED [mJ/cm^2]\")\n",
    "plt.ylabel(\"Predicted RED [mJ/cm^2]\")\n",
    "plt.show()"
   ],
   "metadata": {
    "collapsed": false,
    "pycharm": {
     "name": "#%%\n"
    }
   }
  },
  {
   "cell_type": "code",
   "execution_count": 23,
   "outputs": [],
   "source": [
    "# Save model and scaler\n",
    "from pickle import dump\n",
    "model1.save('SavedModel_RED/REDmodel.h5')\n",
    "#dump(model1, open('SavedModel_RED/REDmodel.pkl', 'wb'))\n",
    "dump(sc, open('SavedModel_RED/scaler.pkl', 'wb'))"
   ],
   "metadata": {
    "collapsed": false,
    "pycharm": {
     "name": "#%%\n"
    }
   }
  },
  {
   "cell_type": "code",
   "execution_count": 24,
   "outputs": [],
   "source": [
    "# Features format is as following:\n",
    "# %T254,%T215,Flow,UVS,Actual Power,N,RED\n",
    "\n",
    "# RED is the target"
   ],
   "metadata": {
    "collapsed": false,
    "pycharm": {
     "name": "#%%\n"
    }
   }
  },
  {
   "cell_type": "code",
   "execution_count": 25,
   "outputs": [],
   "source": [
    "# Single testing point:\n",
    "#88.6,63.3,257.6,23.18,6.0,2,70.98\n",
    "#Target RED = 70.98\n",
    "\n",
    "UVT254 = 88.6 # [%-1cm]\n",
    "UVT215 = 63.3 # [%-1cm]\n",
    "Flow = 258 # [m^3/hr]\n",
    "UVS = 23.2 # [mJ/cm^2] - UV sensitivity aka D1Log\n",
    "Power = 6 # [kW]\n",
    "N_Lamps = 2\n",
    "\n",
    "X_vector = sc.transform(pd.DataFrame([np.exp(-UVT254/100),np.exp(-UVT215/100),Flow,UVS,Power,N_Lamps,1]).T)[:,:Features]\n",
    "# Dummy values added before the inverse transform due to the scaler preferences\n",
    "RED = sc.inverse_transform([1,1,1,1,1,1,float(model1.predict(X_vector))])[Features]"
   ],
   "metadata": {
    "collapsed": false,
    "pycharm": {
     "name": "#%%\n"
    }
   }
  },
  {
   "cell_type": "code",
   "execution_count": 26,
   "outputs": [
    {
     "name": "stdout",
     "output_type": "stream",
     "text": [
      "RED = 77.4[mJ/cm^2]\n"
     ]
    }
   ],
   "source": [
    "print('RED = {}[mJ/cm^2]'.format(round(float(RED),1)))"
   ],
   "metadata": {
    "collapsed": false,
    "pycharm": {
     "name": "#%%\n"
    }
   }
  }
 ],
 "metadata": {
  "kernelspec": {
   "display_name": "Python 3",
   "language": "python",
   "name": "python3"
  },
  "language_info": {
   "codemirror_mode": {
    "name": "ipython",
    "version": 2
   },
   "file_extension": ".py",
   "mimetype": "text/x-python",
   "name": "python",
   "nbconvert_exporter": "python",
   "pygments_lexer": "ipython2",
   "version": "2.7.6"
  }
 },
 "nbformat": 4,
 "nbformat_minor": 0
}