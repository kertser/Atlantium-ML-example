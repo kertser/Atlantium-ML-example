{
 "cells": [
  {
   "cell_type": "code",
   "execution_count": 95,
   "metadata": {
    "collapsed": true,
    "pycharm": {
     "name": "#%%\n"
    }
   },
   "outputs": [],
   "source": [
    "import pandas as pd\n",
    "from sklearn.model_selection import train_test_split\n",
    "import matplotlib.pyplot as plt\n",
    "import numpy as np"
   ]
  },
  {
   "cell_type": "code",
   "execution_count": 96,
   "outputs": [],
   "source": [
    "df = pd.read_csv('Raw_Data.csv',header=0).round(1)"
   ],
   "metadata": {
    "collapsed": false,
    "pycharm": {
     "name": "#%%\n"
    }
   }
  },
  {
   "cell_type": "code",
   "execution_count": 97,
   "outputs": [
    {
     "data": {
      "text/plain": "   %T254  %T215   Flow   UVS  Actual Power  N   RED\n0   88.6   63.3  257.6  23.2           6.0  2  71.0\n1   88.6   63.3  257.6  23.3           6.0  2  72.8\n2   88.6   63.3  257.6  23.3           6.0  2  73.6\n3   93.0   82.8  189.1  24.6           3.5  2  98.1\n4   93.0   82.8  189.1  24.7           3.5  2  98.8",
      "text/html": "<div>\n<style scoped>\n    .dataframe tbody tr th:only-of-type {\n        vertical-align: middle;\n    }\n\n    .dataframe tbody tr th {\n        vertical-align: top;\n    }\n\n    .dataframe thead th {\n        text-align: right;\n    }\n</style>\n<table border=\"1\" class=\"dataframe\">\n  <thead>\n    <tr style=\"text-align: right;\">\n      <th></th>\n      <th>%T254</th>\n      <th>%T215</th>\n      <th>Flow</th>\n      <th>UVS</th>\n      <th>Actual Power</th>\n      <th>N</th>\n      <th>RED</th>\n    </tr>\n  </thead>\n  <tbody>\n    <tr>\n      <th>0</th>\n      <td>88.6</td>\n      <td>63.3</td>\n      <td>257.6</td>\n      <td>23.2</td>\n      <td>6.0</td>\n      <td>2</td>\n      <td>71.0</td>\n    </tr>\n    <tr>\n      <th>1</th>\n      <td>88.6</td>\n      <td>63.3</td>\n      <td>257.6</td>\n      <td>23.3</td>\n      <td>6.0</td>\n      <td>2</td>\n      <td>72.8</td>\n    </tr>\n    <tr>\n      <th>2</th>\n      <td>88.6</td>\n      <td>63.3</td>\n      <td>257.6</td>\n      <td>23.3</td>\n      <td>6.0</td>\n      <td>2</td>\n      <td>73.6</td>\n    </tr>\n    <tr>\n      <th>3</th>\n      <td>93.0</td>\n      <td>82.8</td>\n      <td>189.1</td>\n      <td>24.6</td>\n      <td>3.5</td>\n      <td>2</td>\n      <td>98.1</td>\n    </tr>\n    <tr>\n      <th>4</th>\n      <td>93.0</td>\n      <td>82.8</td>\n      <td>189.1</td>\n      <td>24.7</td>\n      <td>3.5</td>\n      <td>2</td>\n      <td>98.8</td>\n    </tr>\n  </tbody>\n</table>\n</div>"
     },
     "execution_count": 97,
     "metadata": {},
     "output_type": "execute_result"
    }
   ],
   "source": [
    "#Original Data\n",
    "df.head()"
   ],
   "metadata": {
    "collapsed": false,
    "pycharm": {
     "name": "#%%\n"
    }
   }
  },
  {
   "cell_type": "code",
   "execution_count": 98,
   "outputs": [],
   "source": [
    "#Synthetic data for 1 and 2 lamps - based on UV dose multiplication\n",
    "df1 = df.loc[df['N']==1].copy()\n",
    "df1.loc[:, 'RED']*=2\n",
    "df1.loc[:, 'N']=2\n",
    "\n",
    "df2 = df.loc[df['N']==2].copy()\n",
    "df2.loc[:, 'RED']/=2\n",
    "df2.loc[:, 'N']=1\n",
    "\n",
    "df=df.append(df1,ignore_index=True)\n",
    "df=df.append(df2,ignore_index=True)"
   ],
   "metadata": {
    "collapsed": false,
    "pycharm": {
     "name": "#%%\n"
    }
   }
  },
  {
   "cell_type": "code",
   "execution_count": 99,
   "outputs": [],
   "source": [
    "# Duplicate the situation for 3 and 4 lamps:\n",
    "df_3 = df.loc[df['N']==1].copy()\n",
    "df2.loc[:, 'RED']*=3\n",
    "df2.loc[:, 'N']=3\n",
    "\n",
    "df_4 = df.loc[df['N']==2].copy()\n",
    "df2.loc[:, 'RED']*=2\n",
    "df2.loc[:, 'N']=4\n",
    "\n",
    "df=df.append(df_3,ignore_index=True)\n",
    "df=df.append(df_4,ignore_index=True)"
   ],
   "metadata": {
    "collapsed": false,
    "pycharm": {
     "name": "#%%\n"
    }
   }
  },
  {
   "cell_type": "code",
   "execution_count": 100,
   "outputs": [
    {
     "data": {
      "text/plain": "<AxesSubplot:xlabel='%T254', ylabel='%T215'>"
     },
     "execution_count": 100,
     "metadata": {},
     "output_type": "execute_result"
    },
    {
     "data": {
      "text/plain": "<Figure size 432x288 with 1 Axes>",
      "image/png": "[encoded data removed]"
     },
     "metadata": {
      "needs_background": "light"
     },
     "output_type": "display_data"
    }
   ],
   "source": [
    "df.plot.scatter(x='%T254',y='%T215')"
   ],
   "metadata": {
    "collapsed": false,
    "pycharm": {
     "name": "#%%\n"
    }
   }
  },
  {
   "cell_type": "code",
   "execution_count": 101,
   "outputs": [],
   "source": [
    "# Transform UVT into exp(-UVT/100)\n",
    "df['%T254'] = np.exp(-df['%T254']/100)\n",
    "df['%T215'] = np.exp(-df['%T215']/100)"
   ],
   "metadata": {
    "collapsed": false,
    "pycharm": {
     "name": "#%%\n"
    }
   }
  },
  {
   "cell_type": "code",
   "execution_count": 102,
   "outputs": [],
   "source": [
    "from sklearn.preprocessing import StandardScaler\n",
    "sc = StandardScaler()\n",
    "scaled_features = sc.fit_transform(df.values)\n",
    "#restore column names\n",
    "scaled_features_df = pd.DataFrame(scaled_features, index=df.index, columns=df.columns)"
   ],
   "metadata": {
    "collapsed": false,
    "pycharm": {
     "name": "#%%\n"
    }
   }
  },
  {
   "cell_type": "code",
   "execution_count": 103,
   "outputs": [],
   "source": [
    "X = scaled_features_df.drop('RED',axis=1)\n",
    "y = scaled_features_df['RED']"
   ],
   "metadata": {
    "collapsed": false,
    "pycharm": {
     "name": "#%%\n"
    }
   }
  },
  {
   "cell_type": "code",
   "execution_count": 104,
   "outputs": [],
   "source": [
    "X_train, X_test, y_train, y_test = train_test_split(X, y, test_size=0.4, random_state=0)\n",
    "X_train, X_val, y_train, y_val = train_test_split(X_train, y_train, test_size=0.5, random_state=0)"
   ],
   "metadata": {
    "collapsed": false,
    "pycharm": {
     "name": "#%%\n"
    }
   }
  },
  {
   "cell_type": "code",
   "execution_count": 105,
   "outputs": [],
   "source": [
    "from tensorflow.keras.models import Sequential\n",
    "from tensorflow.keras.layers import *\n",
    "from tensorflow.keras.losses import MeanSquaredError\n",
    "from tensorflow.keras.metrics import RootMeanSquaredError\n",
    "from tensorflow.keras.optimizers import Adam\n",
    "from keras.regularizers import l2"
   ],
   "metadata": {
    "collapsed": false,
    "pycharm": {
     "name": "#%%\n"
    }
   }
  },
  {
   "cell_type": "code",
   "execution_count": 106,
   "outputs": [],
   "source": [
    "# Meta-Parameters:\n",
    "Dense1 = 10\n",
    "Dense2 = 4\n",
    "LearningRate = 0.01\n",
    "dropout = 0.1\n",
    "GNoise = 0.1\n",
    "Epochs = 100\n",
    "\n",
    "L2regularization = 0.02\n",
    "Bias_regularization = 0.02\n",
    "\n",
    "#Features\n",
    "Features = 6"
   ],
   "metadata": {
    "collapsed": false,
    "pycharm": {
     "name": "#%%\n"
    }
   }
  },
  {
   "cell_type": "code",
   "execution_count": 107,
   "outputs": [
    {
     "name": "stdout",
     "output_type": "stream",
     "text": [
      "Model: \"sequential_4\"\n",
      "_________________________________________________________________\n",
      "Layer (type)                 Output Shape              Param #   \n",
      "=================================================================\n",
      "gaussian_noise_4 (GaussianNo (None, 6)                 0         \n",
      "_________________________________________________________________\n",
      "dense_12 (Dense)             (None, 10)                70        \n",
      "_________________________________________________________________\n",
      "dropout_4 (Dropout)          (None, 10)                0         \n",
      "_________________________________________________________________\n",
      "dense_13 (Dense)             (None, 4)                 44        \n",
      "_________________________________________________________________\n",
      "dense_14 (Dense)             (None, 1)                 5         \n",
      "=================================================================\n",
      "Total params: 119\n",
      "Trainable params: 119\n",
      "Non-trainable params: 0\n",
      "_________________________________________________________________\n"
     ]
    }
   ],
   "source": [
    "model1 = Sequential()\n",
    "model1.add(InputLayer(input_shape=(Features,)))\n",
    "model1.add(GaussianNoise(GNoise))\n",
    "#model1.add(Dense(Dense1, 'softmax'))\n",
    "model1.add(Dense(Dense1, kernel_regularizer=l2(L2regularization), bias_regularizer=l2(Bias_regularization), activation='softmax'))\n",
    "model1.add(Dropout(dropout))\n",
    "model1.add(Dense(Dense2, 'softmax'))\n",
    "model1.add(Dense(1, 'linear'))\n",
    "model1.summary()"
   ],
   "metadata": {
    "collapsed": false,
    "pycharm": {
     "name": "#%%\n"
    }
   }
  },
  {
   "cell_type": "code",
   "execution_count": 108,
   "outputs": [],
   "source": [
    "model1.compile(loss=MeanSquaredError(), optimizer=Adam(learning_rate=LearningRate), metrics=[RootMeanSquaredError()])"
   ],
   "metadata": {
    "collapsed": false,
    "pycharm": {
     "name": "#%%\n"
    }
   }
  },
  {
   "cell_type": "code",
   "execution_count": 109,
   "outputs": [
    {
     "name": "stdout",
     "output_type": "stream",
     "text": [
      "Epoch 1/100\n",
      "6/6 [==============================] - 0s 34ms/step - loss: 1.2802 - root_mean_squared_error: 1.0574 - val_loss: 0.9076 - val_root_mean_squared_error: 0.8791\n",
      "Epoch 2/100\n",
      "6/6 [==============================] - 0s 6ms/step - loss: 1.2109 - root_mean_squared_error: 1.0431 - val_loss: 0.8626 - val_root_mean_squared_error: 0.8724\n",
      "Epoch 3/100\n",
      "6/6 [==============================] - 0s 6ms/step - loss: 1.1684 - root_mean_squared_error: 1.0373 - val_loss: 0.8277 - val_root_mean_squared_error: 0.8666\n",
      "Epoch 4/100\n",
      "6/6 [==============================] - 0s 7ms/step - loss: 1.1295 - root_mean_squared_error: 1.0289 - val_loss: 0.8045 - val_root_mean_squared_error: 0.8625\n",
      "Epoch 5/100\n",
      "6/6 [==============================] - 0s 6ms/step - loss: 1.0992 - root_mean_squared_error: 1.0210 - val_loss: 0.7814 - val_root_mean_squared_error: 0.8550\n",
      "Epoch 6/100\n",
      "6/6 [==============================] - 0s 7ms/step - loss: 1.0689 - root_mean_squared_error: 1.0104 - val_loss: 0.7552 - val_root_mean_squared_error: 0.8426\n",
      "Epoch 7/100\n",
      "6/6 [==============================] - 0s 7ms/step - loss: 1.0450 - root_mean_squared_error: 1.0001 - val_loss: 0.7240 - val_root_mean_squared_error: 0.8241\n",
      "Epoch 8/100\n",
      "6/6 [==============================] - 0s 6ms/step - loss: 1.0124 - root_mean_squared_error: 0.9831 - val_loss: 0.6960 - val_root_mean_squared_error: 0.8048\n",
      "Epoch 9/100\n",
      "6/6 [==============================] - 0s 6ms/step - loss: 0.9730 - root_mean_squared_error: 0.9607 - val_loss: 0.6659 - val_root_mean_squared_error: 0.7823\n",
      "Epoch 10/100\n",
      "6/6 [==============================] - 0s 6ms/step - loss: 0.9536 - root_mean_squared_error: 0.9474 - val_loss: 0.6316 - val_root_mean_squared_error: 0.7552\n",
      "Epoch 11/100\n",
      "6/6 [==============================] - 0s 6ms/step - loss: 0.8972 - root_mean_squared_error: 0.9125 - val_loss: 0.5953 - val_root_mean_squared_error: 0.7244\n",
      "Epoch 12/100\n",
      "6/6 [==============================] - 0s 6ms/step - loss: 0.8574 - root_mean_squared_error: 0.8860 - val_loss: 0.5644 - val_root_mean_squared_error: 0.6985\n",
      "Epoch 13/100\n",
      "6/6 [==============================] - 0s 6ms/step - loss: 0.8036 - root_mean_squared_error: 0.8509 - val_loss: 0.5396 - val_root_mean_squared_error: 0.6745\n",
      "Epoch 14/100\n",
      "6/6 [==============================] - 0s 6ms/step - loss: 0.7602 - root_mean_squared_error: 0.8211 - val_loss: 0.5123 - val_root_mean_squared_error: 0.6509\n",
      "Epoch 15/100\n",
      "6/6 [==============================] - 0s 6ms/step - loss: 0.7092 - root_mean_squared_error: 0.7870 - val_loss: 0.4741 - val_root_mean_squared_error: 0.6187\n",
      "Epoch 16/100\n",
      "6/6 [==============================] - 0s 5ms/step - loss: 0.6722 - root_mean_squared_error: 0.7620 - val_loss: 0.4424 - val_root_mean_squared_error: 0.5930\n",
      "Epoch 17/100\n",
      "6/6 [==============================] - 0s 5ms/step - loss: 0.6094 - root_mean_squared_error: 0.7207 - val_loss: 0.4148 - val_root_mean_squared_error: 0.5704\n",
      "Epoch 18/100\n",
      "6/6 [==============================] - 0s 5ms/step - loss: 0.6739 - root_mean_squared_error: 0.7641 - val_loss: 0.3977 - val_root_mean_squared_error: 0.5541\n",
      "Epoch 19/100\n",
      "6/6 [==============================] - 0s 5ms/step - loss: 0.6187 - root_mean_squared_error: 0.7262 - val_loss: 0.3903 - val_root_mean_squared_error: 0.5469\n",
      "Epoch 20/100\n",
      "6/6 [==============================] - 0s 5ms/step - loss: 0.5626 - root_mean_squared_error: 0.6874 - val_loss: 0.3687 - val_root_mean_squared_error: 0.5306\n",
      "Epoch 21/100\n",
      "6/6 [==============================] - 0s 5ms/step - loss: 0.5401 - root_mean_squared_error: 0.6750 - val_loss: 0.3545 - val_root_mean_squared_error: 0.5234\n",
      "Epoch 22/100\n",
      "6/6 [==============================] - 0s 5ms/step - loss: 0.4768 - root_mean_squared_error: 0.6306 - val_loss: 0.3430 - val_root_mean_squared_error: 0.5149\n",
      "Epoch 23/100\n",
      "6/6 [==============================] - 0s 5ms/step - loss: 0.4972 - root_mean_squared_error: 0.6469 - val_loss: 0.3472 - val_root_mean_squared_error: 0.5165\n",
      "Epoch 24/100\n",
      "6/6 [==============================] - 0s 5ms/step - loss: 0.5400 - root_mean_squared_error: 0.6775 - val_loss: 0.3412 - val_root_mean_squared_error: 0.5098\n",
      "Epoch 25/100\n",
      "6/6 [==============================] - 0s 5ms/step - loss: 0.5091 - root_mean_squared_error: 0.6544 - val_loss: 0.3277 - val_root_mean_squared_error: 0.4985\n",
      "Epoch 26/100\n",
      "6/6 [==============================] - 0s 5ms/step - loss: 0.5207 - root_mean_squared_error: 0.6646 - val_loss: 0.3169 - val_root_mean_squared_error: 0.4893\n",
      "Epoch 27/100\n",
      "6/6 [==============================] - 0s 5ms/step - loss: 0.5318 - root_mean_squared_error: 0.6747 - val_loss: 0.3118 - val_root_mean_squared_error: 0.4867\n",
      "Epoch 28/100\n",
      "6/6 [==============================] - 0s 5ms/step - loss: 0.4425 - root_mean_squared_error: 0.6066 - val_loss: 0.3088 - val_root_mean_squared_error: 0.4862\n",
      "Epoch 29/100\n",
      "6/6 [==============================] - 0s 5ms/step - loss: 0.4623 - root_mean_squared_error: 0.6261 - val_loss: 0.2904 - val_root_mean_squared_error: 0.4727\n",
      "Epoch 30/100\n",
      "6/6 [==============================] - 0s 6ms/step - loss: 0.5042 - root_mean_squared_error: 0.6620 - val_loss: 0.2826 - val_root_mean_squared_error: 0.4676\n",
      "Epoch 31/100\n",
      "6/6 [==============================] - 0s 5ms/step - loss: 0.4375 - root_mean_squared_error: 0.6121 - val_loss: 0.2748 - val_root_mean_squared_error: 0.4610\n",
      "Epoch 32/100\n",
      "6/6 [==============================] - 0s 5ms/step - loss: 0.4873 - root_mean_squared_error: 0.6512 - val_loss: 0.2783 - val_root_mean_squared_error: 0.4620\n",
      "Epoch 33/100\n",
      "6/6 [==============================] - 0s 6ms/step - loss: 0.4374 - root_mean_squared_error: 0.6099 - val_loss: 0.2747 - val_root_mean_squared_error: 0.4567\n",
      "Epoch 34/100\n",
      "6/6 [==============================] - 0s 5ms/step - loss: 0.4193 - root_mean_squared_error: 0.5942 - val_loss: 0.2717 - val_root_mean_squared_error: 0.4533\n",
      "Epoch 35/100\n",
      "6/6 [==============================] - 0s 5ms/step - loss: 0.4009 - root_mean_squared_error: 0.5783 - val_loss: 0.2673 - val_root_mean_squared_error: 0.4481\n",
      "Epoch 36/100\n",
      "6/6 [==============================] - 0s 5ms/step - loss: 0.4140 - root_mean_squared_error: 0.5895 - val_loss: 0.2821 - val_root_mean_squared_error: 0.4643\n",
      "Epoch 37/100\n",
      "6/6 [==============================] - 0s 5ms/step - loss: 0.4863 - root_mean_squared_error: 0.6475 - val_loss: 0.3121 - val_root_mean_squared_error: 0.4956\n",
      "Epoch 38/100\n",
      "6/6 [==============================] - 0s 5ms/step - loss: 0.4187 - root_mean_squared_error: 0.5945 - val_loss: 0.2657 - val_root_mean_squared_error: 0.4507\n",
      "Epoch 39/100\n",
      "6/6 [==============================] - 0s 5ms/step - loss: 0.3635 - root_mean_squared_error: 0.5495 - val_loss: 0.2565 - val_root_mean_squared_error: 0.4426\n",
      "Epoch 40/100\n",
      "6/6 [==============================] - 0s 5ms/step - loss: 0.3528 - root_mean_squared_error: 0.5404 - val_loss: 0.2614 - val_root_mean_squared_error: 0.4485\n",
      "Epoch 41/100\n",
      "6/6 [==============================] - 0s 5ms/step - loss: 0.4360 - root_mean_squared_error: 0.6137 - val_loss: 0.2561 - val_root_mean_squared_error: 0.4447\n",
      "Epoch 42/100\n",
      "6/6 [==============================] - 0s 5ms/step - loss: 0.4641 - root_mean_squared_error: 0.6371 - val_loss: 0.2562 - val_root_mean_squared_error: 0.4447\n",
      "Epoch 43/100\n",
      "6/6 [==============================] - 0s 5ms/step - loss: 0.3979 - root_mean_squared_error: 0.5818 - val_loss: 0.2792 - val_root_mean_squared_error: 0.4673\n",
      "Epoch 44/100\n",
      "6/6 [==============================] - 0s 5ms/step - loss: 0.4540 - root_mean_squared_error: 0.6268 - val_loss: 0.2851 - val_root_mean_squared_error: 0.4726\n",
      "Epoch 45/100\n",
      "6/6 [==============================] - 0s 5ms/step - loss: 0.4487 - root_mean_squared_error: 0.6221 - val_loss: 0.2761 - val_root_mean_squared_error: 0.4624\n",
      "Epoch 46/100\n",
      "6/6 [==============================] - 0s 5ms/step - loss: 0.3587 - root_mean_squared_error: 0.5440 - val_loss: 0.2797 - val_root_mean_squared_error: 0.4656\n",
      "Epoch 47/100\n",
      "6/6 [==============================] - 0s 5ms/step - loss: 0.4965 - root_mean_squared_error: 0.6585 - val_loss: 0.2855 - val_root_mean_squared_error: 0.4722\n",
      "Epoch 48/100\n",
      "6/6 [==============================] - 0s 5ms/step - loss: 0.3865 - root_mean_squared_error: 0.5691 - val_loss: 0.2709 - val_root_mean_squared_error: 0.4570\n",
      "Epoch 49/100\n",
      "6/6 [==============================] - 0s 5ms/step - loss: 0.4936 - root_mean_squared_error: 0.6576 - val_loss: 0.2511 - val_root_mean_squared_error: 0.4383\n",
      "Epoch 50/100\n",
      "6/6 [==============================] - 0s 5ms/step - loss: 0.4904 - root_mean_squared_error: 0.6580 - val_loss: 0.2518 - val_root_mean_squared_error: 0.4431\n",
      "Epoch 51/100\n",
      "6/6 [==============================] - 0s 5ms/step - loss: 0.4796 - root_mean_squared_error: 0.6515 - val_loss: 0.2472 - val_root_mean_squared_error: 0.4385\n",
      "Epoch 52/100\n",
      "6/6 [==============================] - 0s 5ms/step - loss: 0.3984 - root_mean_squared_error: 0.5861 - val_loss: 0.2481 - val_root_mean_squared_error: 0.4394\n",
      "Epoch 53/100\n",
      "6/6 [==============================] - 0s 5ms/step - loss: 0.4017 - root_mean_squared_error: 0.5891 - val_loss: 0.2523 - val_root_mean_squared_error: 0.4439\n",
      "Epoch 54/100\n",
      "6/6 [==============================] - 0s 5ms/step - loss: 0.3706 - root_mean_squared_error: 0.5603 - val_loss: 0.2882 - val_root_mean_squared_error: 0.4794\n",
      "Epoch 55/100\n",
      "6/6 [==============================] - 0s 5ms/step - loss: 0.3904 - root_mean_squared_error: 0.5759 - val_loss: 0.2700 - val_root_mean_squared_error: 0.4603\n",
      "Epoch 56/100\n",
      "6/6 [==============================] - 0s 5ms/step - loss: 0.3764 - root_mean_squared_error: 0.5656 - val_loss: 0.2365 - val_root_mean_squared_error: 0.4272\n",
      "Epoch 57/100\n",
      "6/6 [==============================] - 0s 5ms/step - loss: 0.3668 - root_mean_squared_error: 0.5600 - val_loss: 0.2365 - val_root_mean_squared_error: 0.4286\n",
      "Epoch 58/100\n",
      "6/6 [==============================] - 0s 5ms/step - loss: 0.3256 - root_mean_squared_error: 0.5214 - val_loss: 0.2738 - val_root_mean_squared_error: 0.4666\n",
      "Epoch 59/100\n",
      "6/6 [==============================] - 0s 5ms/step - loss: 0.3360 - root_mean_squared_error: 0.5275 - val_loss: 0.3226 - val_root_mean_squared_error: 0.5128\n",
      "Epoch 60/100\n",
      "6/6 [==============================] - 0s 5ms/step - loss: 0.3865 - root_mean_squared_error: 0.5721 - val_loss: 0.2615 - val_root_mean_squared_error: 0.4524\n",
      "Epoch 61/100\n",
      "6/6 [==============================] - 0s 5ms/step - loss: 0.3350 - root_mean_squared_error: 0.5288 - val_loss: 0.2344 - val_root_mean_squared_error: 0.4257\n",
      "Epoch 62/100\n",
      "6/6 [==============================] - 0s 5ms/step - loss: 0.3683 - root_mean_squared_error: 0.5620 - val_loss: 0.2408 - val_root_mean_squared_error: 0.4339\n",
      "Epoch 63/100\n",
      "6/6 [==============================] - 0s 5ms/step - loss: 0.3981 - root_mean_squared_error: 0.5870 - val_loss: 0.2327 - val_root_mean_squared_error: 0.4206\n",
      "Epoch 64/100\n",
      "6/6 [==============================] - 0s 5ms/step - loss: 0.3680 - root_mean_squared_error: 0.5581 - val_loss: 0.2508 - val_root_mean_squared_error: 0.4401\n",
      "Epoch 65/100\n",
      "6/6 [==============================] - 0s 5ms/step - loss: 0.3629 - root_mean_squared_error: 0.5534 - val_loss: 0.2386 - val_root_mean_squared_error: 0.4280\n",
      "Epoch 66/100\n",
      "6/6 [==============================] - 0s 5ms/step - loss: 0.3905 - root_mean_squared_error: 0.5796 - val_loss: 0.2286 - val_root_mean_squared_error: 0.4182\n",
      "Epoch 67/100\n",
      "6/6 [==============================] - 0s 5ms/step - loss: 0.4160 - root_mean_squared_error: 0.6013 - val_loss: 0.2457 - val_root_mean_squared_error: 0.4359\n",
      "Epoch 68/100\n",
      "6/6 [==============================] - 0s 5ms/step - loss: 0.3219 - root_mean_squared_error: 0.5158 - val_loss: 0.2462 - val_root_mean_squared_error: 0.4366\n",
      "Epoch 69/100\n",
      "6/6 [==============================] - 0s 5ms/step - loss: 0.3178 - root_mean_squared_error: 0.5123 - val_loss: 0.2365 - val_root_mean_squared_error: 0.4272\n",
      "Epoch 70/100\n",
      "6/6 [==============================] - 0s 6ms/step - loss: 0.4732 - root_mean_squared_error: 0.6483 - val_loss: 0.2354 - val_root_mean_squared_error: 0.4282\n",
      "Epoch 71/100\n",
      "6/6 [==============================] - 0s 5ms/step - loss: 0.3173 - root_mean_squared_error: 0.5147 - val_loss: 0.2338 - val_root_mean_squared_error: 0.4254\n",
      "Epoch 72/100\n",
      "6/6 [==============================] - 0s 5ms/step - loss: 0.3333 - root_mean_squared_error: 0.5294 - val_loss: 0.2332 - val_root_mean_squared_error: 0.4244\n",
      "Epoch 73/100\n",
      "6/6 [==============================] - 0s 5ms/step - loss: 0.3698 - root_mean_squared_error: 0.5624 - val_loss: 0.2350 - val_root_mean_squared_error: 0.4248\n",
      "Epoch 74/100\n",
      "6/6 [==============================] - 0s 5ms/step - loss: 0.3279 - root_mean_squared_error: 0.5225 - val_loss: 0.2379 - val_root_mean_squared_error: 0.4271\n",
      "Epoch 75/100\n",
      "6/6 [==============================] - 0s 5ms/step - loss: 0.3673 - root_mean_squared_error: 0.5584 - val_loss: 0.2448 - val_root_mean_squared_error: 0.4345\n",
      "Epoch 76/100\n",
      "6/6 [==============================] - 0s 5ms/step - loss: 0.3268 - root_mean_squared_error: 0.5198 - val_loss: 0.2663 - val_root_mean_squared_error: 0.4573\n",
      "Epoch 77/100\n",
      "6/6 [==============================] - 0s 5ms/step - loss: 0.3645 - root_mean_squared_error: 0.5545 - val_loss: 0.2506 - val_root_mean_squared_error: 0.4411\n",
      "Epoch 78/100\n",
      "6/6 [==============================] - 0s 5ms/step - loss: 0.3908 - root_mean_squared_error: 0.5794 - val_loss: 0.2270 - val_root_mean_squared_error: 0.4163\n",
      "Epoch 79/100\n",
      "6/6 [==============================] - 0s 5ms/step - loss: 0.3037 - root_mean_squared_error: 0.5005 - val_loss: 0.2233 - val_root_mean_squared_error: 0.4132\n",
      "Epoch 80/100\n",
      "6/6 [==============================] - 0s 5ms/step - loss: 0.2972 - root_mean_squared_error: 0.4947 - val_loss: 0.2224 - val_root_mean_squared_error: 0.4123\n",
      "Epoch 81/100\n",
      "6/6 [==============================] - 0s 5ms/step - loss: 0.3770 - root_mean_squared_error: 0.5694 - val_loss: 0.2365 - val_root_mean_squared_error: 0.4269\n",
      "Epoch 82/100\n",
      "6/6 [==============================] - 0s 5ms/step - loss: 0.3155 - root_mean_squared_error: 0.5097 - val_loss: 0.2702 - val_root_mean_squared_error: 0.4615\n",
      "Epoch 83/100\n",
      "6/6 [==============================] - 0s 5ms/step - loss: 0.3793 - root_mean_squared_error: 0.5679 - val_loss: 0.2563 - val_root_mean_squared_error: 0.4473\n",
      "Epoch 84/100\n",
      "6/6 [==============================] - 0s 5ms/step - loss: 0.3381 - root_mean_squared_error: 0.5310 - val_loss: 0.2534 - val_root_mean_squared_error: 0.4443\n",
      "Epoch 85/100\n",
      "6/6 [==============================] - 0s 5ms/step - loss: 0.3500 - root_mean_squared_error: 0.5424 - val_loss: 0.2385 - val_root_mean_squared_error: 0.4282\n",
      "Epoch 86/100\n",
      "6/6 [==============================] - 0s 5ms/step - loss: 0.2983 - root_mean_squared_error: 0.4940 - val_loss: 0.2232 - val_root_mean_squared_error: 0.4124\n",
      "Epoch 87/100\n",
      "6/6 [==============================] - 0s 5ms/step - loss: 0.3468 - root_mean_squared_error: 0.5420 - val_loss: 0.2261 - val_root_mean_squared_error: 0.4160\n",
      "Epoch 88/100\n",
      "6/6 [==============================] - 0s 5ms/step - loss: 0.4740 - root_mean_squared_error: 0.6490 - val_loss: 0.2320 - val_root_mean_squared_error: 0.4235\n",
      "Epoch 89/100\n",
      "6/6 [==============================] - 0s 5ms/step - loss: 0.4404 - root_mean_squared_error: 0.6227 - val_loss: 0.2383 - val_root_mean_squared_error: 0.4311\n",
      "Epoch 90/100\n",
      "6/6 [==============================] - 0s 5ms/step - loss: 0.2996 - root_mean_squared_error: 0.4972 - val_loss: 0.2335 - val_root_mean_squared_error: 0.4258\n",
      "Epoch 91/100\n",
      "6/6 [==============================] - 0s 5ms/step - loss: 0.3332 - root_mean_squared_error: 0.5301 - val_loss: 0.2330 - val_root_mean_squared_error: 0.4248\n",
      "Epoch 92/100\n",
      "6/6 [==============================] - 0s 5ms/step - loss: 0.2700 - root_mean_squared_error: 0.4662 - val_loss: 0.2307 - val_root_mean_squared_error: 0.4222\n",
      "Epoch 93/100\n",
      "6/6 [==============================] - 0s 5ms/step - loss: 0.4167 - root_mean_squared_error: 0.6041 - val_loss: 0.2220 - val_root_mean_squared_error: 0.4132\n",
      "Epoch 94/100\n",
      "6/6 [==============================] - 0s 5ms/step - loss: 0.3228 - root_mean_squared_error: 0.5207 - val_loss: 0.2325 - val_root_mean_squared_error: 0.4243\n",
      "Epoch 95/100\n",
      "6/6 [==============================] - 0s 5ms/step - loss: 0.4018 - root_mean_squared_error: 0.5909 - val_loss: 0.2412 - val_root_mean_squared_error: 0.4340\n",
      "Epoch 96/100\n",
      "6/6 [==============================] - 0s 5ms/step - loss: 0.3170 - root_mean_squared_error: 0.5133 - val_loss: 0.2571 - val_root_mean_squared_error: 0.4512\n",
      "Epoch 97/100\n",
      "6/6 [==============================] - 0s 5ms/step - loss: 0.3141 - root_mean_squared_error: 0.5106 - val_loss: 0.2491 - val_root_mean_squared_error: 0.4434\n",
      "Epoch 98/100\n",
      "6/6 [==============================] - 0s 5ms/step - loss: 0.3101 - root_mean_squared_error: 0.5076 - val_loss: 0.2397 - val_root_mean_squared_error: 0.4342\n",
      "Epoch 99/100\n",
      "6/6 [==============================] - 0s 5ms/step - loss: 0.3354 - root_mean_squared_error: 0.5340 - val_loss: 0.2313 - val_root_mean_squared_error: 0.4257\n",
      "Epoch 100/100\n",
      "6/6 [==============================] - 0s 5ms/step - loss: 0.2752 - root_mean_squared_error: 0.4735 - val_loss: 0.2543 - val_root_mean_squared_error: 0.4494\n"
     ]
    }
   ],
   "source": [
    "history = model1.fit(X_train, y_train, validation_data=(X_val, y_val), epochs=Epochs)"
   ],
   "metadata": {
    "collapsed": false,
    "pycharm": {
     "name": "#%%\n"
    }
   }
  },
  {
   "cell_type": "code",
   "execution_count": 110,
   "outputs": [
    {
     "name": "stdout",
     "output_type": "stream",
     "text": [
      "dict_keys(['loss', 'root_mean_squared_error', 'val_loss', 'val_root_mean_squared_error'])\n"
     ]
    },
    {
     "data": {
      "text/plain": "<Figure size 432x288 with 1 Axes>",
      "image/png": "[encoded data removed]"
     },
     "metadata": {
      "needs_background": "light"
     },
     "output_type": "display_data"
    },
    {
     "data": {
      "text/plain": "<Figure size 432x288 with 1 Axes>",
      "image/png": "[encoded data removed]"
     },
     "metadata": {
      "needs_background": "light"
     },
     "output_type": "display_data"
    }
   ],
   "source": [
    "# list all data in history\n",
    "print(history.history.keys())\n",
    "# summarize history for accuracy\n",
    "plt.plot(history.history['root_mean_squared_error'])\n",
    "plt.plot(history.history['loss'])\n",
    "plt.title('RMS')\n",
    "plt.ylabel('RMS')\n",
    "plt.xlabel('epoch')\n",
    "plt.legend(['train', 'validation'], loc='upper left')\n",
    "plt.show()\n",
    "# summarize history for loss\n",
    "plt.plot(history.history['val_root_mean_squared_error'])\n",
    "plt.plot(history.history['val_loss'])\n",
    "plt.title('model loss')\n",
    "plt.ylabel('loss')\n",
    "plt.xlabel('epoch')\n",
    "plt.legend(['train', 'validation'], loc='upper left')\n",
    "plt.show()"
   ],
   "metadata": {
    "collapsed": false,
    "pycharm": {
     "name": "#%%\n"
    }
   }
  },
  {
   "cell_type": "code",
   "execution_count": 111,
   "outputs": [],
   "source": [
    "test_predictions = model1.predict(X_test)"
   ],
   "metadata": {
    "collapsed": false,
    "pycharm": {
     "name": "#%%\n"
    }
   }
  },
  {
   "cell_type": "code",
   "execution_count": 112,
   "outputs": [],
   "source": [
    "X_test.insert(6,'RED',test_predictions)\n",
    "y_pred = sc.inverse_transform(X_test)[:,Features]\n",
    "X_test.drop('RED',axis=1).insert(Features,'RED',y_test)\n",
    "y_test = sc.inverse_transform(X_test)[:,Features]"
   ],
   "metadata": {
    "collapsed": false,
    "pycharm": {
     "name": "#%%\n"
    }
   }
  },
  {
   "cell_type": "code",
   "execution_count": 113,
   "outputs": [
    {
     "data": {
      "text/plain": "<Figure size 432x288 with 1 Axes>",
      "image/png": "[encoded data removed]"
     },
     "metadata": {
      "needs_background": "light"
     },
     "output_type": "display_data"
    }
   ],
   "source": [
    "from numpy.polynomial.polynomial import polyfit\n",
    "plt.scatter(y_test,y_pred)\n",
    "# Fit with polyfit\n",
    "b, m = polyfit(y_test, y_pred, 1)\n",
    "plt.plot(y_test, b + m * y_test, '--', color='red')\n",
    "plt.xlabel(\"Actual RED [mJ/cm^2]\")\n",
    "plt.ylabel(\"Predicted RED [mJ/cm^2]\")\n",
    "plt.show()"
   ],
   "metadata": {
    "collapsed": false,
    "pycharm": {
     "name": "#%%\n"
    }
   }
  },
  {
   "cell_type": "code",
   "execution_count": 114,
   "outputs": [
    {
     "data": {
      "text/plain": "<Figure size 432x288 with 1 Axes>",
      "image/png": "[encoded data removed]"
     },
     "metadata": {
      "needs_background": "light"
     },
     "output_type": "display_data"
    }
   ],
   "source": [
    "val_predictions = model1.predict(X_val)\n",
    "\n",
    "X_val.insert(6,'RED',val_predictions)\n",
    "y_pred = sc.inverse_transform(X_val)[:,Features]\n",
    "X_val.drop('RED',axis=1).insert(Features,'RED',y_val)\n",
    "y_val = sc.inverse_transform(X_val)[:,Features]\n",
    "\n",
    "plt.scatter(y_val,y_pred)\n",
    "# Fit with polyfit\n",
    "b, m = polyfit(y_val, y_pred, 1)\n",
    "plt.plot(y_val, b + m * y_val, '--', color='red')\n",
    "plt.xlabel(\"Actual RED [mJ/cm^2]\")\n",
    "plt.ylabel(\"Predicted RED [mJ/cm^2]\")\n",
    "plt.show()"
   ],
   "metadata": {
    "collapsed": false,
    "pycharm": {
     "name": "#%%\n"
    }
   }
  },
  {
   "cell_type": "code",
   "execution_count": 115,
   "outputs": [],
   "source": [
    "# Save model and scaler\n",
    "from pickle import dump\n",
    "model1.save('SavedModel_RED/REDmodel.h5')\n",
    "#dump(model1, open('SavedModel_RED/REDmodel.pkl', 'wb'))\n",
    "dump(sc, open('SavedModel_RED/scaler.pkl', 'wb'))"
   ],
   "metadata": {
    "collapsed": false,
    "pycharm": {
     "name": "#%%\n"
    }
   }
  },
  {
   "cell_type": "code",
   "execution_count": 116,
   "outputs": [],
   "source": [
    "# Features format is as following:\n",
    "# %T254,%T215,Flow,UVS,Actual Power,N,RED\n",
    "\n",
    "# RED is the target"
   ],
   "metadata": {
    "collapsed": false,
    "pycharm": {
     "name": "#%%\n"
    }
   }
  },
  {
   "cell_type": "code",
   "execution_count": 117,
   "outputs": [],
   "source": [
    "# Single testing point:\n",
    "#88.6,63.3,257.6,23.18,6.0,2,70.98\n",
    "#Target RED = 70.98\n",
    "\n",
    "UVT254 = 88.6 # [%-1cm]\n",
    "UVT215 = 63.3 # [%-1cm]\n",
    "Flow = 258 # [m^3/hr]\n",
    "UVS = 23.2 # [mJ/cm^2] - UV sensitivity aka D1Log\n",
    "Power = 6 # [kW]\n",
    "N_Lamps = 2\n",
    "\n",
    "X_vector = sc.transform(pd.DataFrame([np.exp(-UVT254/100),np.exp(-UVT215/100),Flow,UVS,Power,N_Lamps,1]).T)[:,:Features]\n",
    "# Dummy values added before the inverse transform due to the scaler preferences\n",
    "RED = sc.inverse_transform([1,1,1,1,1,1,float(model1.predict(X_vector))])[Features]"
   ],
   "metadata": {
    "collapsed": false,
    "pycharm": {
     "name": "#%%\n"
    }
   }
  },
  {
   "cell_type": "code",
   "execution_count": 118,
   "outputs": [
    {
     "name": "stdout",
     "output_type": "stream",
     "text": [
      "RED = 83.3[mJ/cm^2]\n"
     ]
    }
   ],
   "source": [
    "print('RED = {}[mJ/cm^2]'.format(round(float(RED),1)))"
   ],
   "metadata": {
    "collapsed": false,
    "pycharm": {
     "name": "#%%\n"
    }
   }
  }
 ],
 "metadata": {
  "kernelspec": {
   "display_name": "Python 3",
   "language": "python",
   "name": "python3"
  },
  "language_info": {
   "codemirror_mode": {
    "name": "ipython",
    "version": 2
   },
   "file_extension": ".py",
   "mimetype": "text/x-python",
   "name": "python",
   "nbconvert_exporter": "python",
   "pygments_lexer": "ipython2",
   "version": "2.7.6"
  }
 },
 "nbformat": 4,
 "nbformat_minor": 0
}