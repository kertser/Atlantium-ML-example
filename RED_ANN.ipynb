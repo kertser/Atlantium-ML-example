{
 "cells": [
  {
   "cell_type": "code",
   "execution_count": 1,
   "metadata": {
    "collapsed": true,
    "pycharm": {
     "name": "#%%\n"
    }
   },
   "outputs": [],
   "source": [
    "import pandas as pd\n",
    "from sklearn.model_selection import train_test_split\n",
    "import matplotlib.pyplot as plt\n",
    "import numpy as np"
   ]
  },
  {
   "cell_type": "code",
   "execution_count": 2,
   "outputs": [],
   "source": [
    "df = pd.read_csv('Raw_Data.csv',header=0).round(1)"
   ],
   "metadata": {
    "collapsed": false,
    "pycharm": {
     "name": "#%%\n"
    }
   }
  },
  {
   "cell_type": "code",
   "execution_count": 3,
   "outputs": [
    {
     "data": {
      "text/plain": "   %T254  %T215   Flow   UVS  Actual Power  N   RED\n0   88.6   63.3  257.6  23.2           6.0  2  71.0\n1   88.6   63.3  257.6  23.3           6.0  2  72.8\n2   88.6   63.3  257.6  23.3           6.0  2  73.6\n3   93.0   82.8  189.1  24.6           3.5  2  98.1\n4   93.0   82.8  189.1  24.7           3.5  2  98.8",
      "text/html": "<div>\n<style scoped>\n    .dataframe tbody tr th:only-of-type {\n        vertical-align: middle;\n    }\n\n    .dataframe tbody tr th {\n        vertical-align: top;\n    }\n\n    .dataframe thead th {\n        text-align: right;\n    }\n</style>\n<table border=\"1\" class=\"dataframe\">\n  <thead>\n    <tr style=\"text-align: right;\">\n      <th></th>\n      <th>%T254</th>\n      <th>%T215</th>\n      <th>Flow</th>\n      <th>UVS</th>\n      <th>Actual Power</th>\n      <th>N</th>\n      <th>RED</th>\n    </tr>\n  </thead>\n  <tbody>\n    <tr>\n      <th>0</th>\n      <td>88.6</td>\n      <td>63.3</td>\n      <td>257.6</td>\n      <td>23.2</td>\n      <td>6.0</td>\n      <td>2</td>\n      <td>71.0</td>\n    </tr>\n    <tr>\n      <th>1</th>\n      <td>88.6</td>\n      <td>63.3</td>\n      <td>257.6</td>\n      <td>23.3</td>\n      <td>6.0</td>\n      <td>2</td>\n      <td>72.8</td>\n    </tr>\n    <tr>\n      <th>2</th>\n      <td>88.6</td>\n      <td>63.3</td>\n      <td>257.6</td>\n      <td>23.3</td>\n      <td>6.0</td>\n      <td>2</td>\n      <td>73.6</td>\n    </tr>\n    <tr>\n      <th>3</th>\n      <td>93.0</td>\n      <td>82.8</td>\n      <td>189.1</td>\n      <td>24.6</td>\n      <td>3.5</td>\n      <td>2</td>\n      <td>98.1</td>\n    </tr>\n    <tr>\n      <th>4</th>\n      <td>93.0</td>\n      <td>82.8</td>\n      <td>189.1</td>\n      <td>24.7</td>\n      <td>3.5</td>\n      <td>2</td>\n      <td>98.8</td>\n    </tr>\n  </tbody>\n</table>\n</div>"
     },
     "execution_count": 3,
     "metadata": {},
     "output_type": "execute_result"
    }
   ],
   "source": [
    "#Original Data\n",
    "df.head()"
   ],
   "metadata": {
    "collapsed": false,
    "pycharm": {
     "name": "#%%\n"
    }
   }
  },
  {
   "cell_type": "code",
   "execution_count": 4,
   "outputs": [],
   "source": [
    "#Synthetic data for 1 and 2 lamps - based on UV dose multiplication\n",
    "df1 = df.loc[df['N']==1].copy()\n",
    "df1.loc[:, 'RED']*=2\n",
    "df1.loc[:, 'N']=2\n",
    "\n",
    "df2 = df.loc[df['N']==2].copy()\n",
    "df2.loc[:, 'RED']/=2\n",
    "df2.loc[:, 'N']=1\n",
    "\n",
    "df=df.append(df1,ignore_index=True)\n",
    "df=df.append(df2,ignore_index=True)"
   ],
   "metadata": {
    "collapsed": false,
    "pycharm": {
     "name": "#%%\n"
    }
   }
  },
  {
   "cell_type": "code",
   "execution_count": 5,
   "outputs": [],
   "source": [
    "# Duplicate the situation for 3 and 4 lamps:\n",
    "df_3 = df.loc[df['N']==1].copy()\n",
    "df2.loc[:, 'RED']*=3\n",
    "df2.loc[:, 'N']=3\n",
    "\n",
    "df_4 = df.loc[df['N']==2].copy()\n",
    "df2.loc[:, 'RED']*=2\n",
    "df2.loc[:, 'N']=4\n",
    "\n",
    "df=df.append(df_3,ignore_index=True)\n",
    "df=df.append(df_4,ignore_index=True)"
   ],
   "metadata": {
    "collapsed": false,
    "pycharm": {
     "name": "#%%\n"
    }
   }
  },
  {
   "cell_type": "code",
   "execution_count": 6,
   "outputs": [
    {
     "data": {
      "text/plain": "<AxesSubplot:xlabel='%T254', ylabel='%T215'>"
     },
     "execution_count": 6,
     "metadata": {},
     "output_type": "execute_result"
    },
    {
     "data": {
      "text/plain": "<Figure size 432x288 with 1 Axes>",
      "image/png": "[encoded data removed]"
     },
     "metadata": {
      "needs_background": "light"
     },
     "output_type": "display_data"
    }
   ],
   "source": [
    "df.plot.scatter(x='%T254',y='%T215')"
   ],
   "metadata": {
    "collapsed": false,
    "pycharm": {
     "name": "#%%\n"
    }
   }
  },
  {
   "cell_type": "code",
   "execution_count": 7,
   "outputs": [],
   "source": [
    "# Transform UVT into exp(-UVT/100)\n",
    "df['%T254'] = np.exp(-df['%T254']/100)\n",
    "df['%T215'] = np.exp(-df['%T215']/100)"
   ],
   "metadata": {
    "collapsed": false,
    "pycharm": {
     "name": "#%%\n"
    }
   }
  },
  {
   "cell_type": "code",
   "execution_count": 8,
   "outputs": [],
   "source": [
    "from sklearn.preprocessing import StandardScaler\n",
    "sc = StandardScaler()\n",
    "scaled_features = sc.fit_transform(df.values)\n",
    "#restore column names\n",
    "scaled_features_df = pd.DataFrame(scaled_features, index=df.index, columns=df.columns)"
   ],
   "metadata": {
    "collapsed": false,
    "pycharm": {
     "name": "#%%\n"
    }
   }
  },
  {
   "cell_type": "code",
   "execution_count": 9,
   "outputs": [],
   "source": [
    "X = scaled_features_df.drop('RED',axis=1)\n",
    "y = scaled_features_df['RED']"
   ],
   "metadata": {
    "collapsed": false,
    "pycharm": {
     "name": "#%%\n"
    }
   }
  },
  {
   "cell_type": "code",
   "execution_count": 10,
   "outputs": [],
   "source": [
    "X_train, X_test, y_train, y_test = train_test_split(X, y, test_size=0.4, random_state=0)\n",
    "X_train, X_val, y_train, y_val = train_test_split(X_train, y_train, test_size=0.5, random_state=0)"
   ],
   "metadata": {
    "collapsed": false,
    "pycharm": {
     "name": "#%%\n"
    }
   }
  },
  {
   "cell_type": "code",
   "execution_count": 11,
   "outputs": [],
   "source": [
    "from tensorflow.keras.models import Sequential\n",
    "from tensorflow.keras.layers import *\n",
    "from tensorflow.keras.losses import MeanSquaredError\n",
    "from tensorflow.keras.metrics import RootMeanSquaredError\n",
    "from tensorflow.keras.optimizers import Adam\n",
    "from keras.regularizers import l2"
   ],
   "metadata": {
    "collapsed": false,
    "pycharm": {
     "name": "#%%\n"
    }
   }
  },
  {
   "cell_type": "code",
   "execution_count": 12,
   "outputs": [],
   "source": [
    "# HyperParameters:\n",
    "Dense1 = 10\n",
    "Dense2 = 4\n",
    "LearningRate = 0.01\n",
    "dropout = 0.1\n",
    "GNoise = 0.1\n",
    "Epochs = 100\n",
    "\n",
    "L2regularization = 0.02\n",
    "Bias_regularization = 0.02\n",
    "\n",
    "#Features\n",
    "Features = 6"
   ],
   "metadata": {
    "collapsed": false,
    "pycharm": {
     "name": "#%%\n"
    }
   }
  },
  {
   "cell_type": "code",
   "execution_count": 13,
   "outputs": [
    {
     "name": "stdout",
     "output_type": "stream",
     "text": [
      "Model: \"sequential\"\n",
      "_________________________________________________________________\n",
      "Layer (type)                 Output Shape              Param #   \n",
      "=================================================================\n",
      "gaussian_noise (GaussianNois (None, 6)                 0         \n",
      "_________________________________________________________________\n",
      "dense (Dense)                (None, 10)                70        \n",
      "_________________________________________________________________\n",
      "dropout (Dropout)            (None, 10)                0         \n",
      "_________________________________________________________________\n",
      "dense_1 (Dense)              (None, 4)                 44        \n",
      "_________________________________________________________________\n",
      "dense_2 (Dense)              (None, 1)                 5         \n",
      "=================================================================\n",
      "Total params: 119\n",
      "Trainable params: 119\n",
      "Non-trainable params: 0\n",
      "_________________________________________________________________\n"
     ]
    }
   ],
   "source": [
    "model1 = Sequential()\n",
    "model1.add(InputLayer(input_shape=(Features,)))\n",
    "model1.add(GaussianNoise(GNoise))\n",
    "#model1.add(Dense(Dense1, 'softmax'))\n",
    "model1.add(Dense(Dense1, kernel_regularizer=l2(L2regularization), bias_regularizer=l2(Bias_regularization), activation='softmax'))\n",
    "model1.add(Dropout(dropout))\n",
    "model1.add(Dense(Dense2, 'softmax'))\n",
    "model1.add(Dense(1, 'linear'))\n",
    "model1.summary()"
   ],
   "metadata": {
    "collapsed": false,
    "pycharm": {
     "name": "#%%\n"
    }
   }
  },
  {
   "cell_type": "code",
   "execution_count": 14,
   "outputs": [],
   "source": [
    "model1.compile(loss=MeanSquaredError(), optimizer=Adam(learning_rate=LearningRate), metrics=[RootMeanSquaredError()])"
   ],
   "metadata": {
    "collapsed": false,
    "pycharm": {
     "name": "#%%\n"
    }
   }
  },
  {
   "cell_type": "code",
   "execution_count": null,
   "outputs": [],
   "source": [
    "### Experimental\n",
    "def"
   ],
   "metadata": {
    "collapsed": false,
    "pycharm": {
     "name": "#%%\n"
    }
   }
  },
  {
   "cell_type": "code",
   "execution_count": null,
   "outputs": [],
   "source": [
    "### Experimental ####\n",
    "from sklearn.model_selection import GridSearchCV\n",
    "grid = dict(Dense1 = [5,7,10,12,15],\n",
    "            Dense2 = [3,4,5],\n",
    "            LearningRate = [0.005,0.01,0.03,0.07,0.1],\n",
    "            dropout = [0.05,0.1,0.2],\n",
    "            GNoise = [0.05,0.1,0.2],\n",
    "            Epochs = [50,80,100],\n",
    "            L2regularization = [0.01,0.02,0.03,0.04],\n",
    "            Bias_regularization = [0.01,0.02,0.03,0.04]\n",
    "            )\n",
    "from functools import reduce\n",
    "cv = reduce(lambda x, y: x*y, [len(grid[key]) for key in grid.keys()]) # calculate number of test-parameters\n",
    "modelFit =  GridSearchCV(estimator = model1, param_grid = grid, cv = cv)\n",
    "modelFit.fit(X_train,y_train)\n",
    "\n",
    "#Need to implement model build function"
   ],
   "metadata": {
    "collapsed": false,
    "pycharm": {
     "name": "#%%\n"
    }
   }
  },
  {
   "cell_type": "code",
   "execution_count": 15,
   "outputs": [
    {
     "name": "stdout",
     "output_type": "stream",
     "text": [
      "Epoch 1/100\n",
      "6/6 [==============================] - 0s 63ms/step - loss: 1.4518 - root_mean_squared_error: 1.1512 - val_loss: 0.9978 - val_root_mean_squared_error: 0.9461\n",
      "Epoch 2/100\n",
      "6/6 [==============================] - 0s 5ms/step - loss: 1.3195 - root_mean_squared_error: 1.1077 - val_loss: 0.9078 - val_root_mean_squared_error: 0.9130\n",
      "Epoch 3/100\n",
      "6/6 [==============================] - 0s 5ms/step - loss: 1.2346 - root_mean_squared_error: 1.0809 - val_loss: 0.8559 - val_root_mean_squared_error: 0.8964\n",
      "Epoch 4/100\n",
      "6/6 [==============================] - 0s 5ms/step - loss: 1.1750 - root_mean_squared_error: 1.0622 - val_loss: 0.8240 - val_root_mean_squared_error: 0.8871\n",
      "Epoch 5/100\n",
      "6/6 [==============================] - 0s 5ms/step - loss: 1.1419 - root_mean_squared_error: 1.0530 - val_loss: 0.8076 - val_root_mean_squared_error: 0.8840\n",
      "Epoch 6/100\n",
      "6/6 [==============================] - 0s 5ms/step - loss: 1.1283 - root_mean_squared_error: 1.0510 - val_loss: 0.7990 - val_root_mean_squared_error: 0.8829\n",
      "Epoch 7/100\n",
      "6/6 [==============================] - 0s 5ms/step - loss: 1.1122 - root_mean_squared_error: 1.0461 - val_loss: 0.7936 - val_root_mean_squared_error: 0.8819\n",
      "Epoch 8/100\n",
      "6/6 [==============================] - 0s 5ms/step - loss: 1.1034 - root_mean_squared_error: 1.0431 - val_loss: 0.7893 - val_root_mean_squared_error: 0.8797\n",
      "Epoch 9/100\n",
      "6/6 [==============================] - 0s 5ms/step - loss: 1.0999 - root_mean_squared_error: 1.0410 - val_loss: 0.7860 - val_root_mean_squared_error: 0.8761\n",
      "Epoch 10/100\n",
      "6/6 [==============================] - 0s 5ms/step - loss: 1.0829 - root_mean_squared_error: 1.0310 - val_loss: 0.7717 - val_root_mean_squared_error: 0.8653\n",
      "Epoch 11/100\n",
      "6/6 [==============================] - 0s 5ms/step - loss: 1.0631 - root_mean_squared_error: 1.0191 - val_loss: 0.7550 - val_root_mean_squared_error: 0.8528\n",
      "Epoch 12/100\n",
      "6/6 [==============================] - 0s 5ms/step - loss: 1.0477 - root_mean_squared_error: 1.0089 - val_loss: 0.7384 - val_root_mean_squared_error: 0.8390\n",
      "Epoch 13/100\n",
      "6/6 [==============================] - 0s 5ms/step - loss: 1.0293 - root_mean_squared_error: 0.9961 - val_loss: 0.7161 - val_root_mean_squared_error: 0.8210\n",
      "Epoch 14/100\n",
      "6/6 [==============================] - 0s 5ms/step - loss: 0.9993 - root_mean_squared_error: 0.9771 - val_loss: 0.6951 - val_root_mean_squared_error: 0.8036\n",
      "Epoch 15/100\n",
      "6/6 [==============================] - 0s 5ms/step - loss: 0.9608 - root_mean_squared_error: 0.9535 - val_loss: 0.6694 - val_root_mean_squared_error: 0.7830\n",
      "Epoch 16/100\n",
      "6/6 [==============================] - 0s 5ms/step - loss: 0.9291 - root_mean_squared_error: 0.9331 - val_loss: 0.6402 - val_root_mean_squared_error: 0.7600\n",
      "Epoch 17/100\n",
      "6/6 [==============================] - 0s 5ms/step - loss: 0.9010 - root_mean_squared_error: 0.9145 - val_loss: 0.6100 - val_root_mean_squared_error: 0.7356\n",
      "Epoch 18/100\n",
      "6/6 [==============================] - 0s 5ms/step - loss: 0.8629 - root_mean_squared_error: 0.8895 - val_loss: 0.5776 - val_root_mean_squared_error: 0.7084\n",
      "Epoch 19/100\n",
      "6/6 [==============================] - 0s 5ms/step - loss: 0.8026 - root_mean_squared_error: 0.8518 - val_loss: 0.5442 - val_root_mean_squared_error: 0.6812\n",
      "Epoch 20/100\n",
      "6/6 [==============================] - 0s 5ms/step - loss: 0.7841 - root_mean_squared_error: 0.8378 - val_loss: 0.5130 - val_root_mean_squared_error: 0.6540\n",
      "Epoch 21/100\n",
      "6/6 [==============================] - 0s 5ms/step - loss: 0.7644 - root_mean_squared_error: 0.8236 - val_loss: 0.4851 - val_root_mean_squared_error: 0.6313\n",
      "Epoch 22/100\n",
      "6/6 [==============================] - 0s 5ms/step - loss: 0.7119 - root_mean_squared_error: 0.7914 - val_loss: 0.4585 - val_root_mean_squared_error: 0.6111\n",
      "Epoch 23/100\n",
      "6/6 [==============================] - 0s 5ms/step - loss: 0.6731 - root_mean_squared_error: 0.7665 - val_loss: 0.4393 - val_root_mean_squared_error: 0.5948\n",
      "Epoch 24/100\n",
      "6/6 [==============================] - 0s 5ms/step - loss: 0.6950 - root_mean_squared_error: 0.7813 - val_loss: 0.4225 - val_root_mean_squared_error: 0.5832\n",
      "Epoch 25/100\n",
      "6/6 [==============================] - 0s 5ms/step - loss: 0.5996 - root_mean_squared_error: 0.7202 - val_loss: 0.4052 - val_root_mean_squared_error: 0.5712\n",
      "Epoch 26/100\n",
      "6/6 [==============================] - 0s 5ms/step - loss: 0.6193 - root_mean_squared_error: 0.7354 - val_loss: 0.3899 - val_root_mean_squared_error: 0.5579\n",
      "Epoch 27/100\n",
      "6/6 [==============================] - 0s 5ms/step - loss: 0.6026 - root_mean_squared_error: 0.7234 - val_loss: 0.3832 - val_root_mean_squared_error: 0.5505\n",
      "Epoch 28/100\n",
      "6/6 [==============================] - 0s 5ms/step - loss: 0.5706 - root_mean_squared_error: 0.7006 - val_loss: 0.3757 - val_root_mean_squared_error: 0.5450\n",
      "Epoch 29/100\n",
      "6/6 [==============================] - 0s 5ms/step - loss: 0.5626 - root_mean_squared_error: 0.6960 - val_loss: 0.3620 - val_root_mean_squared_error: 0.5349\n",
      "Epoch 30/100\n",
      "6/6 [==============================] - 0s 5ms/step - loss: 0.5866 - root_mean_squared_error: 0.7161 - val_loss: 0.3483 - val_root_mean_squared_error: 0.5272\n",
      "Epoch 31/100\n",
      "6/6 [==============================] - 0s 5ms/step - loss: 0.5033 - root_mean_squared_error: 0.6593 - val_loss: 0.3398 - val_root_mean_squared_error: 0.5228\n",
      "Epoch 32/100\n",
      "6/6 [==============================] - 0s 5ms/step - loss: 0.5444 - root_mean_squared_error: 0.6916 - val_loss: 0.3348 - val_root_mean_squared_error: 0.5184\n",
      "Epoch 33/100\n",
      "6/6 [==============================] - 0s 5ms/step - loss: 0.5283 - root_mean_squared_error: 0.6797 - val_loss: 0.3334 - val_root_mean_squared_error: 0.5157\n",
      "Epoch 34/100\n",
      "6/6 [==============================] - 0s 5ms/step - loss: 0.5629 - root_mean_squared_error: 0.7030 - val_loss: 0.3461 - val_root_mean_squared_error: 0.5251\n",
      "Epoch 35/100\n",
      "6/6 [==============================] - 0s 5ms/step - loss: 0.5738 - root_mean_squared_error: 0.7092 - val_loss: 0.3279 - val_root_mean_squared_error: 0.5076\n",
      "Epoch 36/100\n",
      "6/6 [==============================] - 0s 5ms/step - loss: 0.4827 - root_mean_squared_error: 0.6433 - val_loss: 0.3070 - val_root_mean_squared_error: 0.4905\n",
      "Epoch 37/100\n",
      "6/6 [==============================] - 0s 5ms/step - loss: 0.6101 - root_mean_squared_error: 0.7377 - val_loss: 0.3081 - val_root_mean_squared_error: 0.4929\n",
      "Epoch 38/100\n",
      "6/6 [==============================] - 0s 5ms/step - loss: 0.4754 - root_mean_squared_error: 0.6407 - val_loss: 0.3036 - val_root_mean_squared_error: 0.4881\n",
      "Epoch 39/100\n",
      "6/6 [==============================] - 0s 5ms/step - loss: 0.4808 - root_mean_squared_error: 0.6433 - val_loss: 0.3108 - val_root_mean_squared_error: 0.4920\n",
      "Epoch 40/100\n",
      "6/6 [==============================] - 0s 5ms/step - loss: 0.4114 - root_mean_squared_error: 0.5855 - val_loss: 0.3027 - val_root_mean_squared_error: 0.4849\n",
      "Epoch 41/100\n",
      "6/6 [==============================] - 0s 5ms/step - loss: 0.4469 - root_mean_squared_error: 0.6167 - val_loss: 0.2899 - val_root_mean_squared_error: 0.4748\n",
      "Epoch 42/100\n",
      "6/6 [==============================] - 0s 5ms/step - loss: 0.4160 - root_mean_squared_error: 0.5935 - val_loss: 0.2768 - val_root_mean_squared_error: 0.4629\n",
      "Epoch 43/100\n",
      "6/6 [==============================] - 0s 5ms/step - loss: 0.3693 - root_mean_squared_error: 0.5542 - val_loss: 0.2723 - val_root_mean_squared_error: 0.4578\n",
      "Epoch 44/100\n",
      "6/6 [==============================] - 0s 5ms/step - loss: 0.5529 - root_mean_squared_error: 0.6991 - val_loss: 0.2926 - val_root_mean_squared_error: 0.4760\n",
      "Epoch 45/100\n",
      "6/6 [==============================] - 0s 5ms/step - loss: 0.3989 - root_mean_squared_error: 0.5775 - val_loss: 0.2769 - val_root_mean_squared_error: 0.4621\n",
      "Epoch 46/100\n",
      "6/6 [==============================] - 0s 5ms/step - loss: 0.4639 - root_mean_squared_error: 0.6339 - val_loss: 0.2623 - val_root_mean_squared_error: 0.4506\n",
      "Epoch 47/100\n",
      "6/6 [==============================] - 0s 5ms/step - loss: 0.4013 - root_mean_squared_error: 0.5860 - val_loss: 0.2599 - val_root_mean_squared_error: 0.4511\n",
      "Epoch 48/100\n",
      "6/6 [==============================] - 0s 5ms/step - loss: 0.4980 - root_mean_squared_error: 0.6647 - val_loss: 0.2621 - val_root_mean_squared_error: 0.4543\n",
      "Epoch 49/100\n",
      "6/6 [==============================] - 0s 5ms/step - loss: 0.5133 - root_mean_squared_error: 0.6766 - val_loss: 0.2611 - val_root_mean_squared_error: 0.4543\n",
      "Epoch 50/100\n",
      "6/6 [==============================] - 0s 5ms/step - loss: 0.3699 - root_mean_squared_error: 0.5619 - val_loss: 0.2476 - val_root_mean_squared_error: 0.4417\n",
      "Epoch 51/100\n",
      "6/6 [==============================] - 0s 5ms/step - loss: 0.3663 - root_mean_squared_error: 0.5608 - val_loss: 0.2538 - val_root_mean_squared_error: 0.4499\n",
      "Epoch 52/100\n",
      "6/6 [==============================] - 0s 5ms/step - loss: 0.4379 - root_mean_squared_error: 0.6214 - val_loss: 0.2539 - val_root_mean_squared_error: 0.4495\n",
      "Epoch 53/100\n",
      "6/6 [==============================] - 0s 5ms/step - loss: 0.3387 - root_mean_squared_error: 0.5361 - val_loss: 0.2473 - val_root_mean_squared_error: 0.4428\n",
      "Epoch 54/100\n",
      "6/6 [==============================] - 0s 5ms/step - loss: 0.4011 - root_mean_squared_error: 0.5913 - val_loss: 0.2480 - val_root_mean_squared_error: 0.4428\n",
      "Epoch 55/100\n",
      "6/6 [==============================] - 0s 5ms/step - loss: 0.4033 - root_mean_squared_error: 0.5926 - val_loss: 0.2466 - val_root_mean_squared_error: 0.4412\n",
      "Epoch 56/100\n",
      "6/6 [==============================] - 0s 5ms/step - loss: 0.4897 - root_mean_squared_error: 0.6619 - val_loss: 0.2407 - val_root_mean_squared_error: 0.4354\n",
      "Epoch 57/100\n",
      "6/6 [==============================] - 0s 5ms/step - loss: 0.5415 - root_mean_squared_error: 0.7004 - val_loss: 0.2432 - val_root_mean_squared_error: 0.4378\n",
      "Epoch 58/100\n",
      "6/6 [==============================] - 0s 5ms/step - loss: 0.3420 - root_mean_squared_error: 0.5380 - val_loss: 0.2626 - val_root_mean_squared_error: 0.4564\n",
      "Epoch 59/100\n",
      "6/6 [==============================] - 0s 5ms/step - loss: 0.3250 - root_mean_squared_error: 0.5198 - val_loss: 0.2671 - val_root_mean_squared_error: 0.4606\n",
      "Epoch 60/100\n",
      "6/6 [==============================] - 0s 5ms/step - loss: 0.4809 - root_mean_squared_error: 0.6529 - val_loss: 0.2446 - val_root_mean_squared_error: 0.4375\n",
      "Epoch 61/100\n",
      "6/6 [==============================] - 0s 5ms/step - loss: 0.4610 - root_mean_squared_error: 0.6394 - val_loss: 0.2449 - val_root_mean_squared_error: 0.4412\n",
      "Epoch 62/100\n",
      "6/6 [==============================] - 0s 5ms/step - loss: 0.4866 - root_mean_squared_error: 0.6612 - val_loss: 0.2506 - val_root_mean_squared_error: 0.4491\n",
      "Epoch 63/100\n",
      "6/6 [==============================] - 0s 5ms/step - loss: 0.4822 - root_mean_squared_error: 0.6580 - val_loss: 0.2422 - val_root_mean_squared_error: 0.4371\n",
      "Epoch 64/100\n",
      "6/6 [==============================] - 0s 5ms/step - loss: 0.3992 - root_mean_squared_error: 0.5889 - val_loss: 0.2652 - val_root_mean_squared_error: 0.4591\n",
      "Epoch 65/100\n",
      "6/6 [==============================] - 0s 5ms/step - loss: 0.3575 - root_mean_squared_error: 0.5503 - val_loss: 0.2626 - val_root_mean_squared_error: 0.4562\n",
      "Epoch 66/100\n",
      "6/6 [==============================] - 0s 5ms/step - loss: 0.3687 - root_mean_squared_error: 0.5612 - val_loss: 0.2383 - val_root_mean_squared_error: 0.4314\n",
      "Epoch 67/100\n",
      "6/6 [==============================] - 0s 5ms/step - loss: 0.4786 - root_mean_squared_error: 0.6540 - val_loss: 0.2404 - val_root_mean_squared_error: 0.4368\n",
      "Epoch 68/100\n",
      "6/6 [==============================] - 0s 5ms/step - loss: 0.3481 - root_mean_squared_error: 0.5462 - val_loss: 0.2417 - val_root_mean_squared_error: 0.4377\n",
      "Epoch 69/100\n",
      "6/6 [==============================] - 0s 5ms/step - loss: 0.3212 - root_mean_squared_error: 0.5206 - val_loss: 0.2480 - val_root_mean_squared_error: 0.4433\n",
      "Epoch 70/100\n",
      "6/6 [==============================] - 0s 5ms/step - loss: 0.3709 - root_mean_squared_error: 0.5644 - val_loss: 0.2608 - val_root_mean_squared_error: 0.4553\n",
      "Epoch 71/100\n",
      "6/6 [==============================] - 0s 5ms/step - loss: 0.3489 - root_mean_squared_error: 0.5434 - val_loss: 0.2478 - val_root_mean_squared_error: 0.4409\n",
      "Epoch 72/100\n",
      "6/6 [==============================] - 0s 5ms/step - loss: 0.3532 - root_mean_squared_error: 0.5477 - val_loss: 0.2337 - val_root_mean_squared_error: 0.4260\n",
      "Epoch 73/100\n",
      "6/6 [==============================] - 0s 5ms/step - loss: 0.2974 - root_mean_squared_error: 0.4957 - val_loss: 0.2273 - val_root_mean_squared_error: 0.4200\n",
      "Epoch 74/100\n",
      "6/6 [==============================] - 0s 5ms/step - loss: 0.4246 - root_mean_squared_error: 0.6115 - val_loss: 0.2212 - val_root_mean_squared_error: 0.4142\n",
      "Epoch 75/100\n",
      "6/6 [==============================] - 0s 5ms/step - loss: 0.5135 - root_mean_squared_error: 0.6817 - val_loss: 0.2291 - val_root_mean_squared_error: 0.4252\n",
      "Epoch 76/100\n",
      "6/6 [==============================] - 0s 5ms/step - loss: 0.3559 - root_mean_squared_error: 0.5549 - val_loss: 0.2322 - val_root_mean_squared_error: 0.4289\n",
      "Epoch 77/100\n",
      "6/6 [==============================] - 0s 5ms/step - loss: 0.3970 - root_mean_squared_error: 0.5899 - val_loss: 0.2282 - val_root_mean_squared_error: 0.4205\n",
      "Epoch 78/100\n",
      "6/6 [==============================] - 0s 5ms/step - loss: 0.4230 - root_mean_squared_error: 0.6083 - val_loss: 0.2520 - val_root_mean_squared_error: 0.4449\n",
      "Epoch 79/100\n",
      "6/6 [==============================] - 0s 5ms/step - loss: 0.2910 - root_mean_squared_error: 0.4878 - val_loss: 0.2337 - val_root_mean_squared_error: 0.4264\n",
      "Epoch 80/100\n",
      "6/6 [==============================] - 0s 5ms/step - loss: 0.3291 - root_mean_squared_error: 0.5270 - val_loss: 0.2299 - val_root_mean_squared_error: 0.4223\n",
      "Epoch 81/100\n",
      "6/6 [==============================] - 0s 5ms/step - loss: 0.3934 - root_mean_squared_error: 0.5841 - val_loss: 0.2233 - val_root_mean_squared_error: 0.4117\n",
      "Epoch 82/100\n",
      "6/6 [==============================] - 0s 5ms/step - loss: 0.3740 - root_mean_squared_error: 0.5652 - val_loss: 0.2345 - val_root_mean_squared_error: 0.4229\n",
      "Epoch 83/100\n",
      "6/6 [==============================] - 0s 5ms/step - loss: 0.2985 - root_mean_squared_error: 0.4925 - val_loss: 0.2408 - val_root_mean_squared_error: 0.4300\n",
      "Epoch 84/100\n",
      "6/6 [==============================] - 0s 5ms/step - loss: 0.3929 - root_mean_squared_error: 0.5811 - val_loss: 0.2264 - val_root_mean_squared_error: 0.4155\n",
      "Epoch 85/100\n",
      "6/6 [==============================] - 0s 5ms/step - loss: 0.6013 - root_mean_squared_error: 0.7409 - val_loss: 0.2212 - val_root_mean_squared_error: 0.4111\n",
      "Epoch 86/100\n",
      "6/6 [==============================] - 0s 5ms/step - loss: 0.3751 - root_mean_squared_error: 0.5667 - val_loss: 0.2640 - val_root_mean_squared_error: 0.4538\n",
      "Epoch 87/100\n",
      "6/6 [==============================] - 0s 5ms/step - loss: 0.3915 - root_mean_squared_error: 0.5757 - val_loss: 0.2958 - val_root_mean_squared_error: 0.4834\n",
      "Epoch 88/100\n",
      "6/6 [==============================] - 0s 5ms/step - loss: 0.3761 - root_mean_squared_error: 0.5604 - val_loss: 0.2639 - val_root_mean_squared_error: 0.4499\n",
      "Epoch 89/100\n",
      "6/6 [==============================] - 0s 5ms/step - loss: 0.3971 - root_mean_squared_error: 0.5796 - val_loss: 0.2453 - val_root_mean_squared_error: 0.4307\n",
      "Epoch 90/100\n",
      "6/6 [==============================] - 0s 5ms/step - loss: 0.3432 - root_mean_squared_error: 0.5332 - val_loss: 0.2356 - val_root_mean_squared_error: 0.4223\n",
      "Epoch 91/100\n",
      "6/6 [==============================] - 0s 5ms/step - loss: 0.3323 - root_mean_squared_error: 0.5248 - val_loss: 0.2322 - val_root_mean_squared_error: 0.4195\n",
      "Epoch 92/100\n",
      "6/6 [==============================] - 0s 5ms/step - loss: 0.3189 - root_mean_squared_error: 0.5127 - val_loss: 0.2332 - val_root_mean_squared_error: 0.4208\n",
      "Epoch 93/100\n",
      "6/6 [==============================] - 0s 5ms/step - loss: 0.3379 - root_mean_squared_error: 0.5306 - val_loss: 0.2365 - val_root_mean_squared_error: 0.4246\n",
      "Epoch 94/100\n",
      "6/6 [==============================] - 0s 5ms/step - loss: 0.3482 - root_mean_squared_error: 0.5411 - val_loss: 0.2298 - val_root_mean_squared_error: 0.4185\n",
      "Epoch 95/100\n",
      "6/6 [==============================] - 0s 5ms/step - loss: 0.2904 - root_mean_squared_error: 0.4860 - val_loss: 0.2264 - val_root_mean_squared_error: 0.4159\n",
      "Epoch 96/100\n",
      "6/6 [==============================] - 0s 5ms/step - loss: 0.2856 - root_mean_squared_error: 0.4820 - val_loss: 0.2295 - val_root_mean_squared_error: 0.4197\n",
      "Epoch 97/100\n",
      "6/6 [==============================] - 0s 5ms/step - loss: 0.2830 - root_mean_squared_error: 0.4789 - val_loss: 0.2297 - val_root_mean_squared_error: 0.4204\n",
      "Epoch 98/100\n",
      "6/6 [==============================] - 0s 5ms/step - loss: 0.3286 - root_mean_squared_error: 0.5260 - val_loss: 0.2239 - val_root_mean_squared_error: 0.4164\n",
      "Epoch 99/100\n",
      "6/6 [==============================] - 0s 5ms/step - loss: 0.4153 - root_mean_squared_error: 0.6039 - val_loss: 0.2240 - val_root_mean_squared_error: 0.4158\n",
      "Epoch 100/100\n",
      "6/6 [==============================] - 0s 5ms/step - loss: 0.3209 - root_mean_squared_error: 0.5193 - val_loss: 0.2341 - val_root_mean_squared_error: 0.4272\n"
     ]
    }
   ],
   "source": [
    "history = model1.fit(X_train, y_train, validation_data=(X_val, y_val), epochs=Epochs)"
   ],
   "metadata": {
    "collapsed": false,
    "pycharm": {
     "name": "#%%\n"
    }
   }
  },
  {
   "cell_type": "code",
   "execution_count": 16,
   "outputs": [
    {
     "name": "stdout",
     "output_type": "stream",
     "text": [
      "dict_keys(['loss', 'root_mean_squared_error', 'val_loss', 'val_root_mean_squared_error'])\n"
     ]
    },
    {
     "data": {
      "text/plain": "<Figure size 432x288 with 1 Axes>",
      "image/png": "[encoded data removed]"
     },
     "metadata": {
      "needs_background": "light"
     },
     "output_type": "display_data"
    },
    {
     "data": {
      "text/plain": "<Figure size 432x288 with 1 Axes>",
      "image/png": "[encoded data removed]"
     },
     "metadata": {
      "needs_background": "light"
     },
     "output_type": "display_data"
    }
   ],
   "source": [
    "# list all data in history\n",
    "print(history.history.keys())\n",
    "# summarize history for accuracy\n",
    "plt.plot(history.history['root_mean_squared_error'])\n",
    "plt.plot(history.history['loss'])\n",
    "plt.title('RMS')\n",
    "plt.ylabel('RMS')\n",
    "plt.xlabel('epoch')\n",
    "plt.legend(['train', 'validation'], loc='upper left')\n",
    "plt.show()\n",
    "# summarize history for loss\n",
    "plt.plot(history.history['val_root_mean_squared_error'])\n",
    "plt.plot(history.history['val_loss'])\n",
    "plt.title('model loss')\n",
    "plt.ylabel('loss')\n",
    "plt.xlabel('epoch')\n",
    "plt.legend(['train', 'validation'], loc='upper left')\n",
    "plt.show()"
   ],
   "metadata": {
    "collapsed": false,
    "pycharm": {
     "name": "#%%\n"
    }
   }
  },
  {
   "cell_type": "code",
   "execution_count": 17,
   "outputs": [],
   "source": [
    "test_predictions = model1.predict(X_test)"
   ],
   "metadata": {
    "collapsed": false,
    "pycharm": {
     "name": "#%%\n"
    }
   }
  },
  {
   "cell_type": "code",
   "execution_count": 18,
   "outputs": [],
   "source": [
    "X_test.insert(6,'RED',test_predictions)\n",
    "y_pred = sc.inverse_transform(X_test)[:,Features]\n",
    "X_test.drop('RED',axis=1).insert(Features,'RED',y_test)\n",
    "y_test = sc.inverse_transform(X_test)[:,Features]"
   ],
   "metadata": {
    "collapsed": false,
    "pycharm": {
     "name": "#%%\n"
    }
   }
  },
  {
   "cell_type": "code",
   "execution_count": 19,
   "outputs": [
    {
     "data": {
      "text/plain": "<Figure size 432x288 with 1 Axes>",
      "image/png": "[encoded data removed]"
     },
     "metadata": {
      "needs_background": "light"
     },
     "output_type": "display_data"
    }
   ],
   "source": [
    "from numpy.polynomial.polynomial import polyfit\n",
    "plt.scatter(y_test,y_pred)\n",
    "# Fit with polyfit\n",
    "b, m = polyfit(y_test, y_pred, 1)\n",
    "plt.plot(y_test, b + m * y_test, '--', color='red')\n",
    "plt.xlabel(\"Actual RED [mJ/cm^2]\")\n",
    "plt.ylabel(\"Predicted RED [mJ/cm^2]\")\n",
    "plt.show()"
   ],
   "metadata": {
    "collapsed": false,
    "pycharm": {
     "name": "#%%\n"
    }
   }
  },
  {
   "cell_type": "code",
   "execution_count": 20,
   "outputs": [
    {
     "data": {
      "text/plain": "<Figure size 432x288 with 1 Axes>",
      "image/png": "[encoded data removed]"
     },
     "metadata": {
      "needs_background": "light"
     },
     "output_type": "display_data"
    }
   ],
   "source": [
    "val_predictions = model1.predict(X_val)\n",
    "\n",
    "X_val.insert(6,'RED',val_predictions)\n",
    "y_pred = sc.inverse_transform(X_val)[:,Features]\n",
    "X_val.drop('RED',axis=1).insert(Features,'RED',y_val)\n",
    "y_val = sc.inverse_transform(X_val)[:,Features]\n",
    "\n",
    "plt.scatter(y_val,y_pred)\n",
    "# Fit with polyfit\n",
    "b, m = polyfit(y_val, y_pred, 1)\n",
    "plt.plot(y_val, b + m * y_val, '--', color='red')\n",
    "plt.xlabel(\"Actual RED [mJ/cm^2]\")\n",
    "plt.ylabel(\"Predicted RED [mJ/cm^2]\")\n",
    "plt.show()"
   ],
   "metadata": {
    "collapsed": false,
    "pycharm": {
     "name": "#%%\n"
    }
   }
  },
  {
   "cell_type": "code",
   "execution_count": 21,
   "outputs": [],
   "source": [
    "# Save model and scaler\n",
    "from pickle import dump\n",
    "model1.save('SavedModel_RED/REDmodel.h5')\n",
    "#dump(model1, open('SavedModel_RED/REDmodel.pkl', 'wb'))\n",
    "dump(sc, open('SavedModel_RED/scaler.pkl', 'wb'))"
   ],
   "metadata": {
    "collapsed": false,
    "pycharm": {
     "name": "#%%\n"
    }
   }
  },
  {
   "cell_type": "code",
   "execution_count": 22,
   "outputs": [],
   "source": [
    "# Features format is as following:\n",
    "# %T254,%T215,Flow,UVS,Actual Power,N,RED\n",
    "\n",
    "# RED is the target"
   ],
   "metadata": {
    "collapsed": false,
    "pycharm": {
     "name": "#%%\n"
    }
   }
  },
  {
   "cell_type": "code",
   "execution_count": 23,
   "outputs": [],
   "source": [
    "# Single testing point:\n",
    "#88.6,63.3,257.6,23.18,6.0,2,70.98\n",
    "#Target RED = 70.98\n",
    "\n",
    "UVT254 = 88.6 # [%-1cm]\n",
    "UVT215 = 63.3 # [%-1cm]\n",
    "Flow = 258 # [m^3/hr]\n",
    "UVS = 23.2 # [mJ/cm^2] - UV sensitivity aka D1Log\n",
    "Power = 6 # [kW]\n",
    "N_Lamps = 2\n",
    "\n",
    "X_vector = sc.transform(pd.DataFrame([np.exp(-UVT254/100),np.exp(-UVT215/100),Flow,UVS,Power,N_Lamps,1]).T)[:,:Features]\n",
    "# Dummy values added before the inverse transform due to the scaler preferences\n",
    "RED = sc.inverse_transform([1,1,1,1,1,1,float(model1.predict(X_vector))])[Features]"
   ],
   "metadata": {
    "collapsed": false,
    "pycharm": {
     "name": "#%%\n"
    }
   }
  },
  {
   "cell_type": "code",
   "execution_count": 24,
   "outputs": [
    {
     "name": "stdout",
     "output_type": "stream",
     "text": [
      "RED = 86.5[mJ/cm^2]\n"
     ]
    }
   ],
   "source": [
    "print('RED = {}[mJ/cm^2]'.format(round(float(RED),1)))"
   ],
   "metadata": {
    "collapsed": false,
    "pycharm": {
     "name": "#%%\n"
    }
   }
  }
 ],
 "metadata": {
  "kernelspec": {
   "display_name": "Python 3",
   "language": "python",
   "name": "python3"
  },
  "language_info": {
   "codemirror_mode": {
    "name": "ipython",
    "version": 2
   },
   "file_extension": ".py",
   "mimetype": "text/x-python",
   "name": "python",
   "nbconvert_exporter": "python",
   "pygments_lexer": "ipython2",
   "version": "2.7.6"
  }
 },
 "nbformat": 4,
 "nbformat_minor": 0
}