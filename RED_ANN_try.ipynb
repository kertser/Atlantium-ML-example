{
 "cells": [
  {
   "cell_type": "code",
   "execution_count": 1,
   "metadata": {
    "collapsed": true,
    "pycharm": {
     "name": "#%%\n"
    }
   },
   "outputs": [],
   "source": [
    "import pandas as pd\n",
    "from sklearn.model_selection import train_test_split\n",
    "from tensorflow.keras.wrappers.scikit_learn import KerasRegressor\n",
    "import matplotlib.pyplot as plt\n",
    "import numpy as np\n",
    "\n",
    "from sklearn.model_selection import GridSearchCV\n",
    "from functools import reduce"
   ]
  },
  {
   "cell_type": "code",
   "execution_count": 2,
   "outputs": [],
   "source": [
    "from tensorflow.keras.models import Sequential\n",
    "from tensorflow.keras.layers import *\n",
    "from tensorflow.keras.losses import MeanSquaredError\n",
    "from tensorflow.keras.metrics import RootMeanSquaredError\n",
    "from tensorflow.keras.optimizers import Adam\n",
    "from keras.regularizers import l2"
   ],
   "metadata": {
    "collapsed": false,
    "pycharm": {
     "name": "#%%\n"
    }
   }
  },
  {
   "cell_type": "code",
   "execution_count": 3,
   "outputs": [],
   "source": [
    "df = pd.read_csv('Raw_Data.csv',header=0).round(1)"
   ],
   "metadata": {
    "collapsed": false,
    "pycharm": {
     "name": "#%%\n"
    }
   }
  },
  {
   "cell_type": "code",
   "execution_count": 4,
   "outputs": [
    {
     "data": {
      "text/plain": "   %T254  %T215   Flow   UVS  Actual Power  N   RED\n0   88.6   63.3  257.6  23.2           6.0  2  71.0\n1   88.6   63.3  257.6  23.3           6.0  2  72.8\n2   88.6   63.3  257.6  23.3           6.0  2  73.6\n3   93.0   82.8  189.1  24.6           3.5  2  98.1\n4   93.0   82.8  189.1  24.7           3.5  2  98.8",
      "text/html": "<div>\n<style scoped>\n    .dataframe tbody tr th:only-of-type {\n        vertical-align: middle;\n    }\n\n    .dataframe tbody tr th {\n        vertical-align: top;\n    }\n\n    .dataframe thead th {\n        text-align: right;\n    }\n</style>\n<table border=\"1\" class=\"dataframe\">\n  <thead>\n    <tr style=\"text-align: right;\">\n      <th></th>\n      <th>%T254</th>\n      <th>%T215</th>\n      <th>Flow</th>\n      <th>UVS</th>\n      <th>Actual Power</th>\n      <th>N</th>\n      <th>RED</th>\n    </tr>\n  </thead>\n  <tbody>\n    <tr>\n      <th>0</th>\n      <td>88.6</td>\n      <td>63.3</td>\n      <td>257.6</td>\n      <td>23.2</td>\n      <td>6.0</td>\n      <td>2</td>\n      <td>71.0</td>\n    </tr>\n    <tr>\n      <th>1</th>\n      <td>88.6</td>\n      <td>63.3</td>\n      <td>257.6</td>\n      <td>23.3</td>\n      <td>6.0</td>\n      <td>2</td>\n      <td>72.8</td>\n    </tr>\n    <tr>\n      <th>2</th>\n      <td>88.6</td>\n      <td>63.3</td>\n      <td>257.6</td>\n      <td>23.3</td>\n      <td>6.0</td>\n      <td>2</td>\n      <td>73.6</td>\n    </tr>\n    <tr>\n      <th>3</th>\n      <td>93.0</td>\n      <td>82.8</td>\n      <td>189.1</td>\n      <td>24.6</td>\n      <td>3.5</td>\n      <td>2</td>\n      <td>98.1</td>\n    </tr>\n    <tr>\n      <th>4</th>\n      <td>93.0</td>\n      <td>82.8</td>\n      <td>189.1</td>\n      <td>24.7</td>\n      <td>3.5</td>\n      <td>2</td>\n      <td>98.8</td>\n    </tr>\n  </tbody>\n</table>\n</div>"
     },
     "execution_count": 4,
     "metadata": {},
     "output_type": "execute_result"
    }
   ],
   "source": [
    "#Original Data\n",
    "df.head()"
   ],
   "metadata": {
    "collapsed": false,
    "pycharm": {
     "name": "#%%\n"
    }
   }
  },
  {
   "cell_type": "code",
   "execution_count": 5,
   "outputs": [],
   "source": [
    "#Synthetic data for 1 and 2 lamps - based on UV dose multiplication\n",
    "df1 = df.loc[df['N']==1].copy()\n",
    "df1.loc[:, 'RED']*=2\n",
    "df1.loc[:, 'N']=2\n",
    "\n",
    "df2 = df.loc[df['N']==2].copy()\n",
    "df2.loc[:, 'RED']/=2\n",
    "df2.loc[:, 'N']=1\n",
    "\n",
    "df=df.append(df1,ignore_index=True)\n",
    "df=df.append(df2,ignore_index=True)"
   ],
   "metadata": {
    "collapsed": false,
    "pycharm": {
     "name": "#%%\n"
    }
   }
  },
  {
   "cell_type": "code",
   "execution_count": 6,
   "outputs": [],
   "source": [
    "# Duplicate the situation for 3 and 4 lamps:\n",
    "df_3 = df.loc[df['N']==1].copy()\n",
    "df2.loc[:, 'RED']*=3\n",
    "df2.loc[:, 'N']=3\n",
    "\n",
    "df_4 = df.loc[df['N']==2].copy()\n",
    "df2.loc[:, 'RED']*=2\n",
    "df2.loc[:, 'N']=4\n",
    "\n",
    "df=df.append(df_3,ignore_index=True)\n",
    "df=df.append(df_4,ignore_index=True)"
   ],
   "metadata": {
    "collapsed": false,
    "pycharm": {
     "name": "#%%\n"
    }
   }
  },
  {
   "cell_type": "code",
   "execution_count": 7,
   "outputs": [
    {
     "data": {
      "text/plain": "<AxesSubplot:xlabel='%T254', ylabel='%T215'>"
     },
     "execution_count": 7,
     "metadata": {},
     "output_type": "execute_result"
    },
    {
     "data": {
      "text/plain": "<Figure size 432x288 with 1 Axes>",
      "image/png": "[encoded data removed]"
     },
     "metadata": {
      "needs_background": "light"
     },
     "output_type": "display_data"
    }
   ],
   "source": [
    "df.plot.scatter(x='%T254',y='%T215')"
   ],
   "metadata": {
    "collapsed": false,
    "pycharm": {
     "name": "#%%\n"
    }
   }
  },
  {
   "cell_type": "code",
   "execution_count": 8,
   "outputs": [],
   "source": [
    "# Transform UVT into exp(-UVT/100)\n",
    "df['%T254'] = np.exp(-df['%T254']/100)\n",
    "df['%T215'] = np.exp(-df['%T215']/100)"
   ],
   "metadata": {
    "collapsed": false,
    "pycharm": {
     "name": "#%%\n"
    }
   }
  },
  {
   "cell_type": "code",
   "execution_count": 9,
   "outputs": [],
   "source": [
    "from sklearn.preprocessing import StandardScaler\n",
    "sc = StandardScaler()\n",
    "scaled_features = sc.fit_transform(df.values)\n",
    "#restore column names\n",
    "scaled_features_df = pd.DataFrame(scaled_features, index=df.index, columns=df.columns)"
   ],
   "metadata": {
    "collapsed": false,
    "pycharm": {
     "name": "#%%\n"
    }
   }
  },
  {
   "cell_type": "code",
   "execution_count": 10,
   "outputs": [],
   "source": [
    "X = scaled_features_df.drop('RED',axis=1)\n",
    "y = scaled_features_df['RED']"
   ],
   "metadata": {
    "collapsed": false,
    "pycharm": {
     "name": "#%%\n"
    }
   }
  },
  {
   "cell_type": "code",
   "execution_count": 11,
   "outputs": [],
   "source": [
    "X_train, X_test, y_train, y_test = train_test_split(X, y, test_size=0.4, random_state=0)\n",
    "X_train, X_val, y_train, y_val = train_test_split(X_train, y_train, test_size=0.5, random_state=0)"
   ],
   "metadata": {
    "collapsed": false,
    "pycharm": {
     "name": "#%%\n"
    }
   }
  },
  {
   "cell_type": "code",
   "execution_count": 12,
   "outputs": [],
   "source": [
    "# HyperParameters:\n",
    "Dense1 = 10\n",
    "Dense2 = 4\n",
    "LearningRate = 0.01\n",
    "dropout = 0.1\n",
    "GNoise = 0.1\n",
    "Epochs = 100\n",
    "\n",
    "L2regularization = 0.02\n",
    "Bias_regularization = 0.02\n",
    "\n",
    "#Number of Features (may be worth to try PCA to reduce\n",
    "Features = 6"
   ],
   "metadata": {
    "collapsed": false,
    "pycharm": {
     "name": "#%%\n"
    }
   }
  },
  {
   "cell_type": "code",
   "execution_count": 13,
   "outputs": [],
   "source": [
    "### Experimental ###\n",
    "def createModel(Dense1, Dense2, LearningRate, dropout, GNoise, L2regularization, Bias_regularization):\n",
    "    model = Sequential()\n",
    "    model.add(InputLayer(input_shape=(Features,)))\n",
    "    model.add(GaussianNoise(GNoise))\n",
    "    model.add(Dense(Dense1, kernel_regularizer=l2(L2regularization), bias_regularizer=l2(Bias_regularization), activation='softmax'))\n",
    "    model.add(Dropout(dropout))\n",
    "    model.add(Dense(Dense2, 'softmax'))\n",
    "    model.add(Dense(1, 'linear'))\n",
    "    #model1.summary()\n",
    "    model.compile(loss=MeanSquaredError(), optimizer=Adam(learning_rate=LearningRate), metrics=[RootMeanSquaredError()])\n",
    "    return model"
   ],
   "metadata": {
    "collapsed": false,
    "pycharm": {
     "name": "#%%\n"
    }
   }
  },
  {
   "cell_type": "code",
   "execution_count": 14,
   "outputs": [
    {
     "name": "stdout",
     "output_type": "stream",
     "text": [
      "Total fits per parametric grid = 12\n",
      "Fitting 5 folds for each of 12 candidates, totalling 60 fits\n",
      "Epoch 1/100\n",
      "6/6 [==============================] - 0s 40ms/step - loss: 1.1619 - root_mean_squared_error: 1.0490 - val_loss: 0.8192 - val_root_mean_squared_error: 0.8744\n",
      "Epoch 2/100\n",
      "6/6 [==============================] - 0s 5ms/step - loss: 1.1189 - root_mean_squared_error: 1.0329 - val_loss: 0.7993 - val_root_mean_squared_error: 0.8669\n",
      "Epoch 3/100\n",
      "6/6 [==============================] - 0s 5ms/step - loss: 1.0980 - root_mean_squared_error: 1.0257 - val_loss: 0.7703 - val_root_mean_squared_error: 0.8526\n",
      "Epoch 4/100\n",
      "6/6 [==============================] - 0s 5ms/step - loss: 1.0671 - root_mean_squared_error: 1.0121 - val_loss: 0.7409 - val_root_mean_squared_error: 0.8362\n",
      "Epoch 5/100\n",
      "6/6 [==============================] - 0s 5ms/step - loss: 1.0253 - root_mean_squared_error: 0.9919 - val_loss: 0.7054 - val_root_mean_squared_error: 0.8147\n",
      "Epoch 6/100\n",
      "6/6 [==============================] - 0s 5ms/step - loss: 0.9701 - root_mean_squared_error: 0.9633 - val_loss: 0.6680 - val_root_mean_squared_error: 0.7905\n",
      "Epoch 7/100\n",
      "6/6 [==============================] - 0s 5ms/step - loss: 0.9458 - root_mean_squared_error: 0.9497 - val_loss: 0.6257 - val_root_mean_squared_error: 0.7616\n",
      "Epoch 8/100\n",
      "6/6 [==============================] - 0s 5ms/step - loss: 0.8752 - root_mean_squared_error: 0.9102 - val_loss: 0.5823 - val_root_mean_squared_error: 0.7303\n",
      "Epoch 9/100\n",
      "6/6 [==============================] - 0s 5ms/step - loss: 0.8273 - root_mean_squared_error: 0.8815 - val_loss: 0.5404 - val_root_mean_squared_error: 0.6982\n",
      "Epoch 10/100\n",
      "6/6 [==============================] - 0s 5ms/step - loss: 0.7712 - root_mean_squared_error: 0.8467 - val_loss: 0.5073 - val_root_mean_squared_error: 0.6710\n",
      "Epoch 11/100\n",
      "6/6 [==============================] - 0s 5ms/step - loss: 0.7228 - root_mean_squared_error: 0.8151 - val_loss: 0.4713 - val_root_mean_squared_error: 0.6411\n",
      "Epoch 12/100\n",
      "6/6 [==============================] - 0s 5ms/step - loss: 0.6928 - root_mean_squared_error: 0.7948 - val_loss: 0.4365 - val_root_mean_squared_error: 0.6122\n",
      "Epoch 13/100\n",
      "6/6 [==============================] - 0s 5ms/step - loss: 0.6249 - root_mean_squared_error: 0.7506 - val_loss: 0.4103 - val_root_mean_squared_error: 0.5910\n",
      "Epoch 14/100\n",
      "6/6 [==============================] - 0s 5ms/step - loss: 0.5868 - root_mean_squared_error: 0.7253 - val_loss: 0.3909 - val_root_mean_squared_error: 0.5748\n",
      "Epoch 15/100\n",
      "6/6 [==============================] - 0s 5ms/step - loss: 0.6024 - root_mean_squared_error: 0.7359 - val_loss: 0.3798 - val_root_mean_squared_error: 0.5646\n",
      "Epoch 16/100\n",
      "6/6 [==============================] - 0s 5ms/step - loss: 0.6029 - root_mean_squared_error: 0.7366 - val_loss: 0.3692 - val_root_mean_squared_error: 0.5570\n",
      "Epoch 17/100\n",
      "6/6 [==============================] - 0s 5ms/step - loss: 0.5094 - root_mean_squared_error: 0.6718 - val_loss: 0.3538 - val_root_mean_squared_error: 0.5454\n",
      "Epoch 18/100\n",
      "6/6 [==============================] - 0s 5ms/step - loss: 0.5403 - root_mean_squared_error: 0.6964 - val_loss: 0.3393 - val_root_mean_squared_error: 0.5347\n",
      "Epoch 19/100\n",
      "6/6 [==============================] - 0s 5ms/step - loss: 0.4926 - root_mean_squared_error: 0.6634 - val_loss: 0.3303 - val_root_mean_squared_error: 0.5287\n",
      "Epoch 20/100\n",
      "6/6 [==============================] - 0s 5ms/step - loss: 0.4832 - root_mean_squared_error: 0.6583 - val_loss: 0.3204 - val_root_mean_squared_error: 0.5215\n",
      "Epoch 21/100\n",
      "6/6 [==============================] - 0s 5ms/step - loss: 0.4675 - root_mean_squared_error: 0.6474 - val_loss: 0.3162 - val_root_mean_squared_error: 0.5176\n",
      "Epoch 22/100\n",
      "6/6 [==============================] - 0s 5ms/step - loss: 0.4436 - root_mean_squared_error: 0.6289 - val_loss: 0.3051 - val_root_mean_squared_error: 0.5073\n",
      "Epoch 23/100\n",
      "6/6 [==============================] - 0s 5ms/step - loss: 0.4387 - root_mean_squared_error: 0.6254 - val_loss: 0.2949 - val_root_mean_squared_error: 0.4975\n",
      "Epoch 24/100\n",
      "6/6 [==============================] - 0s 5ms/step - loss: 0.5156 - root_mean_squared_error: 0.6844 - val_loss: 0.2875 - val_root_mean_squared_error: 0.4904\n",
      "Epoch 25/100\n",
      "6/6 [==============================] - 0s 5ms/step - loss: 0.4753 - root_mean_squared_error: 0.6545 - val_loss: 0.2829 - val_root_mean_squared_error: 0.4859\n",
      "Epoch 26/100\n",
      "6/6 [==============================] - 0s 5ms/step - loss: 0.4741 - root_mean_squared_error: 0.6539 - val_loss: 0.2823 - val_root_mean_squared_error: 0.4859\n",
      "Epoch 27/100\n",
      "6/6 [==============================] - 0s 5ms/step - loss: 0.4591 - root_mean_squared_error: 0.6428 - val_loss: 0.2863 - val_root_mean_squared_error: 0.4904\n",
      "Epoch 28/100\n",
      "6/6 [==============================] - 0s 5ms/step - loss: 0.4335 - root_mean_squared_error: 0.6227 - val_loss: 0.3034 - val_root_mean_squared_error: 0.5080\n",
      "Epoch 29/100\n",
      "6/6 [==============================] - 0s 5ms/step - loss: 0.4114 - root_mean_squared_error: 0.6054 - val_loss: 0.2931 - val_root_mean_squared_error: 0.4990\n",
      "Epoch 30/100\n",
      "6/6 [==============================] - 0s 5ms/step - loss: 0.4351 - root_mean_squared_error: 0.6256 - val_loss: 0.2749 - val_root_mean_squared_error: 0.4816\n",
      "Epoch 31/100\n",
      "6/6 [==============================] - 0s 5ms/step - loss: 0.4866 - root_mean_squared_error: 0.6665 - val_loss: 0.2623 - val_root_mean_squared_error: 0.4701\n",
      "Epoch 32/100\n",
      "6/6 [==============================] - 0s 5ms/step - loss: 0.4572 - root_mean_squared_error: 0.6455 - val_loss: 0.2612 - val_root_mean_squared_error: 0.4706\n",
      "Epoch 33/100\n",
      "6/6 [==============================] - 0s 5ms/step - loss: 0.3924 - root_mean_squared_error: 0.5939 - val_loss: 0.2651 - val_root_mean_squared_error: 0.4746\n",
      "Epoch 34/100\n",
      "6/6 [==============================] - 0s 5ms/step - loss: 0.4135 - root_mean_squared_error: 0.6111 - val_loss: 0.2690 - val_root_mean_squared_error: 0.4780\n",
      "Epoch 35/100\n",
      "6/6 [==============================] - 0s 5ms/step - loss: 0.4603 - root_mean_squared_error: 0.6478 - val_loss: 0.2684 - val_root_mean_squared_error: 0.4772\n",
      "Epoch 36/100\n",
      "6/6 [==============================] - 0s 5ms/step - loss: 0.3563 - root_mean_squared_error: 0.5619 - val_loss: 0.2525 - val_root_mean_squared_error: 0.4609\n",
      "Epoch 37/100\n",
      "6/6 [==============================] - 0s 5ms/step - loss: 0.4411 - root_mean_squared_error: 0.6335 - val_loss: 0.2479 - val_root_mean_squared_error: 0.4568\n",
      "Epoch 38/100\n",
      "6/6 [==============================] - 0s 5ms/step - loss: 0.4645 - root_mean_squared_error: 0.6523 - val_loss: 0.2461 - val_root_mean_squared_error: 0.4552\n",
      "Epoch 39/100\n",
      "6/6 [==============================] - 0s 5ms/step - loss: 0.3515 - root_mean_squared_error: 0.5590 - val_loss: 0.2462 - val_root_mean_squared_error: 0.4551\n",
      "Epoch 40/100\n",
      "6/6 [==============================] - 0s 5ms/step - loss: 0.3642 - root_mean_squared_error: 0.5701 - val_loss: 0.2462 - val_root_mean_squared_error: 0.4549\n",
      "Epoch 41/100\n",
      "6/6 [==============================] - 0s 5ms/step - loss: 0.3343 - root_mean_squared_error: 0.5433 - val_loss: 0.2438 - val_root_mean_squared_error: 0.4523\n",
      "Epoch 42/100\n",
      "6/6 [==============================] - 0s 5ms/step - loss: 0.3735 - root_mean_squared_error: 0.5780 - val_loss: 0.2418 - val_root_mean_squared_error: 0.4496\n",
      "Epoch 43/100\n",
      "6/6 [==============================] - 0s 5ms/step - loss: 0.3468 - root_mean_squared_error: 0.5543 - val_loss: 0.2376 - val_root_mean_squared_error: 0.4452\n",
      "Epoch 44/100\n",
      "6/6 [==============================] - 0s 5ms/step - loss: 0.4791 - root_mean_squared_error: 0.6631 - val_loss: 0.2390 - val_root_mean_squared_error: 0.4470\n",
      "Epoch 45/100\n",
      "6/6 [==============================] - 0s 5ms/step - loss: 0.3779 - root_mean_squared_error: 0.5820 - val_loss: 0.2383 - val_root_mean_squared_error: 0.4469\n",
      "Epoch 46/100\n",
      "6/6 [==============================] - 0s 5ms/step - loss: 0.3445 - root_mean_squared_error: 0.5537 - val_loss: 0.2323 - val_root_mean_squared_error: 0.4419\n",
      "Epoch 47/100\n",
      "6/6 [==============================] - 0s 5ms/step - loss: 0.3657 - root_mean_squared_error: 0.5735 - val_loss: 0.2318 - val_root_mean_squared_error: 0.4416\n",
      "Epoch 48/100\n",
      "6/6 [==============================] - 0s 5ms/step - loss: 0.3033 - root_mean_squared_error: 0.5160 - val_loss: 0.2339 - val_root_mean_squared_error: 0.4428\n",
      "Epoch 49/100\n",
      "6/6 [==============================] - 0s 5ms/step - loss: 0.4073 - root_mean_squared_error: 0.6075 - val_loss: 0.2446 - val_root_mean_squared_error: 0.4531\n",
      "Epoch 50/100\n",
      "6/6 [==============================] - 0s 5ms/step - loss: 0.4090 - root_mean_squared_error: 0.6075 - val_loss: 0.2726 - val_root_mean_squared_error: 0.4814\n",
      "Epoch 51/100\n",
      "6/6 [==============================] - 0s 5ms/step - loss: 0.3667 - root_mean_squared_error: 0.5706 - val_loss: 0.2530 - val_root_mean_squared_error: 0.4600\n",
      "Epoch 52/100\n",
      "6/6 [==============================] - 0s 5ms/step - loss: 0.3519 - root_mean_squared_error: 0.5572 - val_loss: 0.2416 - val_root_mean_squared_error: 0.4473\n",
      "Epoch 53/100\n",
      "6/6 [==============================] - 0s 5ms/step - loss: 0.3621 - root_mean_squared_error: 0.5662 - val_loss: 0.2384 - val_root_mean_squared_error: 0.4437\n",
      "Epoch 54/100\n",
      "6/6 [==============================] - 0s 5ms/step - loss: 0.4772 - root_mean_squared_error: 0.6602 - val_loss: 0.2272 - val_root_mean_squared_error: 0.4313\n",
      "Epoch 55/100\n",
      "6/6 [==============================] - 0s 5ms/step - loss: 0.4603 - root_mean_squared_error: 0.6473 - val_loss: 0.2385 - val_root_mean_squared_error: 0.4436\n",
      "Epoch 56/100\n",
      "6/6 [==============================] - 0s 5ms/step - loss: 0.2760 - root_mean_squared_error: 0.4840 - val_loss: 0.2382 - val_root_mean_squared_error: 0.4433\n",
      "Epoch 57/100\n",
      "6/6 [==============================] - 0s 5ms/step - loss: 0.3317 - root_mean_squared_error: 0.5385 - val_loss: 0.2212 - val_root_mean_squared_error: 0.4236\n",
      "Epoch 58/100\n",
      "6/6 [==============================] - 0s 5ms/step - loss: 0.3052 - root_mean_squared_error: 0.5132 - val_loss: 0.2191 - val_root_mean_squared_error: 0.4206\n",
      "Epoch 59/100\n",
      "6/6 [==============================] - 0s 5ms/step - loss: 0.4139 - root_mean_squared_error: 0.6093 - val_loss: 0.2334 - val_root_mean_squared_error: 0.4356\n",
      "Epoch 60/100\n",
      "6/6 [==============================] - 0s 5ms/step - loss: 0.3500 - root_mean_squared_error: 0.5533 - val_loss: 0.2474 - val_root_mean_squared_error: 0.4506\n",
      "Epoch 61/100\n",
      "6/6 [==============================] - 0s 5ms/step - loss: 0.2691 - root_mean_squared_error: 0.4738 - val_loss: 0.2743 - val_root_mean_squared_error: 0.4789\n",
      "Epoch 62/100\n",
      "6/6 [==============================] - 0s 5ms/step - loss: 0.4644 - root_mean_squared_error: 0.6476 - val_loss: 0.2660 - val_root_mean_squared_error: 0.4707\n",
      "Epoch 63/100\n",
      "6/6 [==============================] - 0s 5ms/step - loss: 0.3453 - root_mean_squared_error: 0.5490 - val_loss: 0.2230 - val_root_mean_squared_error: 0.4242\n",
      "Epoch 64/100\n",
      "6/6 [==============================] - 0s 5ms/step - loss: 0.2824 - root_mean_squared_error: 0.4894 - val_loss: 0.2147 - val_root_mean_squared_error: 0.4147\n",
      "Epoch 65/100\n",
      "6/6 [==============================] - 0s 5ms/step - loss: 0.2937 - root_mean_squared_error: 0.5007 - val_loss: 0.2133 - val_root_mean_squared_error: 0.4117\n",
      "Epoch 66/100\n",
      "6/6 [==============================] - 0s 5ms/step - loss: 0.3000 - root_mean_squared_error: 0.5059 - val_loss: 0.2205 - val_root_mean_squared_error: 0.4194\n",
      "Epoch 67/100\n",
      "6/6 [==============================] - 0s 5ms/step - loss: 0.2989 - root_mean_squared_error: 0.5042 - val_loss: 0.2270 - val_root_mean_squared_error: 0.4272\n",
      "Epoch 68/100\n",
      "6/6 [==============================] - 0s 5ms/step - loss: 0.3966 - root_mean_squared_error: 0.5936 - val_loss: 0.2221 - val_root_mean_squared_error: 0.4221\n",
      "Epoch 69/100\n",
      "6/6 [==============================] - 0s 5ms/step - loss: 0.3030 - root_mean_squared_error: 0.5091 - val_loss: 0.2166 - val_root_mean_squared_error: 0.4162\n",
      "Epoch 70/100\n",
      "6/6 [==============================] - 0s 5ms/step - loss: 0.3393 - root_mean_squared_error: 0.5443 - val_loss: 0.2181 - val_root_mean_squared_error: 0.4185\n",
      "Epoch 71/100\n",
      "6/6 [==============================] - 0s 5ms/step - loss: 0.2870 - root_mean_squared_error: 0.4936 - val_loss: 0.2296 - val_root_mean_squared_error: 0.4307\n",
      "Epoch 72/100\n",
      "6/6 [==============================] - 0s 5ms/step - loss: 0.4050 - root_mean_squared_error: 0.6007 - val_loss: 0.2297 - val_root_mean_squared_error: 0.4306\n",
      "Epoch 73/100\n",
      "6/6 [==============================] - 0s 5ms/step - loss: 0.2860 - root_mean_squared_error: 0.4917 - val_loss: 0.2184 - val_root_mean_squared_error: 0.4178\n",
      "Epoch 74/100\n",
      "6/6 [==============================] - 0s 5ms/step - loss: 0.3854 - root_mean_squared_error: 0.5845 - val_loss: 0.2201 - val_root_mean_squared_error: 0.4198\n",
      "Epoch 75/100\n",
      "6/6 [==============================] - 0s 5ms/step - loss: 0.3929 - root_mean_squared_error: 0.5905 - val_loss: 0.2333 - val_root_mean_squared_error: 0.4345\n",
      "Epoch 76/100\n",
      "6/6 [==============================] - 0s 5ms/step - loss: 0.3165 - root_mean_squared_error: 0.5215 - val_loss: 0.2393 - val_root_mean_squared_error: 0.4415\n",
      "Epoch 77/100\n",
      "6/6 [==============================] - 0s 5ms/step - loss: 0.2780 - root_mean_squared_error: 0.4837 - val_loss: 0.2190 - val_root_mean_squared_error: 0.4196\n",
      "Epoch 78/100\n",
      "6/6 [==============================] - 0s 5ms/step - loss: 0.3081 - root_mean_squared_error: 0.5159 - val_loss: 0.2094 - val_root_mean_squared_error: 0.4103\n",
      "Epoch 79/100\n",
      "6/6 [==============================] - 0s 5ms/step - loss: 0.3149 - root_mean_squared_error: 0.5233 - val_loss: 0.2131 - val_root_mean_squared_error: 0.4142\n",
      "Epoch 80/100\n",
      "6/6 [==============================] - 0s 5ms/step - loss: 0.4016 - root_mean_squared_error: 0.5997 - val_loss: 0.2197 - val_root_mean_squared_error: 0.4208\n",
      "Epoch 81/100\n",
      "6/6 [==============================] - 0s 5ms/step - loss: 0.3109 - root_mean_squared_error: 0.5178 - val_loss: 0.2181 - val_root_mean_squared_error: 0.4183\n",
      "Epoch 82/100\n",
      "6/6 [==============================] - 0s 5ms/step - loss: 0.3562 - root_mean_squared_error: 0.5594 - val_loss: 0.2167 - val_root_mean_squared_error: 0.4166\n",
      "Epoch 83/100\n",
      "6/6 [==============================] - 0s 5ms/step - loss: 0.3588 - root_mean_squared_error: 0.5621 - val_loss: 0.2113 - val_root_mean_squared_error: 0.4110\n",
      "Epoch 84/100\n",
      "6/6 [==============================] - 0s 5ms/step - loss: 0.2776 - root_mean_squared_error: 0.4854 - val_loss: 0.2077 - val_root_mean_squared_error: 0.4072\n",
      "Epoch 85/100\n",
      "6/6 [==============================] - 0s 5ms/step - loss: 0.3620 - root_mean_squared_error: 0.5656 - val_loss: 0.2307 - val_root_mean_squared_error: 0.4337\n",
      "Epoch 86/100\n",
      "6/6 [==============================] - 0s 5ms/step - loss: 0.2730 - root_mean_squared_error: 0.4795 - val_loss: 0.2721 - val_root_mean_squared_error: 0.4781\n",
      "Epoch 87/100\n",
      "6/6 [==============================] - 0s 5ms/step - loss: 0.2787 - root_mean_squared_error: 0.4853 - val_loss: 0.2496 - val_root_mean_squared_error: 0.4551\n",
      "Epoch 88/100\n",
      "6/6 [==============================] - 0s 5ms/step - loss: 0.2818 - root_mean_squared_error: 0.4900 - val_loss: 0.2215 - val_root_mean_squared_error: 0.4257\n",
      "Epoch 89/100\n",
      "6/6 [==============================] - 0s 5ms/step - loss: 0.3515 - root_mean_squared_error: 0.5582 - val_loss: 0.2194 - val_root_mean_squared_error: 0.4239\n",
      "Epoch 90/100\n",
      "6/6 [==============================] - 0s 5ms/step - loss: 0.2987 - root_mean_squared_error: 0.5087 - val_loss: 0.2062 - val_root_mean_squared_error: 0.4073\n",
      "Epoch 91/100\n",
      "6/6 [==============================] - 0s 5ms/step - loss: 0.2912 - root_mean_squared_error: 0.5006 - val_loss: 0.2071 - val_root_mean_squared_error: 0.4071\n",
      "Epoch 92/100\n",
      "6/6 [==============================] - 0s 5ms/step - loss: 0.2721 - root_mean_squared_error: 0.4800 - val_loss: 0.2175 - val_root_mean_squared_error: 0.4189\n",
      "Epoch 93/100\n",
      "6/6 [==============================] - 0s 5ms/step - loss: 0.3004 - root_mean_squared_error: 0.5083 - val_loss: 0.2216 - val_root_mean_squared_error: 0.4242\n",
      "Epoch 94/100\n",
      "6/6 [==============================] - 0s 5ms/step - loss: 0.2887 - root_mean_squared_error: 0.4978 - val_loss: 0.2032 - val_root_mean_squared_error: 0.4044\n",
      "Epoch 95/100\n",
      "6/6 [==============================] - 0s 5ms/step - loss: 0.3555 - root_mean_squared_error: 0.5623 - val_loss: 0.2018 - val_root_mean_squared_error: 0.4034\n",
      "Epoch 96/100\n",
      "6/6 [==============================] - 0s 5ms/step - loss: 0.2936 - root_mean_squared_error: 0.5043 - val_loss: 0.2044 - val_root_mean_squared_error: 0.4053\n",
      "Epoch 97/100\n",
      "6/6 [==============================] - 0s 5ms/step - loss: 0.3838 - root_mean_squared_error: 0.5858 - val_loss: 0.2217 - val_root_mean_squared_error: 0.4248\n",
      "Epoch 98/100\n",
      "6/6 [==============================] - 0s 5ms/step - loss: 0.3381 - root_mean_squared_error: 0.5446 - val_loss: 0.2226 - val_root_mean_squared_error: 0.4258\n",
      "Epoch 99/100\n",
      "6/6 [==============================] - 0s 5ms/step - loss: 0.3937 - root_mean_squared_error: 0.5939 - val_loss: 0.2042 - val_root_mean_squared_error: 0.4050\n",
      "Epoch 100/100\n",
      "6/6 [==============================] - 0s 5ms/step - loss: 0.4020 - root_mean_squared_error: 0.6019 - val_loss: 0.1994 - val_root_mean_squared_error: 0.4000\n"
     ]
    },
    {
     "data": {
      "text/plain": "GridSearchCV(cv=5,\n             estimator=<tensorflow.python.keras.wrappers.scikit_learn.KerasRegressor object at 0x000001AB742D2DF0>,\n             n_jobs=-1,\n             param_grid={'Bias_regularization': [0.01], 'Dense1': [5, 7, 10],\n                         'Dense2': [3, 4, 5, 6], 'GNoise': [0.1],\n                         'L2regularization': [0.01], 'LearningRate': [0.01],\n                         'dropout': [0.1]},\n             verbose=2)"
     },
     "execution_count": 14,
     "metadata": {},
     "output_type": "execute_result"
    }
   ],
   "source": [
    "grid = dict(Dense1 = [5,7,10],\n",
    "            Dense2 = [3,4,5,6],\n",
    "            LearningRate = [0.01],\n",
    "            dropout = [0.1],\n",
    "            GNoise = [0.1],\n",
    "            L2regularization = [0.01],\n",
    "            Bias_regularization = [0.01]\n",
    "            )\n",
    "\n",
    "print('Total fits per parametric grid = {}'.format(reduce(lambda x, y: x*y, [len(grid[key]) for key in grid.keys()]))) # calculate number of test-parameters\n",
    "\n",
    "estimator = KerasRegressor(build_fn=createModel)\n",
    "modelGrid = GridSearchCV(estimator = estimator, param_grid = grid, cv=5, n_jobs=-1, verbose=2)\n",
    "modelGrid.fit(X_train,y_train, validation_data=(X_val, y_val), epochs=Epochs)"
   ],
   "metadata": {
    "collapsed": false,
    "pycharm": {
     "name": "#%%\n"
    }
   }
  },
  {
   "cell_type": "code",
   "execution_count": 15,
   "outputs": [
    {
     "name": "stdout",
     "output_type": "stream",
     "text": [
      "best score =  -0.29183303117752074\n",
      "{'Bias_regularization': 0.01, 'Dense1': 7, 'Dense2': 4, 'GNoise': 0.1, 'L2regularization': 0.01, 'LearningRate': 0.01, 'dropout': 0.1}\n",
      "Epoch 1/100\n",
      "6/6 [==============================] - 0s 30ms/step - loss: 1.2387 - root_mean_squared_error: 1.0814 - val_loss: 0.8869 - val_root_mean_squared_error: 0.9091\n",
      "Epoch 2/100\n",
      "6/6 [==============================] - 0s 5ms/step - loss: 1.1899 - root_mean_squared_error: 1.0646 - val_loss: 0.8509 - val_root_mean_squared_error: 0.8951\n",
      "Epoch 3/100\n",
      "6/6 [==============================] - 0s 5ms/step - loss: 1.1644 - root_mean_squared_error: 1.0572 - val_loss: 0.8292 - val_root_mean_squared_error: 0.8877\n",
      "Epoch 4/100\n",
      "6/6 [==============================] - 0s 5ms/step - loss: 1.1441 - root_mean_squared_error: 1.0513 - val_loss: 0.8115 - val_root_mean_squared_error: 0.8813\n",
      "Epoch 5/100\n",
      "6/6 [==============================] - 0s 5ms/step - loss: 1.1275 - root_mean_squared_error: 1.0463 - val_loss: 0.7960 - val_root_mean_squared_error: 0.8752\n",
      "Epoch 6/100\n",
      "6/6 [==============================] - 0s 6ms/step - loss: 1.1111 - root_mean_squared_error: 1.0401 - val_loss: 0.7792 - val_root_mean_squared_error: 0.8667\n",
      "Epoch 7/100\n",
      "6/6 [==============================] - 0s 5ms/step - loss: 1.0944 - root_mean_squared_error: 1.0329 - val_loss: 0.7603 - val_root_mean_squared_error: 0.8563\n",
      "Epoch 8/100\n",
      "6/6 [==============================] - 0s 5ms/step - loss: 1.0587 - root_mean_squared_error: 1.0156 - val_loss: 0.7387 - val_root_mean_squared_error: 0.8429\n",
      "Epoch 9/100\n",
      "6/6 [==============================] - 0s 5ms/step - loss: 1.0318 - root_mean_squared_error: 1.0015 - val_loss: 0.7136 - val_root_mean_squared_error: 0.8267\n",
      "Epoch 10/100\n",
      "6/6 [==============================] - 0s 5ms/step - loss: 1.0033 - root_mean_squared_error: 0.9859 - val_loss: 0.6854 - val_root_mean_squared_error: 0.8074\n",
      "Epoch 11/100\n",
      "6/6 [==============================] - 0s 5ms/step - loss: 0.9455 - root_mean_squared_error: 0.9542 - val_loss: 0.6566 - val_root_mean_squared_error: 0.7866\n",
      "Epoch 12/100\n",
      "6/6 [==============================] - 0s 5ms/step - loss: 0.9239 - root_mean_squared_error: 0.9405 - val_loss: 0.6238 - val_root_mean_squared_error: 0.7629\n",
      "Epoch 13/100\n",
      "6/6 [==============================] - 0s 5ms/step - loss: 0.8724 - root_mean_squared_error: 0.9108 - val_loss: 0.5883 - val_root_mean_squared_error: 0.7370\n",
      "Epoch 14/100\n",
      "6/6 [==============================] - 0s 5ms/step - loss: 0.8696 - root_mean_squared_error: 0.9073 - val_loss: 0.5524 - val_root_mean_squared_error: 0.7100\n",
      "Epoch 15/100\n",
      "6/6 [==============================] - 0s 5ms/step - loss: 0.8007 - root_mean_squared_error: 0.8669 - val_loss: 0.5185 - val_root_mean_squared_error: 0.6842\n",
      "Epoch 16/100\n",
      "6/6 [==============================] - 0s 5ms/step - loss: 0.7501 - root_mean_squared_error: 0.8363 - val_loss: 0.4867 - val_root_mean_squared_error: 0.6598\n",
      "Epoch 17/100\n",
      "6/6 [==============================] - 0s 5ms/step - loss: 0.7261 - root_mean_squared_error: 0.8211 - val_loss: 0.4580 - val_root_mean_squared_error: 0.6361\n",
      "Epoch 18/100\n",
      "6/6 [==============================] - 0s 5ms/step - loss: 0.6952 - root_mean_squared_error: 0.8008 - val_loss: 0.4322 - val_root_mean_squared_error: 0.6143\n",
      "Epoch 19/100\n",
      "6/6 [==============================] - 0s 5ms/step - loss: 0.6406 - root_mean_squared_error: 0.7653 - val_loss: 0.4072 - val_root_mean_squared_error: 0.5927\n",
      "Epoch 20/100\n",
      "6/6 [==============================] - 0s 5ms/step - loss: 0.6120 - root_mean_squared_error: 0.7452 - val_loss: 0.3902 - val_root_mean_squared_error: 0.5765\n",
      "Epoch 21/100\n",
      "6/6 [==============================] - 0s 5ms/step - loss: 0.5892 - root_mean_squared_error: 0.7288 - val_loss: 0.3764 - val_root_mean_squared_error: 0.5644\n",
      "Epoch 22/100\n",
      "6/6 [==============================] - 0s 5ms/step - loss: 0.5723 - root_mean_squared_error: 0.7176 - val_loss: 0.3604 - val_root_mean_squared_error: 0.5515\n",
      "Epoch 23/100\n",
      "6/6 [==============================] - 0s 5ms/step - loss: 0.5243 - root_mean_squared_error: 0.6848 - val_loss: 0.3416 - val_root_mean_squared_error: 0.5362\n",
      "Epoch 24/100\n",
      "6/6 [==============================] - 0s 5ms/step - loss: 0.5467 - root_mean_squared_error: 0.7023 - val_loss: 0.3300 - val_root_mean_squared_error: 0.5271\n",
      "Epoch 25/100\n",
      "6/6 [==============================] - 0s 5ms/step - loss: 0.5347 - root_mean_squared_error: 0.6953 - val_loss: 0.3226 - val_root_mean_squared_error: 0.5215\n",
      "Epoch 26/100\n",
      "6/6 [==============================] - 0s 5ms/step - loss: 0.4648 - root_mean_squared_error: 0.6434 - val_loss: 0.3252 - val_root_mean_squared_error: 0.5238\n",
      "Epoch 27/100\n",
      "6/6 [==============================] - 0s 5ms/step - loss: 0.4233 - root_mean_squared_error: 0.6108 - val_loss: 0.3025 - val_root_mean_squared_error: 0.5031\n",
      "Epoch 28/100\n",
      "6/6 [==============================] - 0s 5ms/step - loss: 0.4678 - root_mean_squared_error: 0.6469 - val_loss: 0.2926 - val_root_mean_squared_error: 0.4936\n",
      "Epoch 29/100\n",
      "6/6 [==============================] - 0s 5ms/step - loss: 0.4700 - root_mean_squared_error: 0.6492 - val_loss: 0.2828 - val_root_mean_squared_error: 0.4850\n",
      "Epoch 30/100\n",
      "6/6 [==============================] - 0s 6ms/step - loss: 0.4441 - root_mean_squared_error: 0.6301 - val_loss: 0.2749 - val_root_mean_squared_error: 0.4783\n",
      "Epoch 31/100\n",
      "6/6 [==============================] - 0s 5ms/step - loss: 0.3961 - root_mean_squared_error: 0.5921 - val_loss: 0.2717 - val_root_mean_squared_error: 0.4763\n",
      "Epoch 32/100\n",
      "6/6 [==============================] - 0s 5ms/step - loss: 0.4524 - root_mean_squared_error: 0.6384 - val_loss: 0.2868 - val_root_mean_squared_error: 0.4918\n",
      "Epoch 33/100\n",
      "6/6 [==============================] - 0s 5ms/step - loss: 0.3962 - root_mean_squared_error: 0.5926 - val_loss: 0.2772 - val_root_mean_squared_error: 0.4824\n",
      "Epoch 34/100\n",
      "6/6 [==============================] - 0s 5ms/step - loss: 0.4076 - root_mean_squared_error: 0.6028 - val_loss: 0.2600 - val_root_mean_squared_error: 0.4648\n",
      "Epoch 35/100\n",
      "6/6 [==============================] - 0s 5ms/step - loss: 0.3689 - root_mean_squared_error: 0.5700 - val_loss: 0.2559 - val_root_mean_squared_error: 0.4600\n",
      "Epoch 36/100\n",
      "6/6 [==============================] - 0s 5ms/step - loss: 0.4698 - root_mean_squared_error: 0.6521 - val_loss: 0.2477 - val_root_mean_squared_error: 0.4504\n",
      "Epoch 37/100\n",
      "6/6 [==============================] - 0s 5ms/step - loss: 0.4413 - root_mean_squared_error: 0.6297 - val_loss: 0.2446 - val_root_mean_squared_error: 0.4468\n",
      "Epoch 38/100\n",
      "6/6 [==============================] - 0s 5ms/step - loss: 0.3941 - root_mean_squared_error: 0.5907 - val_loss: 0.2609 - val_root_mean_squared_error: 0.4642\n",
      "Epoch 39/100\n",
      "6/6 [==============================] - 0s 6ms/step - loss: 0.3624 - root_mean_squared_error: 0.5630 - val_loss: 0.2580 - val_root_mean_squared_error: 0.4610\n",
      "Epoch 40/100\n",
      "6/6 [==============================] - 0s 5ms/step - loss: 0.3868 - root_mean_squared_error: 0.5838 - val_loss: 0.2657 - val_root_mean_squared_error: 0.4686\n",
      "Epoch 41/100\n",
      "6/6 [==============================] - 0s 5ms/step - loss: 0.4315 - root_mean_squared_error: 0.6210 - val_loss: 0.2568 - val_root_mean_squared_error: 0.4595\n",
      "Epoch 42/100\n",
      "6/6 [==============================] - 0s 5ms/step - loss: 0.4105 - root_mean_squared_error: 0.6039 - val_loss: 0.2739 - val_root_mean_squared_error: 0.4776\n",
      "Epoch 43/100\n",
      "6/6 [==============================] - 0s 5ms/step - loss: 0.4230 - root_mean_squared_error: 0.6143 - val_loss: 0.2615 - val_root_mean_squared_error: 0.4651\n",
      "Epoch 44/100\n",
      "6/6 [==============================] - 0s 5ms/step - loss: 0.4148 - root_mean_squared_error: 0.6082 - val_loss: 0.2366 - val_root_mean_squared_error: 0.4382\n",
      "Epoch 45/100\n",
      "6/6 [==============================] - 0s 5ms/step - loss: 0.3446 - root_mean_squared_error: 0.5479 - val_loss: 0.2304 - val_root_mean_squared_error: 0.4312\n",
      "Epoch 46/100\n",
      "6/6 [==============================] - 0s 5ms/step - loss: 0.4105 - root_mean_squared_error: 0.6047 - val_loss: 0.2496 - val_root_mean_squared_error: 0.4516\n",
      "Epoch 47/100\n",
      "6/6 [==============================] - 0s 5ms/step - loss: 0.3701 - root_mean_squared_error: 0.5688 - val_loss: 0.3211 - val_root_mean_squared_error: 0.5227\n",
      "Epoch 48/100\n",
      "6/6 [==============================] - 0s 5ms/step - loss: 0.4401 - root_mean_squared_error: 0.6262 - val_loss: 0.2954 - val_root_mean_squared_error: 0.4979\n",
      "Epoch 49/100\n",
      "6/6 [==============================] - 0s 5ms/step - loss: 0.3500 - root_mean_squared_error: 0.5509 - val_loss: 0.2386 - val_root_mean_squared_error: 0.4401\n",
      "Epoch 50/100\n",
      "6/6 [==============================] - 0s 5ms/step - loss: 0.3761 - root_mean_squared_error: 0.5759 - val_loss: 0.2337 - val_root_mean_squared_error: 0.4355\n",
      "Epoch 51/100\n",
      "6/6 [==============================] - 0s 5ms/step - loss: 0.3828 - root_mean_squared_error: 0.5820 - val_loss: 0.2496 - val_root_mean_squared_error: 0.4527\n",
      "Epoch 52/100\n",
      "6/6 [==============================] - 0s 5ms/step - loss: 0.4210 - root_mean_squared_error: 0.6132 - val_loss: 0.2413 - val_root_mean_squared_error: 0.4427\n",
      "Epoch 53/100\n",
      "6/6 [==============================] - 0s 5ms/step - loss: 0.4141 - root_mean_squared_error: 0.6072 - val_loss: 0.2350 - val_root_mean_squared_error: 0.4349\n",
      "Epoch 54/100\n",
      "6/6 [==============================] - 0s 5ms/step - loss: 0.3067 - root_mean_squared_error: 0.5107 - val_loss: 0.2269 - val_root_mean_squared_error: 0.4256\n",
      "Epoch 55/100\n",
      "6/6 [==============================] - 0s 5ms/step - loss: 0.3504 - root_mean_squared_error: 0.5522 - val_loss: 0.2290 - val_root_mean_squared_error: 0.4286\n",
      "Epoch 56/100\n",
      "6/6 [==============================] - 0s 5ms/step - loss: 0.3931 - root_mean_squared_error: 0.5895 - val_loss: 0.2486 - val_root_mean_squared_error: 0.4503\n",
      "Epoch 57/100\n",
      "6/6 [==============================] - 0s 5ms/step - loss: 0.3505 - root_mean_squared_error: 0.5524 - val_loss: 0.2217 - val_root_mean_squared_error: 0.4212\n",
      "Epoch 58/100\n",
      "6/6 [==============================] - 0s 5ms/step - loss: 0.3584 - root_mean_squared_error: 0.5609 - val_loss: 0.2184 - val_root_mean_squared_error: 0.4182\n",
      "Epoch 59/100\n",
      "6/6 [==============================] - 0s 5ms/step - loss: 0.3587 - root_mean_squared_error: 0.5610 - val_loss: 0.2296 - val_root_mean_squared_error: 0.4292\n",
      "Epoch 60/100\n",
      "6/6 [==============================] - 0s 5ms/step - loss: 0.3224 - root_mean_squared_error: 0.5253 - val_loss: 0.2647 - val_root_mean_squared_error: 0.4660\n",
      "Epoch 61/100\n",
      "6/6 [==============================] - 0s 5ms/step - loss: 0.3713 - root_mean_squared_error: 0.5691 - val_loss: 0.2334 - val_root_mean_squared_error: 0.4314\n",
      "Epoch 62/100\n",
      "6/6 [==============================] - 0s 5ms/step - loss: 0.3558 - root_mean_squared_error: 0.5556 - val_loss: 0.2253 - val_root_mean_squared_error: 0.4221\n",
      "Epoch 63/100\n",
      "6/6 [==============================] - 0s 5ms/step - loss: 0.3412 - root_mean_squared_error: 0.5420 - val_loss: 0.2265 - val_root_mean_squared_error: 0.4231\n",
      "Epoch 64/100\n",
      "6/6 [==============================] - 0s 5ms/step - loss: 0.3396 - root_mean_squared_error: 0.5408 - val_loss: 0.2183 - val_root_mean_squared_error: 0.4142\n",
      "Epoch 65/100\n",
      "6/6 [==============================] - 0s 5ms/step - loss: 0.2831 - root_mean_squared_error: 0.4864 - val_loss: 0.2213 - val_root_mean_squared_error: 0.4182\n",
      "Epoch 66/100\n",
      "6/6 [==============================] - 0s 5ms/step - loss: 0.3971 - root_mean_squared_error: 0.5922 - val_loss: 0.2306 - val_root_mean_squared_error: 0.4292\n",
      "Epoch 67/100\n",
      "6/6 [==============================] - 0s 5ms/step - loss: 0.3209 - root_mean_squared_error: 0.5241 - val_loss: 0.2215 - val_root_mean_squared_error: 0.4186\n",
      "Epoch 68/100\n",
      "6/6 [==============================] - 0s 5ms/step - loss: 0.3540 - root_mean_squared_error: 0.5543 - val_loss: 0.2242 - val_root_mean_squared_error: 0.4209\n",
      "Epoch 69/100\n",
      "6/6 [==============================] - 0s 5ms/step - loss: 0.3226 - root_mean_squared_error: 0.5250 - val_loss: 0.2123 - val_root_mean_squared_error: 0.4070\n",
      "Epoch 70/100\n",
      "6/6 [==============================] - 0s 5ms/step - loss: 0.4049 - root_mean_squared_error: 0.5989 - val_loss: 0.2105 - val_root_mean_squared_error: 0.4058\n",
      "Epoch 71/100\n",
      "6/6 [==============================] - 0s 5ms/step - loss: 0.3748 - root_mean_squared_error: 0.5738 - val_loss: 0.2103 - val_root_mean_squared_error: 0.4059\n",
      "Epoch 72/100\n",
      "6/6 [==============================] - 0s 5ms/step - loss: 0.3082 - root_mean_squared_error: 0.5124 - val_loss: 0.2127 - val_root_mean_squared_error: 0.4087\n",
      "Epoch 73/100\n",
      "6/6 [==============================] - 0s 5ms/step - loss: 0.3198 - root_mean_squared_error: 0.5237 - val_loss: 0.2140 - val_root_mean_squared_error: 0.4102\n",
      "Epoch 74/100\n",
      "6/6 [==============================] - 0s 5ms/step - loss: 0.2718 - root_mean_squared_error: 0.4750 - val_loss: 0.2349 - val_root_mean_squared_error: 0.4337\n",
      "Epoch 75/100\n",
      "6/6 [==============================] - 0s 5ms/step - loss: 0.2905 - root_mean_squared_error: 0.4937 - val_loss: 0.2296 - val_root_mean_squared_error: 0.4275\n",
      "Epoch 76/100\n",
      "6/6 [==============================] - 0s 5ms/step - loss: 0.3358 - root_mean_squared_error: 0.5374 - val_loss: 0.2201 - val_root_mean_squared_error: 0.4160\n",
      "Epoch 77/100\n",
      "6/6 [==============================] - 0s 5ms/step - loss: 0.3306 - root_mean_squared_error: 0.5324 - val_loss: 0.2171 - val_root_mean_squared_error: 0.4122\n",
      "Epoch 78/100\n",
      "6/6 [==============================] - 0s 5ms/step - loss: 0.4125 - root_mean_squared_error: 0.6046 - val_loss: 0.2123 - val_root_mean_squared_error: 0.4066\n",
      "Epoch 79/100\n",
      "6/6 [==============================] - 0s 5ms/step - loss: 0.3402 - root_mean_squared_error: 0.5416 - val_loss: 0.2121 - val_root_mean_squared_error: 0.4065\n",
      "Epoch 80/100\n",
      "6/6 [==============================] - 0s 5ms/step - loss: 0.3397 - root_mean_squared_error: 0.5409 - val_loss: 0.2264 - val_root_mean_squared_error: 0.4230\n",
      "Epoch 81/100\n",
      "6/6 [==============================] - 0s 5ms/step - loss: 0.3014 - root_mean_squared_error: 0.5040 - val_loss: 0.2146 - val_root_mean_squared_error: 0.4091\n",
      "Epoch 82/100\n",
      "6/6 [==============================] - 0s 5ms/step - loss: 0.4862 - root_mean_squared_error: 0.6625 - val_loss: 0.2275 - val_root_mean_squared_error: 0.4236\n",
      "Epoch 83/100\n",
      "6/6 [==============================] - 0s 5ms/step - loss: 0.3292 - root_mean_squared_error: 0.5294 - val_loss: 0.2706 - val_root_mean_squared_error: 0.4698\n",
      "Epoch 84/100\n",
      "6/6 [==============================] - 0s 5ms/step - loss: 0.3939 - root_mean_squared_error: 0.5865 - val_loss: 0.2481 - val_root_mean_squared_error: 0.4455\n",
      "Epoch 85/100\n",
      "6/6 [==============================] - 0s 5ms/step - loss: 0.3378 - root_mean_squared_error: 0.5370 - val_loss: 0.2295 - val_root_mean_squared_error: 0.4247\n",
      "Epoch 86/100\n",
      "6/6 [==============================] - 0s 5ms/step - loss: 0.3149 - root_mean_squared_error: 0.5159 - val_loss: 0.2192 - val_root_mean_squared_error: 0.4135\n",
      "Epoch 87/100\n",
      "6/6 [==============================] - 0s 5ms/step - loss: 0.2923 - root_mean_squared_error: 0.4939 - val_loss: 0.2248 - val_root_mean_squared_error: 0.4200\n",
      "Epoch 88/100\n",
      "6/6 [==============================] - 0s 5ms/step - loss: 0.3262 - root_mean_squared_error: 0.5275 - val_loss: 0.2158 - val_root_mean_squared_error: 0.4105\n",
      "Epoch 89/100\n",
      "6/6 [==============================] - 0s 5ms/step - loss: 0.2984 - root_mean_squared_error: 0.5014 - val_loss: 0.2107 - val_root_mean_squared_error: 0.4053\n",
      "Epoch 90/100\n",
      "6/6 [==============================] - 0s 5ms/step - loss: 0.2471 - root_mean_squared_error: 0.4483 - val_loss: 0.2097 - val_root_mean_squared_error: 0.4047\n",
      "Epoch 91/100\n",
      "6/6 [==============================] - 0s 5ms/step - loss: 0.4407 - root_mean_squared_error: 0.6281 - val_loss: 0.2270 - val_root_mean_squared_error: 0.4244\n",
      "Epoch 92/100\n",
      "6/6 [==============================] - 0s 5ms/step - loss: 0.3390 - root_mean_squared_error: 0.5403 - val_loss: 0.2258 - val_root_mean_squared_error: 0.4225\n",
      "Epoch 93/100\n",
      "6/6 [==============================] - 0s 5ms/step - loss: 0.3249 - root_mean_squared_error: 0.5268 - val_loss: 0.2181 - val_root_mean_squared_error: 0.4133\n",
      "Epoch 94/100\n",
      "6/6 [==============================] - 0s 5ms/step - loss: 0.3324 - root_mean_squared_error: 0.5340 - val_loss: 0.2202 - val_root_mean_squared_error: 0.4159\n",
      "Epoch 95/100\n",
      "6/6 [==============================] - 0s 5ms/step - loss: 0.3355 - root_mean_squared_error: 0.5367 - val_loss: 0.2354 - val_root_mean_squared_error: 0.4333\n",
      "Epoch 96/100\n",
      "6/6 [==============================] - 0s 5ms/step - loss: 0.3243 - root_mean_squared_error: 0.5261 - val_loss: 0.2295 - val_root_mean_squared_error: 0.4269\n",
      "Epoch 97/100\n",
      "6/6 [==============================] - 0s 5ms/step - loss: 0.3060 - root_mean_squared_error: 0.5089 - val_loss: 0.2199 - val_root_mean_squared_error: 0.4162\n",
      "Epoch 98/100\n",
      "6/6 [==============================] - 0s 5ms/step - loss: 0.3045 - root_mean_squared_error: 0.5081 - val_loss: 0.2041 - val_root_mean_squared_error: 0.3985\n",
      "Epoch 99/100\n",
      "6/6 [==============================] - 0s 5ms/step - loss: 0.3761 - root_mean_squared_error: 0.5754 - val_loss: 0.2011 - val_root_mean_squared_error: 0.3956\n",
      "Epoch 100/100\n",
      "6/6 [==============================] - 0s 5ms/step - loss: 0.3023 - root_mean_squared_error: 0.5079 - val_loss: 0.2021 - val_root_mean_squared_error: 0.3976\n"
     ]
    }
   ],
   "source": [
    "#Evaluate the best model\n",
    "print('best score = ',modelGrid.best_score_)\n",
    "best_params = modelGrid.best_params_\n",
    "print(best_params)\n",
    "\n",
    "model1 = createModel(**best_params)\n",
    "history = model1.fit(X_train, y_train, validation_data=(X_val, y_val), epochs=Epochs)"
   ],
   "metadata": {
    "collapsed": false,
    "pycharm": {
     "name": "#%%\n"
    }
   }
  },
  {
   "cell_type": "code",
   "execution_count": 16,
   "outputs": [
    {
     "name": "stdout",
     "output_type": "stream",
     "text": [
      "dict_keys(['loss', 'root_mean_squared_error', 'val_loss', 'val_root_mean_squared_error'])\n"
     ]
    },
    {
     "data": {
      "text/plain": "<Figure size 432x288 with 1 Axes>",
      "image/png": "[encoded data removed]"
     },
     "metadata": {
      "needs_background": "light"
     },
     "output_type": "display_data"
    },
    {
     "data": {
      "text/plain": "<Figure size 432x288 with 1 Axes>",
      "image/png": "[encoded data removed]"
     },
     "metadata": {
      "needs_background": "light"
     },
     "output_type": "display_data"
    }
   ],
   "source": [
    "# list all data in history\n",
    "print(history.history.keys())\n",
    "# summarize history for accuracy\n",
    "plt.plot(history.history['root_mean_squared_error'])\n",
    "plt.plot(history.history['loss'])\n",
    "plt.title('RMS')\n",
    "plt.ylabel('RMS')\n",
    "plt.xlabel('epoch')\n",
    "plt.legend(['train', 'validation'], loc='upper left')\n",
    "plt.show()\n",
    "# summarize history for loss\n",
    "plt.plot(history.history['val_root_mean_squared_error'])\n",
    "plt.plot(history.history['val_loss'])\n",
    "plt.title('model loss')\n",
    "plt.ylabel('loss')\n",
    "plt.xlabel('epoch')\n",
    "plt.legend(['train', 'validation'], loc='upper left')\n",
    "plt.show()"
   ],
   "metadata": {
    "collapsed": false,
    "pycharm": {
     "name": "#%%\n"
    }
   }
  },
  {
   "cell_type": "code",
   "execution_count": 17,
   "outputs": [],
   "source": [
    "test_predictions = model1.predict(X_test)"
   ],
   "metadata": {
    "collapsed": false,
    "pycharm": {
     "name": "#%%\n"
    }
   }
  },
  {
   "cell_type": "code",
   "execution_count": 18,
   "outputs": [],
   "source": [
    "X_test.insert(6,'RED',test_predictions)\n",
    "y_pred = sc.inverse_transform(X_test)[:,Features]\n",
    "X_test.drop('RED',axis=1).insert(Features,'RED',y_test)\n",
    "y_test = sc.inverse_transform(X_test)[:,Features]"
   ],
   "metadata": {
    "collapsed": false,
    "pycharm": {
     "name": "#%%\n"
    }
   }
  },
  {
   "cell_type": "code",
   "execution_count": 19,
   "outputs": [
    {
     "data": {
      "text/plain": "<Figure size 432x288 with 1 Axes>",
      "image/png": "[encoded data removed]"
     },
     "metadata": {
      "needs_background": "light"
     },
     "output_type": "display_data"
    }
   ],
   "source": [
    "from numpy.polynomial.polynomial import polyfit\n",
    "plt.scatter(y_test,y_pred)\n",
    "# Fit with polyfit\n",
    "b, m = polyfit(y_test, y_pred, 1)\n",
    "plt.plot(y_test, b + m * y_test, '--', color='red')\n",
    "plt.xlabel(\"Actual RED [mJ/cm^2]\")\n",
    "plt.ylabel(\"Predicted RED [mJ/cm^2]\")\n",
    "plt.show()"
   ],
   "metadata": {
    "collapsed": false,
    "pycharm": {
     "name": "#%%\n"
    }
   }
  },
  {
   "cell_type": "code",
   "execution_count": 20,
   "outputs": [
    {
     "data": {
      "text/plain": "<Figure size 432x288 with 1 Axes>",
      "image/png": "[encoded data removed]"
     },
     "metadata": {
      "needs_background": "light"
     },
     "output_type": "display_data"
    }
   ],
   "source": [
    "val_predictions = model1.predict(X_val)\n",
    "\n",
    "X_val.insert(6,'RED',val_predictions)\n",
    "y_pred = sc.inverse_transform(X_val)[:,Features]\n",
    "X_val.drop('RED',axis=1).insert(Features,'RED',y_val)\n",
    "y_val = sc.inverse_transform(X_val)[:,Features]\n",
    "\n",
    "plt.scatter(y_val,y_pred)\n",
    "# Fit with polyfit\n",
    "b, m = polyfit(y_val, y_pred, 1)\n",
    "plt.plot(y_val, b + m * y_val, '--', color='red')\n",
    "plt.xlabel(\"Actual RED [mJ/cm^2]\")\n",
    "plt.ylabel(\"Predicted RED [mJ/cm^2]\")\n",
    "plt.show()"
   ],
   "metadata": {
    "collapsed": false,
    "pycharm": {
     "name": "#%%\n"
    }
   }
  },
  {
   "cell_type": "code",
   "execution_count": 21,
   "outputs": [],
   "source": [
    "# Save model and scaler\n",
    "from pickle import dump\n",
    "model1.save('SavedModel_RED/REDmodel.h5')\n",
    "#dump(model1, open('SavedModel_RED/REDmodel.pkl', 'wb'))\n",
    "dump(sc, open('SavedModel_RED/scaler.pkl', 'wb'))"
   ],
   "metadata": {
    "collapsed": false,
    "pycharm": {
     "name": "#%%\n"
    }
   }
  },
  {
   "cell_type": "code",
   "execution_count": 22,
   "outputs": [],
   "source": [
    "# Features format is as following:\n",
    "# %T254,%T215,Flow,UVS,Actual Power,N,RED\n",
    "\n",
    "# RED is the target"
   ],
   "metadata": {
    "collapsed": false,
    "pycharm": {
     "name": "#%%\n"
    }
   }
  },
  {
   "cell_type": "code",
   "execution_count": 23,
   "outputs": [],
   "source": [
    "# Single testing point:\n",
    "#88.6,63.3,257.6,23.18,6.0,2,70.98\n",
    "#Target RED = 70.98\n",
    "\n",
    "UVT254 = 88.6 # [%-1cm]\n",
    "UVT215 = 63.3 # [%-1cm]\n",
    "Flow = 258 # [m^3/hr]\n",
    "UVS = 23.2 # [mJ/cm^2] - UV sensitivity aka D1Log\n",
    "Power = 6 # [kW]\n",
    "N_Lamps = 2\n",
    "\n",
    "X_vector = sc.transform(pd.DataFrame([np.exp(-UVT254/100),np.exp(-UVT215/100),Flow,UVS,Power,N_Lamps,1]).T)[:,:Features]\n",
    "# Dummy values added before the inverse transform due to the scaler preferences\n",
    "RED = sc.inverse_transform([1,1,1,1,1,1,float(model1.predict(X_vector))])[Features]"
   ],
   "metadata": {
    "collapsed": false,
    "pycharm": {
     "name": "#%%\n"
    }
   }
  },
  {
   "cell_type": "code",
   "execution_count": 24,
   "outputs": [
    {
     "name": "stdout",
     "output_type": "stream",
     "text": [
      "RED = 71.3[mJ/cm^2]\n"
     ]
    }
   ],
   "source": [
    "print('RED = {}[mJ/cm^2]'.format(round(float(RED),1)))"
   ],
   "metadata": {
    "collapsed": false,
    "pycharm": {
     "name": "#%%\n"
    }
   }
  }
 ],
 "metadata": {
  "kernelspec": {
   "display_name": "Python 3",
   "language": "python",
   "name": "python3"
  },
  "language_info": {
   "codemirror_mode": {
    "name": "ipython",
    "version": 2
   },
   "file_extension": ".py",
   "mimetype": "text/x-python",
   "name": "python",
   "nbconvert_exporter": "python",
   "pygments_lexer": "ipython2",
   "version": "2.7.6"
  }
 },
 "nbformat": 4,
 "nbformat_minor": 0
}